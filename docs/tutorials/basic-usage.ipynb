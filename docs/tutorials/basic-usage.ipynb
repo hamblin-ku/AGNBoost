{
 "cells": [
  {
   "cell_type": "markdown",
   "id": "e2999ab5-bd67-47f8-82b4-35c666250f7c",
   "metadata": {},
   "source": [
    "# AGNBoost Basic Usage Tutorial\n",
    "\n",
    "This notebook demonstrates the basic workflow for using AGNBoost to predict AGN fractions from photometric data. We'll walk through:\n",
    "\n",
    "1. Loading astronomical data with the Catalog class\n",
    "2. Exploring the dataset structure and properties\n",
    "3. Splitting data into training, validation, and test sets\n",
    "4. Cleaning the data by removing rows with missing values\n",
    "5. Loading a pre-trained AGN fraction model\n",
    "6. Making predictions with uncertainty quantification\n",
    "7. Evaluating model performance\n",
    "\n",
    "Let's start by importing the necessary libraries and loading our data."
   ]
  },
  {
   "cell_type": "code",
   "execution_count": 1,
   "id": "a5fe803d-ab16-4129-8063-1c82e7269e05",
   "metadata": {},
   "outputs": [],
   "source": [
    "%load_ext autoreload\n",
    "%autoreload 2"
   ]
  },
  {
   "cell_type": "code",
   "execution_count": 2,
   "id": "c1d413c9-7c2f-4e9c-9058-82f7c0cccb25",
   "metadata": {},
   "outputs": [
    {
     "name": "stderr",
     "output_type": "stream",
     "text": [
      "\u001b[32m2025-05-31 20:10:51.393\u001b[0m | \u001b[1mINFO    \u001b[0m | \u001b[36magnboost.config\u001b[0m:\u001b[36m<module>\u001b[0m:\u001b[36m11\u001b[0m - \u001b[1mPROJ_ROOT path is: /home/kurt/Documents/agnboost\u001b[0m\n"
     ]
    },
    {
     "name": "stdout",
     "output_type": "stream",
     "text": [
      "AGNBoost Basic Usage Tutorial\n",
      "========================================\n"
     ]
    }
   ],
   "source": [
    "# Set agnboost folder as root\n",
    "import os\n",
    "\n",
    "# Navigate to the repository root (parent directory of notebooks/)\n",
    "os.chdir('..')\n",
    "\n",
    "# Import necessary libraries\n",
    "import numpy as np\n",
    "import pandas as pd\n",
    "from agnboost import dataset, model\n",
    "\n",
    "# Set random seed for reproducibility\n",
    "np.random.seed(123)\n",
    "\n",
    "print(\"AGNBoost Basic Usage Tutorial\")\n",
    "print(\"=\" * 40)"
   ]
  },
  {
   "cell_type": "markdown",
   "id": "679d6ef8-add9-4e8f-a6fa-b18ac0cfa276",
   "metadata": {},
   "source": [
    "## Loading the Data\n",
    "\n",
    "We'll use the Catalog class to load our astronomical dataset. The `cigale_mock_small.csv` file contains is a small set of mock NIRCam+MIRI CIGALE galaxies for demonstration purposes."
   ]
  },
  {
   "cell_type": "code",
   "execution_count": 3,
   "id": "8b79da87-789e-4088-a35f-927491cfead8",
   "metadata": {},
   "outputs": [
    {
     "name": "stdout",
     "output_type": "stream",
     "text": [
      "Current working directory: /home/kurt/Documents/agnboost\n",
      "Looking for bands file at: /home/kurt/Documents/agnboost/allowed_bands.json\n",
      "[INFO] Loaded bands file metadata: This file contains the allowed photometric bands for JWST\n",
      "[INFO] Loaded 11 allowed bands from agnboost/allowed_bands.json\n",
      "[INFO] Attempting to load file with delimiter: ','\n",
      "[INFO] Successfully loaded data with 1000 rows.\n",
      "[INFO] Found 11 valid band columns:\n",
      "[INFO]   - jwst.nircam.F115W (F115W): 1.154 μm\n",
      "[INFO]   - jwst.nircam.F150W (F150W): 1.501 μm\n",
      "[INFO]   - jwst.nircam.F200W (F200W): 1.988 μm\n",
      "[INFO]   - jwst.nircam.F277W (F277W): 2.776 μm\n",
      "[INFO]   - jwst.nircam.F356W (F356W): 3.565 μm\n",
      "[INFO]   - jwst.nircam.F410M (F410M): 4.083 μm\n",
      "[INFO]   - jwst.nircam.F444W (F444W): 4.402 μm\n",
      "[INFO]   - jwst.miri.F770W (F770W): 7.7 μm\n",
      "[INFO]   - jwst.miri.F1000W (F1000W): 10.0 μm\n",
      "[INFO]   - jwst.miri.F1500W (F1500W): 15.0 μm\n",
      "[INFO]   - jwst.miri.F2100W (F2100W): 21.0 μm\n"
     ]
    }
   ],
   "source": [
    "# Load the astronomical data using the Catalog class\n",
    "catalog = dataset.Catalog(path=\"data/cigale_mock_small.csv\",summarize = False)\n"
   ]
  },
  {
   "cell_type": "code",
   "execution_count": 11,
   "id": "b162dbb4-b48f-4d82-bd50-51c276a0605e",
   "metadata": {},
   "outputs": [
    {
     "data": {
      "text/plain": [
       "{'jwst.nircam.F115W': {'shorthand': 'F115W', 'wavelength': 1.154},\n",
       " 'jwst.nircam.F150W': {'shorthand': 'F150W', 'wavelength': 1.501},\n",
       " 'jwst.nircam.F200W': {'shorthand': 'F200W', 'wavelength': 1.988},\n",
       " 'jwst.nircam.F277W': {'shorthand': 'F277W', 'wavelength': 2.776},\n",
       " 'jwst.nircam.F356W': {'shorthand': 'F356W', 'wavelength': 3.565},\n",
       " 'jwst.nircam.F410M': {'shorthand': 'F410M', 'wavelength': 4.083},\n",
       " 'jwst.nircam.F444W': {'shorthand': 'F444W', 'wavelength': 4.402},\n",
       " 'jwst.miri.F770W': {'shorthand': 'F770W', 'wavelength': 7.7},\n",
       " 'jwst.miri.F1000W': {'shorthand': 'F1000W', 'wavelength': 10.0},\n",
       " 'jwst.miri.F1500W': {'shorthand': 'F1500W', 'wavelength': 15.0},\n",
       " 'jwst.miri.F2100W': {'shorthand': 'F2100W', 'wavelength': 21.0}}"
      ]
     },
     "execution_count": 11,
     "metadata": {},
     "output_type": "execute_result"
    }
   ],
   "source": [
    "catalog.allowed_bands"
   ]
  },
  {
   "cell_type": "markdown",
   "id": "6931b09f-2b49-446f-82ae-b9010f5f1e54",
   "metadata": {},
   "source": [
    "## Exploring the Dataset\n",
    "\n",
    "Let's examine the structure of our data to understand what photometric bands are available and get basic statistics about our dataset. The `print_data_summary()` method provides comprehensive information about:\n",
    "\n",
    "- Dataset dimensions and memory usage\n",
    "- Photometric band validation and metadata\n",
    "- Column-by-column statistics including missing values\n",
    "- Summary statistics for numerical columns\n",
    "\n",
    "This information helps us understand data quality and identify any potential issues before modeling."
   ]
  },
  {
   "cell_type": "code",
   "execution_count": 4,
   "id": "535046dd-473b-49ff-9de3-856f0159858a",
   "metadata": {},
   "outputs": [
    {
     "name": "stdout",
     "output_type": "stream",
     "text": [
      "\n",
      "================================================================================\n",
      "DATA SUMMARY: cigale_mock_small.csv\n",
      "================================================================================\n",
      "Dimensions: 1000 rows × 26 columns\n",
      "Memory usage: 0.20 MB\n",
      "--------------------------------------------------------------------------------\n",
      "Valid Band Columns:\n",
      "--------------------------------------------------------------------------------\n",
      "Column Name                    Shorthand       Wavelength (μm)\n",
      "--------------------------------------------------------------------------------\n",
      "jwst.nircam.F115W              F115W           1.154          \n",
      "jwst.nircam.F150W              F150W           1.501          \n",
      "jwst.nircam.F200W              F200W           1.988          \n",
      "jwst.nircam.F277W              F277W           2.776          \n",
      "jwst.nircam.F356W              F356W           3.565          \n",
      "jwst.nircam.F410M              F410M           4.083          \n",
      "jwst.nircam.F444W              F444W           4.402          \n",
      "jwst.miri.F770W                F770W           7.700          \n",
      "jwst.miri.F1000W               F1000W          10.000         \n",
      "jwst.miri.F1500W               F1500W          15.000         \n",
      "jwst.miri.F2100W               F2100W          21.000         \n",
      "--------------------------------------------------------------------------------\n",
      "Column Information:\n",
      "--------------------------------------------------------------------------------\n",
      "Column Name                    Type            Non-Null        Null %    \n",
      "--------------------------------------------------------------------------------\n",
      "IRAC1                          float64         1000/1000            0.00%     \n",
      "IRAC2                          float64         1000/1000            0.00%     \n",
      "IRAC3                          float64         1000/1000            0.00%     \n",
      "IRAC4                          float64         1000/1000            0.00%     \n",
      "hst.acs.wfc.F606W              float64         1000/1000            0.00%     \n",
      "hst.acs.wfc.F814W              float64         1000/1000            0.00%     \n",
      "hst.wfc3.ir.F125W              float64         1000/1000            0.00%     \n",
      "hst.wfc3.ir.F140W              float64         1000/1000            0.00%     \n",
      "hst.wfc3.ir.F160W              float64         1000/1000            0.00%     \n",
      "jwst.miri.F1000W               float64         1000/1000            0.00%     \n",
      "jwst.miri.F1280W               float64         1000/1000            0.00%     \n",
      "jwst.miri.F1500W               float64         1000/1000            0.00%     \n",
      "jwst.miri.F1800W               float64         1000/1000            0.00%     \n",
      "jwst.miri.F2100W               float64         1000/1000            0.00%     \n",
      "jwst.miri.F770W                float64         1000/1000            0.00%     \n",
      "jwst.nircam.F115W              float64         1000/1000            0.00%     \n",
      "jwst.nircam.F150W              float64         1000/1000            0.00%     \n",
      "jwst.nircam.F200W              float64         1000/1000            0.00%     \n",
      "jwst.nircam.F277W              float64         1000/1000            0.00%     \n",
      "jwst.nircam.F356W              float64         1000/1000            0.00%     \n",
      "jwst.nircam.F410M              float64         1000/1000            0.00%     \n",
      "jwst.nircam.F444W              float64         1000/1000            0.00%     \n",
      "sfh.sfr100Myrs                 float64         1000/1000            0.00%     \n",
      "stellar.m_star                 float64         1000/1000            0.00%     \n",
      "agn.fracAGN                    float64         1000/1000            0.00%     \n",
      "universe.redshift              float64         1000/1000            0.00%     \n",
      "--------------------------------------------------------------------------------\n",
      "\n",
      "Numeric Column Statistics:\n",
      "--------------------------------------------------------------------------------\n",
      "Column               Mean         Std          Min          Max         \n",
      "--------------------------------------------------------------------------------\n",
      "IRAC1                57.9         1308         2.413e-06    4.098e+04   \n",
      "IRAC2                22.97        509.9        8.821e-07    1.596e+04   \n",
      "IRAC3                39.96        918          1.646e-06    2.879e+04   \n",
      "IRAC4                57.92        1309         2.413e-06    4.099e+04   \n",
      "hst.acs.wfc.F606W    0.311        5.52         0            169         \n",
      "hst.acs.wfc.F814W    0.3093       5.099        5.455e-13    155.8       \n",
      "hst.wfc3.ir.F125W    0.5148       6.576        1.614e-09    192.2       \n",
      "hst.wfc3.ir.F140W    0.6132       7.125        2.611e-09    196.7       \n",
      "hst.wfc3.ir.F160W    0.7412       7.991        4.119e-09    200.2       \n",
      "jwst.miri.F1000W     57.54        1356         3.049e-06    4.257e+04   \n",
      "jwst.miri.F1280W     71.4         1587         4.006e-06    4.97e+04    \n",
      "jwst.miri.F1500W     74.16        1638         4.475e-06    5.129e+04   \n",
      "jwst.miri.F1800W     82.2         1710         4.232e-06    5.339e+04   \n",
      "jwst.miri.F2100W     87.79        1773         4.001e-06    5.527e+04   \n",
      "jwst.miri.F770W      58.58        1315         2.288e-06    4.117e+04   \n",
      "jwst.nircam.F115W    0.461        6.317        1.192e-09    188.6       \n",
      "jwst.nircam.F150W    0.706        7.721        3.693e-09    198.7       \n",
      "jwst.nircam.F200W    1.482        15.31        1.959e-08    280.6       \n",
      "jwst.nircam.F277W    4.441        68.46        1.332e-07    2009        \n",
      "jwst.nircam.F356W    11.62        225.3        4.48e-07     6973        \n",
      "jwst.nircam.F410M    17.51        373          6.242e-07    1.164e+04   \n",
      "jwst.nircam.F444W    21.65        477          8.29e-07     1.492e+04   \n",
      "sfh.sfr100Myrs       4.765        4.403        4.765e-27    15.79       \n",
      "stellar.m_star       3.51e+09     2.551e+09    3.367e+07    7.388e+09   \n",
      "agn.fracAGN          0.4993       0.3164       0            0.99        \n",
      "universe.redshift    1.765        1.811        0.01         7.999       \n",
      "================================================================================\n",
      "\n",
      "\n",
      "Valid photometric bands found: 11\n",
      "  jwst.nircam.F115W: F115W (1.154 μm)\n",
      "  jwst.nircam.F150W: F150W (1.501 μm)\n",
      "  jwst.nircam.F200W: F200W (1.988 μm)\n",
      "  jwst.nircam.F277W: F277W (2.776 μm)\n",
      "  jwst.nircam.F356W: F356W (3.565 μm)\n",
      "  jwst.nircam.F410M: F410M (4.083 μm)\n",
      "  jwst.nircam.F444W: F444W (4.402 μm)\n",
      "  jwst.miri.F770W: F770W (7.7 μm)\n",
      "  jwst.miri.F1000W: F1000W (10.0 μm)\n",
      "  jwst.miri.F1500W: F1500W (15.0 μm)\n",
      "  jwst.miri.F2100W: F2100W (21.0 μm)\n",
      "\n",
      "Target variable 'agn.fracAGN' found in dataset\n",
      "Target variable statistics:\n",
      "count    1000.000000\n",
      "mean        0.499330\n",
      "std         0.316352\n",
      "min         0.000000\n",
      "25%         0.200000\n",
      "50%         0.500000\n",
      "75%         0.800000\n",
      "max         0.990000\n",
      "Name: agn.fracAGN, dtype: float64\n"
     ]
    }
   ],
   "source": [
    "# Display comprehensive data summary\n",
    "catalog.print_data_summary()\n",
    "\n",
    "# Check which photometric bands were validated\n",
    "valid_bands = catalog.get_valid_bands()\n",
    "print(f\"\\nValid photometric bands found: {len(valid_bands)}\")\n",
    "for band_name, info in valid_bands.items():\n",
    "    print(f\"  {band_name}: {info['shorthand']} ({info['wavelength']} μm)\")\n",
    "\n",
    "# Check if our target variable exists\n",
    "target_column = 'agn.fracAGN'\n",
    "if target_column in catalog.get_data().columns:\n",
    "    print(f\"\\nTarget variable '{target_column}' found in dataset\")\n",
    "    target_stats = catalog.get_data()[target_column].describe()\n",
    "    print(\"Target variable statistics:\")\n",
    "    print(target_stats)\n",
    "else:\n",
    "    print(f\"Warning: Target variable '{target_column}' not found in dataset\")\n",
    "    print(\"Available columns:\", list(catalog.get_data().columns))"
   ]
  },
  {
   "cell_type": "markdown",
   "id": "3bc1b14a-67d6-4616-94d6-00ca86911c69",
   "metadata": {},
   "source": [
    "## Creating Train/Test/Validation Splits\n",
    "\n",
    "Before any modeling, we need to split our data into separate sets for training, validation, and testing. AGNBoost provides intelligent data splitting with optional stratification to ensure representative samples across all splits.\n",
    "\n",
    "We'll use the default split ratios:\n",
    "- 60% for training\n",
    "- 20% for validation  \n",
    "- 20% for testing\n",
    "\n",
    "The random state ensures reproducible results. This step is not strictly necessary, as AGNBoost will internally perform the split if it has not explicitly been done."
   ]
  },
  {
   "cell_type": "code",
   "execution_count": 5,
   "id": "74948d0c-4867-4f45-b4a9-63f618259095",
   "metadata": {},
   "outputs": [
    {
     "name": "stdout",
     "output_type": "stream",
     "text": [
      "Data split summary:\n",
      "  Total samples: 1000\n",
      "  Training: 600 (60.0%)\n",
      "  Validation: 200 (20.0%)\n",
      "  Test: 200 (20.0%)\n"
     ]
    }
   ],
   "source": [
    "# Create train/validation/test splitsget_train_val_test_sizes\n",
    "catalog.split_data(test_size=0.2, val_size=0.2, random_state=42)\n",
    "\n",
    "# Get split information\n",
    "split_info = catalog.get_train_val_test_sizes()\n",
    "print(\"Data split summary:\")\n",
    "print(f\"  Total samples: {split_info['total']}\")\n",
    "print(f\"  Training: {split_info['train']['size']} ({split_info['train']['percentage']:.1f}%)\")\n",
    "print(f\"  Validation: {split_info['validation']['size']} ({split_info['validation']['percentage']:.1f}%)\")\n",
    "print(f\"  Test: {split_info['test']['size']} ({split_info['test']['percentage']:.1f}%)\")"
   ]
  },
  {
   "cell_type": "markdown",
   "id": "e55f30a3-4ea2-4a15-a44c-f08fb6650f86",
   "metadata": {},
   "source": [
    "## Cleaning the Data\n",
    "\n",
    "Real astronomical datasets often contain missing values due to various observational limitations. Before training or making predictions, we will remove rows that have NaN values in critical columns.\n",
    "\n",
    "The `drop_nan()` method removes rows with missing values in the validated photometric band columns, ensuring our model receives complete data for all features."
   ]
  },
  {
   "cell_type": "code",
   "execution_count": 6,
   "id": "ce8d27e7-95f4-4a43-9d61-ad826e8b9c28",
   "metadata": {},
   "outputs": [
    {
     "name": "stdout",
     "output_type": "stream",
     "text": [
      "[INFO] No rows with NaN values found in the specified columns.\n"
     ]
    }
   ],
   "source": [
    "# Drop rows with NaN values in the validated columns\n",
    "catalog.drop_nan(inplace=True)\n"
   ]
  },
  {
   "cell_type": "markdown",
   "id": "3144d913-ebd2-4987-be00-b319aecef60b",
   "metadata": {},
   "source": [
    "There are no-nan rows to remove since the CIGALE mock data we loaded has none, but your real data might."
   ]
  },
  {
   "cell_type": "markdown",
   "id": "ff7a9c97-2b1c-484d-a820-40292f3f0701",
   "metadata": {},
   "source": [
    "## Creating Features\n",
    "\n",
    "AGNBoost automatically engineers features from photometric data, including colors and transformations. Let's create the feature dataframe that will be used for modeling.\n",
    "\n",
    "By default, AGNBoost will create a features consisting of the photometric bands + derived colors + the squares of those derived colors"
   ]
  },
  {
   "cell_type": "code",
   "execution_count": 7,
   "id": "cb3f2a12-66b1-4772-8dad-feedce0369f3",
   "metadata": {},
   "outputs": [
    {
     "name": "stdout",
     "output_type": "stream",
     "text": [
      "[INFO] Created feature dataframe with 121 columns and 1000 rows.\n",
      "[INFO] Created features are: ['jwst.nircam.F115W', 'jwst.nircam.F150W', 'jwst.nircam.F200W', 'jwst.nircam.F277W', 'jwst.nircam.F356W', 'jwst.nircam.F410M', 'jwst.nircam.F444W', 'jwst.miri.F770W', 'jwst.miri.F1000W', 'jwst.miri.F1500W', 'jwst.miri.F2100W', 'F2100W/F1500W', 'F2100W/F1000W', 'F2100W/F770W', 'F2100W/F444W', 'F2100W/F410M', 'F2100W/F356W', 'F2100W/F277W', 'F2100W/F200W', 'F2100W/F150W', 'F2100W/F115W', 'F1500W/F1000W', 'F1500W/F770W', 'F1500W/F444W', 'F1500W/F410M', 'F1500W/F356W', 'F1500W/F277W', 'F1500W/F200W', 'F1500W/F150W', 'F1500W/F115W', 'F1000W/F770W', 'F1000W/F444W', 'F1000W/F410M', 'F1000W/F356W', 'F1000W/F277W', 'F1000W/F200W', 'F1000W/F150W', 'F1000W/F115W', 'F770W/F444W', 'F770W/F410M', 'F770W/F356W', 'F770W/F277W', 'F770W/F200W', 'F770W/F150W', 'F770W/F115W', 'F444W/F410M', 'F444W/F356W', 'F444W/F277W', 'F444W/F200W', 'F444W/F150W', 'F444W/F115W', 'F410M/F356W', 'F410M/F277W', 'F410M/F200W', 'F410M/F150W', 'F410M/F115W', 'F356W/F277W', 'F356W/F200W', 'F356W/F150W', 'F356W/F115W', 'F277W/F200W', 'F277W/F150W', 'F277W/F115W', 'F200W/F150W', 'F200W/F115W', 'F150W/F115W', 'F2100W/F1500W^2', 'F2100W/F1000W^2', 'F2100W/F770W^2', 'F2100W/F444W^2', 'F2100W/F410M^2', 'F2100W/F356W^2', 'F2100W/F277W^2', 'F2100W/F200W^2', 'F2100W/F150W^2', 'F2100W/F115W^2', 'F1500W/F1000W^2', 'F1500W/F770W^2', 'F1500W/F444W^2', 'F1500W/F410M^2', 'F1500W/F356W^2', 'F1500W/F277W^2', 'F1500W/F200W^2', 'F1500W/F150W^2', 'F1500W/F115W^2', 'F1000W/F770W^2', 'F1000W/F444W^2', 'F1000W/F410M^2', 'F1000W/F356W^2', 'F1000W/F277W^2', 'F1000W/F200W^2', 'F1000W/F150W^2', 'F1000W/F115W^2', 'F770W/F444W^2', 'F770W/F410M^2', 'F770W/F356W^2', 'F770W/F277W^2', 'F770W/F200W^2', 'F770W/F150W^2', 'F770W/F115W^2', 'F444W/F410M^2', 'F444W/F356W^2', 'F444W/F277W^2', 'F444W/F200W^2', 'F444W/F150W^2', 'F444W/F115W^2', 'F410M/F356W^2', 'F410M/F277W^2', 'F410M/F200W^2', 'F410M/F150W^2', 'F410M/F115W^2', 'F356W/F277W^2', 'F356W/F200W^2', 'F356W/F150W^2', 'F356W/F115W^2', 'F277W/F200W^2', 'F277W/F150W^2', 'F277W/F115W^2', 'F200W/F150W^2', 'F200W/F115W^2', 'F150W/F115W^2']\n",
      "Feature engineering complete:\n",
      "  Feature dataframe shape: (1000, 121)\n"
     ]
    }
   ],
   "source": [
    "# Create features for modeling\n",
    "catalog.create_feature_dataframe()\n",
    "\n",
    "# Get information about created features\n",
    "features = catalog.get_features()\n",
    "print(f\"Feature engineering complete:\")\n",
    "print(f\"  Feature dataframe shape: {features.shape}\")\n"
   ]
  },
  {
   "cell_type": "markdown",
   "id": "f11e154d-69d0-49b1-b74c-aa61c0d8483e",
   "metadata": {},
   "source": [
    "## Loading the Pre-trained Model\n",
    "\n",
    "AGNBoost comes with pre-trained models for common astronomical tasks. We'll load the model specifically trained for AGN fraction estimation (`agn.fracAGN`).\n",
    "\n",
    "The `load_models()` method automatically:\n",
    "- Checks for compatible pre-trained models\n",
    "- Validates feature compatibility between the model and our data\n",
    "- Loads model metadata including training parameters and performance metrics"
   ]
  },
  {
   "cell_type": "code",
   "execution_count": 8,
   "id": "590e76a3-04d6-4c4f-81ec-6ef6d0058bfa",
   "metadata": {},
   "outputs": [
    {
     "name": "stderr",
     "output_type": "stream",
     "text": [
      "2025-05-31 20:10:53,543 - AGNBoost.AGNBoost - WARNING - No file_name passed. Using the most recently modified one instead: 2025_05_22-PM06_59_58_agn.fracAGN_model.pkl.gz.\n"
     ]
    },
    {
     "name": "stdout",
     "output_type": "stream",
     "text": [
      "✅ Pre-trained model loaded successfully!\n",
      "\n",
      "Model information:\n",
      "  Best validation score: -649218.125000\n",
      "  Number of features: 121\n"
     ]
    }
   ],
   "source": [
    "# Initialize an AGNBoost model. The target variable is the name of the target variable column, and its value in the passed dictionary is the distribution used to model it.\n",
    "agnboost_m = model.AGNBoost( feature_names = catalog.get_feature_names(),\n",
    "                          target_variables = {'agn.fracAGN' : 'ZABeta'},\n",
    "                         )\n",
    "\n",
    "# Load pre-trained models. We will not pass a filename to load, and will simply the the most recent fracAGN model.\n",
    "agnboost_m.load_model(model_name = 'fracAGN', overwrite = True)\n",
    "\n",
    "if agnboost_m.models['agn.fracAGN'] is not None:\n",
    "    print(\"✅ Pre-trained model loaded successfully!\")\n",
    "    \n",
    "    # Display model information\n",
    "    model_info = agnboost_m.model_info.get('agn.fracAGN', {})\n",
    "    if model_info:\n",
    "        print(\"\\nModel information:\")\n",
    "        if 'training_timestamp' in model_info:\n",
    "            print(f\"  Trained: {model_info['training_timestamp']}\")\n",
    "        if 'best_score' in model_info:\n",
    "            print(f\"  Best validation score: {model_info['best_score']:.6f}\")\n",
    "        if 'features' in model_info:\n",
    "            print(f\"  Number of features: {len(model_info['features'])}\")\n",
    "else:\n",
    "    print(\"❌ No pre-trained models found!\")\n",
    "    print(\"You may need to train a new model or check the models directory.\")"
   ]
  },
  {
   "cell_type": "markdown",
   "id": "1a7c0da7-4e33-48a5-9a61-0d2272bf0649",
   "metadata": {},
   "source": [
    "## Making Predictions\n",
    "\n",
    "Now we'll use our loaded model to predict AGN fractions for the test set. AGNBoost seamlessly handles the conversion of our catalog data into the format required by the underlying XGBoost model.\n",
    "\n",
    "The prediction process uses the engineered features (colors, log magnitudes, etc.) that were automatically created from our photometric band data."
   ]
  },
  {
   "cell_type": "code",
   "execution_count": 9,
   "id": "ce129cb0-80a7-4a26-b45c-357feb219538",
   "metadata": {},
   "outputs": [
    {
     "name": "stderr",
     "output_type": "stream",
     "text": [
      "2025-05-31 20:10:55,651 - AGNBoost.AGNBoost - WARNING - Catalog object passsed. Taking the features and labels of the test set stored in the passed Catalog.\n"
     ]
    },
    {
     "name": "stdout",
     "output_type": "stream",
     "text": [
      "  Mean: 0.504962\n",
      "  Std: 0.325251\n",
      "  Min: 0.000308\n",
      "  Max: 0.989859\n"
     ]
    }
   ],
   "source": [
    "# Make predictions on the test set\n",
    "#agnboost_m.models['agn.fracAGN'].booster.set_param( {'device': 'cpu'})\n",
    "preds = agnboost_m.predict( data = catalog, split_use = 'test', model_name = 'agn.fracAGN')\n",
    "\n",
    "print(f\"  Mean: {np.mean(preds):.6f}\")\n",
    "print(f\"  Std: {np.std(preds):.6f}\")\n",
    "print(f\"  Min: {np.min(preds):.6f}\")\n",
    "print(f\"  Max: {np.max(preds):.6f}\")\n"
   ]
  },
  {
   "cell_type": "markdown",
   "id": "2a532c6a-744f-490a-9989-3379efcebd96",
   "metadata": {},
   "source": [
    "## Quantifying Prediction Uncertainty\n",
    "\n",
    "One of AGNBoost's key advantages is its ability to provide robust uncertainty estimates through XGBoostLSS distributional modeling. Rather than just point estimates, we get full uncertainty quantification for each prediction.\n",
    "\n",
    "The `prediction_uncertainty()` method returns uncertainty estimates that account for both model uncertainty and the inherent variability in the data. This is crucial for astronomical applications where understanding prediction confidence is essential for scientific interpretation.\n",
    "\n",
    "Since the loaded data is a CIGALE mock catalog with no photometric uncertainty, we will only estimate the model (aleatoric + epistemic) uncertainty for each source."
   ]
  },
  {
   "cell_type": "code",
   "execution_count": 10,
   "id": "6e06ebd1-294a-4f96-854f-c37c98649a25",
   "metadata": {},
   "outputs": [
    {
     "name": "stderr",
     "output_type": "stream",
     "text": [
      "2025-05-31 20:10:55,838 - AGNBoost.AGNBoost - WARNING - Catalog object passsed. Taking the features and labels of the None set stored in the passed Catalog.\n",
      "Processing truncated model uncertainty:  38%|▍| 376/1000 [03:06<05:09,  2.02it/s\n"
     ]
    },
    {
     "ename": "KeyboardInterrupt",
     "evalue": "",
     "output_type": "error",
     "traceback": [
      "\u001b[0;31m---------------------------------------------------------------------------\u001b[0m",
      "\u001b[0;31mKeyboardInterrupt\u001b[0m                         Traceback (most recent call last)",
      "Cell \u001b[0;32mIn[10], line 1\u001b[0m\n\u001b[0;32m----> 1\u001b[0m model_uncertainty \u001b[38;5;241m=\u001b[39m \u001b[43magnboost_m\u001b[49m\u001b[38;5;241;43m.\u001b[39;49m\u001b[43mprediction_uncertainty\u001b[49m\u001b[43m(\u001b[49m\u001b[43m \u001b[49m\u001b[43muncertainty_type\u001b[49m\u001b[43m \u001b[49m\u001b[38;5;241;43m=\u001b[39;49m\u001b[43m \u001b[49m\u001b[38;5;124;43m'\u001b[39;49m\u001b[38;5;124;43mmodel\u001b[39;49m\u001b[38;5;124;43m'\u001b[39;49m\u001b[43m,\u001b[49m\u001b[43m \u001b[49m\u001b[43mmodel_name\u001b[49m\u001b[43m \u001b[49m\u001b[38;5;241;43m=\u001b[39;49m\u001b[43m \u001b[49m\u001b[38;5;124;43m'\u001b[39;49m\u001b[38;5;124;43magn.fracAGN\u001b[39;49m\u001b[38;5;124;43m'\u001b[39;49m\u001b[43m,\u001b[49m\u001b[43m \u001b[49m\u001b[43mcatalog\u001b[49m\u001b[43m \u001b[49m\u001b[38;5;241;43m=\u001b[39;49m\u001b[43m \u001b[49m\u001b[43mcatalog\u001b[49m\u001b[43m)\u001b[49m\n\u001b[1;32m      3\u001b[0m \u001b[38;5;28mprint\u001b[39m(\u001b[38;5;124mf\u001b[39m\u001b[38;5;124m\"\u001b[39m\u001b[38;5;124m✅ Uncertainty estimates generated\u001b[39m\u001b[38;5;124m\"\u001b[39m)\n\u001b[1;32m      4\u001b[0m \u001b[38;5;28mprint\u001b[39m(\u001b[38;5;124mf\u001b[39m\u001b[38;5;124m\"\u001b[39m\u001b[38;5;124mUncertainty statistics:\u001b[39m\u001b[38;5;124m\"\u001b[39m)\n",
      "File \u001b[0;32m~/Documents/agnboost/agnboost/model.py:975\u001b[0m, in \u001b[0;36mAGNBoost.prediction_uncertainty\u001b[0;34m(self, uncertainty_type, catalog, model_name, split_use, seed, M, num_permutation)\u001b[0m\n\u001b[1;32m    970\u001b[0m \u001b[38;5;66;03m# Load the saved model + validate the features\u001b[39;00m\n\u001b[1;32m    971\u001b[0m xgblss_m \u001b[38;5;241m=\u001b[39m \u001b[38;5;28mself\u001b[39m\u001b[38;5;241m.\u001b[39mget_model(model_name)\n\u001b[1;32m    973\u001b[0m \u001b[38;5;28;01mmatch\u001b[39;00m uncertainty_type:\n\u001b[1;32m    974\u001b[0m     \u001b[38;5;28;01mcase\u001b[39;00m \u001b[38;5;124m'\u001b[39m\u001b[38;5;124mmodel\u001b[39m\u001b[38;5;124m'\u001b[39m:\n\u001b[0;32m--> 975\u001b[0m         model_uncertainty \u001b[38;5;241m=\u001b[39m \u001b[38;5;28;43mself\u001b[39;49m\u001b[38;5;241;43m.\u001b[39;49m\u001b[43mmodel_uncertainty\u001b[49m\u001b[43m(\u001b[49m\u001b[43m \u001b[49m\u001b[43mmodel\u001b[49m\u001b[43m \u001b[49m\u001b[38;5;241;43m=\u001b[39;49m\u001b[43m \u001b[49m\u001b[43mxgblss_m\u001b[49m\u001b[43m,\u001b[49m\n\u001b[1;32m    976\u001b[0m \u001b[43m                                                     \u001b[49m\u001b[43mdata\u001b[49m\u001b[43m \u001b[49m\u001b[38;5;241;43m=\u001b[39;49m\u001b[43m \u001b[49m\u001b[43mdmatrix\u001b[49m\u001b[43m,\u001b[49m\u001b[43m \u001b[49m\n\u001b[1;32m    977\u001b[0m \u001b[43m                                                     \u001b[49m\u001b[43mdist_name\u001b[49m\u001b[43m \u001b[49m\u001b[38;5;241;43m=\u001b[39;49m\u001b[43m \u001b[49m\u001b[38;5;28;43mself\u001b[39;49m\u001b[38;5;241;43m.\u001b[39;49m\u001b[43mtarget_variables\u001b[49m\u001b[43m[\u001b[49m\u001b[43mmodel_name\u001b[49m\u001b[43m]\u001b[49m\u001b[43m,\u001b[49m\n\u001b[1;32m    978\u001b[0m \u001b[43m                                                     \u001b[49m\u001b[43mbest_iter\u001b[49m\u001b[43m \u001b[49m\u001b[38;5;241;43m=\u001b[39;49m\u001b[43m \u001b[49m\u001b[43mxgblss_m\u001b[49m\u001b[38;5;241;43m.\u001b[39;49m\u001b[43mbooster\u001b[49m\u001b[38;5;241;43m.\u001b[39;49m\u001b[43mbest_iteration\u001b[49m\u001b[43m,\u001b[49m\u001b[43m \u001b[49m\n\u001b[1;32m    979\u001b[0m \u001b[43m                                                     \u001b[49m\u001b[43mM\u001b[49m\u001b[43m \u001b[49m\u001b[38;5;241;43m=\u001b[39;49m\u001b[43m \u001b[49m\u001b[43mM\u001b[49m\n\u001b[1;32m    980\u001b[0m \u001b[43m                                                     \u001b[49m\u001b[43m)\u001b[49m\n\u001b[1;32m    981\u001b[0m         \u001b[38;5;28;01mreturn\u001b[39;00m model_uncertainty\n\u001b[1;32m    982\u001b[0m \n\u001b[1;32m    983\u001b[0m     \u001b[38;5;28;01mcase\u001b[39;00m \u001b[38;5;124m'\u001b[39m\u001b[38;5;124mphotometric\u001b[39m\u001b[38;5;124m'\u001b[39m:\n\u001b[1;32m    984\u001b[0m         uncertainty_from_phot_err \u001b[38;5;241m=\u001b[39m \u001b[38;5;28mself\u001b[39m\u001b[38;5;241m.\u001b[39muncertainty_phot( model \u001b[38;5;241m=\u001b[39mxgblss_m,\n\u001b[1;32m    985\u001b[0m                                                             catalog \u001b[38;5;241m=\u001b[39m catalog,\n\u001b[1;32m    986\u001b[0m                                                             dist_name \u001b[38;5;241m=\u001b[39m \u001b[38;5;28mself\u001b[39m\u001b[38;5;241m.\u001b[39mtarget_variables[model_name],\n\u001b[1;32m    987\u001b[0m                                                             num_permutation \u001b[38;5;241m=\u001b[39m num_permutation,\n\u001b[1;32m    988\u001b[0m                                                             seed \u001b[38;5;241m=\u001b[39m seed\n\u001b[1;32m    989\u001b[0m                                                             )\n\u001b[1;32m    990\u001b[0m         \u001b[38;5;28;01mreturn\u001b[39;00m uncertainty_from_phot_err\n\u001b[1;32m    991\u001b[0m \n\u001b[1;32m    992\u001b[0m     \u001b[38;5;28;01mcase\u001b[39;00m \u001b[38;5;124m'\u001b[39m\u001b[38;5;124mall\u001b[39m\u001b[38;5;124m'\u001b[39m:\n\u001b[1;32m    993\u001b[0m         model_uncertainty \u001b[38;5;241m=\u001b[39m \u001b[38;5;28mself\u001b[39m\u001b[38;5;241m.\u001b[39mmodel_uncertainty( model \u001b[38;5;241m=\u001b[39m xgblss_m,\n\u001b[1;32m    994\u001b[0m                                                      data \u001b[38;5;241m=\u001b[39m dmatrix, \n\u001b[1;32m    995\u001b[0m                                                      dist_name \u001b[38;5;241m=\u001b[39m \u001b[38;5;28mself\u001b[39m\u001b[38;5;241m.\u001b[39mtarget_variables[model_name],\n\u001b[1;32m    996\u001b[0m                                                      best_iter \u001b[38;5;241m=\u001b[39m xgblss_m\u001b[38;5;241m.\u001b[39mbooster\u001b[38;5;241m.\u001b[39mbest_iteration, \n\u001b[1;32m    997\u001b[0m                                                      M \u001b[38;5;241m=\u001b[39m M\n\u001b[1;32m    998\u001b[0m                                                      )\n\u001b[1;32m    999\u001b[0m \n\u001b[1;32m   1000\u001b[0m         uncertainty_from_phot_err \u001b[38;5;241m=\u001b[39m \u001b[38;5;28mself\u001b[39m\u001b[38;5;241m.\u001b[39muncertainty_phot( model \u001b[38;5;241m=\u001b[39mxgblss_m,\n\u001b[1;32m   1001\u001b[0m                                                             catalog \u001b[38;5;241m=\u001b[39m catalog,\n\u001b[1;32m   1002\u001b[0m                                                             dist_name \u001b[38;5;241m=\u001b[39m \u001b[38;5;28mself\u001b[39m\u001b[38;5;241m.\u001b[39mtarget_variables[model_name],\n\u001b[1;32m   1003\u001b[0m                                                             num_permutation \u001b[38;5;241m=\u001b[39m num_permutation,\n\u001b[1;32m   1004\u001b[0m                                                             seed \u001b[38;5;241m=\u001b[39m seed\n\u001b[1;32m   1005\u001b[0m                                                             )\n\u001b[1;32m   1006\u001b[0m \n\u001b[1;32m   1007\u001b[0m         \u001b[38;5;28;01mreturn\u001b[39;00m np\u001b[38;5;241m.\u001b[39marray( [np\u001b[38;5;241m.\u001b[39msqrt(model_uncertainty[i]\u001b[38;5;241m*\u001b[39m\u001b[38;5;241m*\u001b[39m\u001b[38;5;241m2\u001b[39m \u001b[38;5;241m+\u001b[39m uncertainty_from_phot_err[i]\u001b[38;5;241m*\u001b[39m\u001b[38;5;241m*\u001b[39m\u001b[38;5;241m2\u001b[39m) \u001b[38;5;28;01mfor\u001b[39;00m i \u001b[38;5;129;01min\u001b[39;00m \u001b[38;5;28mrange\u001b[39m( catalog\u001b[38;5;241m.\u001b[39mget_length() )] )\n\u001b[1;32m   1009\u001b[0m \u001b[38;5;28;01mreturn\u001b[39;00m \u001b[38;5;28;01mNone\u001b[39;00m\n",
      "File \u001b[0;32m~/Documents/agnboost/agnboost/model.py:1100\u001b[0m, in \u001b[0;36mAGNBoost.model_uncertainty\u001b[0;34m(model, data, dist_name, best_iter, M, seed)\u001b[0m\n\u001b[1;32m   1095\u001b[0m     \u001b[38;5;28;01mfor\u001b[39;00m j \u001b[38;5;129;01min\u001b[39;00m \u001b[38;5;28mrange\u001b[39m(\u001b[38;5;28mlen\u001b[39m(iteration_grid)):\n\u001b[1;32m   1096\u001b[0m         \u001b[38;5;66;03m# Need to add 1 to iteration grid value because booster.preeict evaluates on [a, b)\u001b[39;00m\n\u001b[1;32m   1097\u001b[0m         pred_params \u001b[38;5;241m=\u001b[39m predict_dist_trunc(dist \u001b[38;5;241m=\u001b[39m model\u001b[38;5;241m.\u001b[39mdist, booster \u001b[38;5;241m=\u001b[39m model\u001b[38;5;241m.\u001b[39mbooster, start_values \u001b[38;5;241m=\u001b[39m model\u001b[38;5;241m.\u001b[39mstart_values, data \u001b[38;5;241m=\u001b[39m data\u001b[38;5;241m.\u001b[39mslice([i]), iteration_range \u001b[38;5;241m=\u001b[39m (\u001b[38;5;241m0\u001b[39m, \u001b[38;5;28mint\u001b[39m(iteration_grid[j]) \u001b[38;5;241m+\u001b[39m \u001b[38;5;241m1\u001b[39m) )\n\u001b[0;32m-> 1100\u001b[0m         pred_mus[i, j] \u001b[38;5;241m=\u001b[39m \u001b[43mpredict_mean\u001b[49m\u001b[43m(\u001b[49m\u001b[43m \u001b[49m\u001b[43mtrained_model\u001b[49m\u001b[43m \u001b[49m\u001b[38;5;241;43m=\u001b[39;49m\u001b[43m \u001b[49m\u001b[43mmodel\u001b[49m\u001b[43m,\u001b[49m\u001b[43m \u001b[49m\n\u001b[1;32m   1101\u001b[0m \u001b[43m                                    \u001b[49m\u001b[43mdist_name\u001b[49m\u001b[43m \u001b[49m\u001b[38;5;241;43m=\u001b[39;49m\u001b[43m \u001b[49m\u001b[43mdist_name\u001b[49m\u001b[43m,\u001b[49m\n\u001b[1;32m   1102\u001b[0m \u001b[43m                                    \u001b[49m\u001b[43mdata\u001b[49m\u001b[43m \u001b[49m\u001b[38;5;241;43m=\u001b[39;49m\u001b[43m \u001b[49m\u001b[43mdata\u001b[49m\u001b[38;5;241;43m.\u001b[39;49m\u001b[43mslice\u001b[49m\u001b[43m(\u001b[49m\u001b[43m[\u001b[49m\u001b[43mi\u001b[49m\u001b[43m]\u001b[49m\u001b[43m)\u001b[49m\u001b[43m,\u001b[49m\n\u001b[1;32m   1103\u001b[0m \u001b[43m                                    \u001b[49m\u001b[43mseed\u001b[49m\u001b[43m \u001b[49m\u001b[38;5;241;43m=\u001b[39;49m\u001b[43m \u001b[49m\u001b[43mseed\u001b[49m\n\u001b[1;32m   1104\u001b[0m \u001b[43m                                     \u001b[49m\u001b[43m)\u001b[49m\n\u001b[1;32m   1106\u001b[0m         pred_stds[i, j] \u001b[38;5;241m=\u001b[39m predict_std( trained_model \u001b[38;5;241m=\u001b[39m model, \n\u001b[1;32m   1107\u001b[0m                     dist_name \u001b[38;5;241m=\u001b[39m dist_name,\n\u001b[1;32m   1108\u001b[0m                     data \u001b[38;5;241m=\u001b[39m data\u001b[38;5;241m.\u001b[39mslice([i]),\n\u001b[1;32m   1109\u001b[0m                     seed \u001b[38;5;241m=\u001b[39m seed\n\u001b[1;32m   1110\u001b[0m                      )\n\u001b[1;32m   1112\u001b[0m epistemic_uncert \u001b[38;5;241m=\u001b[39m pred_mus\u001b[38;5;241m.\u001b[39mstd(axis \u001b[38;5;241m=\u001b[39m \u001b[38;5;241m1\u001b[39m)\n",
      "File \u001b[0;32m~/Documents/agnboost/agnboost/utils.py:219\u001b[0m, in \u001b[0;36mpredict_mean\u001b[0;34m(trained_model, dist_name, data, seed)\u001b[0m\n\u001b[1;32m    213\u001b[0m \u001b[38;5;28;01mdef\u001b[39;00m \u001b[38;5;21mpredict_mean\u001b[39m( trained_model: xgboostlss_model,\n\u001b[1;32m    214\u001b[0m                 dist_name : \u001b[38;5;28mstr\u001b[39m,\n\u001b[1;32m    215\u001b[0m                 data : DMatrix,\n\u001b[1;32m    216\u001b[0m                 seed : \u001b[38;5;28mint\u001b[39m \u001b[38;5;241m=\u001b[39m \u001b[38;5;241m123\u001b[39m\n\u001b[1;32m    217\u001b[0m                     ):\n\u001b[0;32m--> 219\u001b[0m     pred_params \u001b[38;5;241m=\u001b[39m \u001b[43mtrained_model\u001b[49m\u001b[38;5;241;43m.\u001b[39;49m\u001b[43mpredict\u001b[49m\u001b[43m(\u001b[49m\u001b[43mdata\u001b[49m\u001b[43m \u001b[49m\u001b[38;5;241;43m=\u001b[39;49m\u001b[43m \u001b[49m\u001b[43mdata\u001b[49m\u001b[43m,\u001b[49m\u001b[43m \u001b[49m\u001b[43mpred_type\u001b[49m\u001b[43m \u001b[49m\u001b[38;5;241;43m=\u001b[39;49m\u001b[43m \u001b[49m\u001b[38;5;124;43m\"\u001b[39;49m\u001b[38;5;124;43mparameters\u001b[39;49m\u001b[38;5;124;43m\"\u001b[39;49m\u001b[43m,\u001b[49m\u001b[43m \u001b[49m\u001b[43mseed\u001b[49m\u001b[43m \u001b[49m\u001b[38;5;241;43m=\u001b[39;49m\u001b[43m \u001b[49m\u001b[43mseed\u001b[49m\u001b[43m)\u001b[49m\n\u001b[1;32m    221\u001b[0m     \u001b[38;5;28;01mmatch\u001b[39;00m dist_name:\n\u001b[1;32m    222\u001b[0m         \u001b[38;5;28;01mcase\u001b[39;00m \u001b[38;5;124m\"\u001b[39m\u001b[38;5;124mZABeta\u001b[39m\u001b[38;5;124m\"\u001b[39m:\n\u001b[1;32m    223\u001b[0m             mu_array \u001b[38;5;241m=\u001b[39m predict_mean_fromparams_ZABeta( params \u001b[38;5;241m=\u001b[39m pred_params,  seed \u001b[38;5;241m=\u001b[39m seed)\n\u001b[1;32m    225\u001b[0m     \u001b[38;5;28;01mreturn\u001b[39;00m mu_array\n",
      "File \u001b[0;32m~/anaconda3/envs/python311_clone/lib/python3.11/site-packages/xgboostlss/model.py:499\u001b[0m, in \u001b[0;36mXGBoostLSS.predict\u001b[0;34m(self, data, pred_type, n_samples, quantiles, seed)\u001b[0m\n\u001b[1;32m    472\u001b[0m \u001b[38;5;250m\u001b[39m\u001b[38;5;124;03m\"\"\"\u001b[39;00m\n\u001b[1;32m    473\u001b[0m \u001b[38;5;124;03mFunction that predicts from the trained model.\u001b[39;00m\n\u001b[1;32m    474\u001b[0m \n\u001b[0;32m   (...)\u001b[0m\n\u001b[1;32m    495\u001b[0m \u001b[38;5;124;03m    Predictions.\u001b[39;00m\n\u001b[1;32m    496\u001b[0m \u001b[38;5;124;03m\"\"\"\u001b[39;00m\n\u001b[1;32m    498\u001b[0m \u001b[38;5;66;03m# Predict\u001b[39;00m\n\u001b[0;32m--> 499\u001b[0m predt_df \u001b[38;5;241m=\u001b[39m \u001b[38;5;28;43mself\u001b[39;49m\u001b[38;5;241;43m.\u001b[39;49m\u001b[43mdist\u001b[49m\u001b[38;5;241;43m.\u001b[39;49m\u001b[43mpredict_dist\u001b[49m\u001b[43m(\u001b[49m\u001b[43mbooster\u001b[49m\u001b[38;5;241;43m=\u001b[39;49m\u001b[38;5;28;43mself\u001b[39;49m\u001b[38;5;241;43m.\u001b[39;49m\u001b[43mbooster\u001b[49m\u001b[43m,\u001b[49m\n\u001b[1;32m    500\u001b[0m \u001b[43m                                  \u001b[49m\u001b[43mstart_values\u001b[49m\u001b[38;5;241;43m=\u001b[39;49m\u001b[38;5;28;43mself\u001b[39;49m\u001b[38;5;241;43m.\u001b[39;49m\u001b[43mstart_values\u001b[49m\u001b[43m,\u001b[49m\n\u001b[1;32m    501\u001b[0m \u001b[43m                                  \u001b[49m\u001b[43mdata\u001b[49m\u001b[38;5;241;43m=\u001b[39;49m\u001b[43mdata\u001b[49m\u001b[43m,\u001b[49m\n\u001b[1;32m    502\u001b[0m \u001b[43m                                  \u001b[49m\u001b[43mpred_type\u001b[49m\u001b[38;5;241;43m=\u001b[39;49m\u001b[43mpred_type\u001b[49m\u001b[43m,\u001b[49m\n\u001b[1;32m    503\u001b[0m \u001b[43m                                  \u001b[49m\u001b[43mn_samples\u001b[49m\u001b[38;5;241;43m=\u001b[39;49m\u001b[43mn_samples\u001b[49m\u001b[43m,\u001b[49m\n\u001b[1;32m    504\u001b[0m \u001b[43m                                  \u001b[49m\u001b[43mquantiles\u001b[49m\u001b[38;5;241;43m=\u001b[39;49m\u001b[43mquantiles\u001b[49m\u001b[43m,\u001b[49m\n\u001b[1;32m    505\u001b[0m \u001b[43m                                  \u001b[49m\u001b[43mseed\u001b[49m\u001b[38;5;241;43m=\u001b[39;49m\u001b[43mseed\u001b[49m\u001b[43m)\u001b[49m\n\u001b[1;32m    507\u001b[0m \u001b[38;5;28;01mreturn\u001b[39;00m predt_df\n",
      "File \u001b[0;32m~/anaconda3/envs/python311_clone/lib/python3.11/site-packages/xgboostlss/distributions/distribution_utils.py:468\u001b[0m, in \u001b[0;36mDistributionClass.predict_dist\u001b[0;34m(self, booster, start_values, data, pred_type, n_samples, quantiles, seed)\u001b[0m\n\u001b[1;32m    465\u001b[0m base_margin_test \u001b[38;5;241m=\u001b[39m (np\u001b[38;5;241m.\u001b[39mones(shape\u001b[38;5;241m=\u001b[39m(data\u001b[38;5;241m.\u001b[39mnum_row(), \u001b[38;5;241m1\u001b[39m))) \u001b[38;5;241m*\u001b[39m start_values\n\u001b[1;32m    466\u001b[0m data\u001b[38;5;241m.\u001b[39mset_base_margin(base_margin_test\u001b[38;5;241m.\u001b[39mflatten())\n\u001b[0;32m--> 468\u001b[0m predt \u001b[38;5;241m=\u001b[39m np\u001b[38;5;241m.\u001b[39marray(\u001b[43mbooster\u001b[49m\u001b[38;5;241;43m.\u001b[39;49m\u001b[43mpredict\u001b[49m\u001b[43m(\u001b[49m\u001b[43mdata\u001b[49m\u001b[43m,\u001b[49m\u001b[43m \u001b[49m\u001b[43moutput_margin\u001b[49m\u001b[38;5;241;43m=\u001b[39;49m\u001b[38;5;28;43;01mTrue\u001b[39;49;00m\u001b[43m)\u001b[49m)\u001b[38;5;241m.\u001b[39mreshape(\u001b[38;5;241m-\u001b[39m\u001b[38;5;241m1\u001b[39m, \u001b[38;5;28mself\u001b[39m\u001b[38;5;241m.\u001b[39mn_dist_param)\n\u001b[1;32m    469\u001b[0m predt \u001b[38;5;241m=\u001b[39m torch\u001b[38;5;241m.\u001b[39mtensor(predt, dtype\u001b[38;5;241m=\u001b[39mtorch\u001b[38;5;241m.\u001b[39mfloat32)\n\u001b[1;32m    471\u001b[0m \u001b[38;5;66;03m# Transform predicted parameters to response scale\u001b[39;00m\n",
      "File \u001b[0;32m~/anaconda3/envs/python311_clone/lib/python3.11/site-packages/xgboost/core.py:2298\u001b[0m, in \u001b[0;36mBooster.predict\u001b[0;34m(self, data, output_margin, pred_leaf, pred_contribs, approx_contribs, pred_interactions, validate_features, training, iteration_range, strict_shape)\u001b[0m\n\u001b[1;32m   2295\u001b[0m shape \u001b[38;5;241m=\u001b[39m ctypes\u001b[38;5;241m.\u001b[39mPOINTER(c_bst_ulong)()\n\u001b[1;32m   2296\u001b[0m dims \u001b[38;5;241m=\u001b[39m c_bst_ulong()\n\u001b[1;32m   2297\u001b[0m _check_call(\n\u001b[0;32m-> 2298\u001b[0m     \u001b[43m_LIB\u001b[49m\u001b[38;5;241;43m.\u001b[39;49m\u001b[43mXGBoosterPredictFromDMatrix\u001b[49m\u001b[43m(\u001b[49m\n\u001b[1;32m   2299\u001b[0m \u001b[43m        \u001b[49m\u001b[38;5;28;43mself\u001b[39;49m\u001b[38;5;241;43m.\u001b[39;49m\u001b[43mhandle\u001b[49m\u001b[43m,\u001b[49m\n\u001b[1;32m   2300\u001b[0m \u001b[43m        \u001b[49m\u001b[43mdata\u001b[49m\u001b[38;5;241;43m.\u001b[39;49m\u001b[43mhandle\u001b[49m\u001b[43m,\u001b[49m\n\u001b[1;32m   2301\u001b[0m \u001b[43m        \u001b[49m\u001b[43mfrom_pystr_to_cstr\u001b[49m\u001b[43m(\u001b[49m\u001b[43mjson\u001b[49m\u001b[38;5;241;43m.\u001b[39;49m\u001b[43mdumps\u001b[49m\u001b[43m(\u001b[49m\u001b[43margs\u001b[49m\u001b[43m)\u001b[49m\u001b[43m)\u001b[49m\u001b[43m,\u001b[49m\n\u001b[1;32m   2302\u001b[0m \u001b[43m        \u001b[49m\u001b[43mctypes\u001b[49m\u001b[38;5;241;43m.\u001b[39;49m\u001b[43mbyref\u001b[49m\u001b[43m(\u001b[49m\u001b[43mshape\u001b[49m\u001b[43m)\u001b[49m\u001b[43m,\u001b[49m\n\u001b[1;32m   2303\u001b[0m \u001b[43m        \u001b[49m\u001b[43mctypes\u001b[49m\u001b[38;5;241;43m.\u001b[39;49m\u001b[43mbyref\u001b[49m\u001b[43m(\u001b[49m\u001b[43mdims\u001b[49m\u001b[43m)\u001b[49m\u001b[43m,\u001b[49m\n\u001b[1;32m   2304\u001b[0m \u001b[43m        \u001b[49m\u001b[43mctypes\u001b[49m\u001b[38;5;241;43m.\u001b[39;49m\u001b[43mbyref\u001b[49m\u001b[43m(\u001b[49m\u001b[43mpreds\u001b[49m\u001b[43m)\u001b[49m\u001b[43m,\u001b[49m\n\u001b[1;32m   2305\u001b[0m \u001b[43m    \u001b[49m\u001b[43m)\u001b[49m\n\u001b[1;32m   2306\u001b[0m )\n\u001b[1;32m   2307\u001b[0m \u001b[38;5;28;01mreturn\u001b[39;00m _prediction_output(shape, dims, preds, \u001b[38;5;28;01mFalse\u001b[39;00m)\n",
      "\u001b[0;31mKeyboardInterrupt\u001b[0m: "
     ]
    }
   ],
   "source": [
    "model_uncertainty = agnboost_m.prediction_uncertainty( uncertainty_type = 'model', model_name = 'agn.fracAGN', catalog = catalog)\n",
    "\n",
    "print(f\"✅ Uncertainty estimates generated\")\n",
    "print(f\"Uncertainty statistics:\")\n",
    "print(f\"  Mean uncertainty: {np.mean(model_uncertainty):.6f}\")\n",
    "print(f\"  Std uncertainty: {np.std(model_uncertainty):.6f}\")\n",
    "print(f\"  Min uncertainty: {np.min(model_uncertainty):.6f}\")\n",
    "print(f\"  Max uncertainty: {np.max(model_uncertainty):.6f}\")"
   ]
  },
  {
   "cell_type": "code",
   "execution_count": null,
   "id": "4b52cc31-203d-44c1-9c40-825f62ccb80a",
   "metadata": {},
   "outputs": [],
   "source": []
  }
 ],
 "metadata": {
  "kernelspec": {
   "display_name": "Python 3 (ipykernel)",
   "language": "python",
   "name": "python3"
  },
  "language_info": {
   "codemirror_mode": {
    "name": "ipython",
    "version": 3
   },
   "file_extension": ".py",
   "mimetype": "text/x-python",
   "name": "python",
   "nbconvert_exporter": "python",
   "pygments_lexer": "ipython3",
   "version": "3.11.4"
  }
 },
 "nbformat": 4,
 "nbformat_minor": 5
}
