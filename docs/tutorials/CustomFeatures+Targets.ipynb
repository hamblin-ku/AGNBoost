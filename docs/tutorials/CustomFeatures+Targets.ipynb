{
 "cells": [
  {
   "cell_type": "markdown",
   "id": "e2999ab5-bd67-47f8-82b4-35c666250f7c",
   "metadata": {},
   "source": [
    "# Custom Features and Transformed Target Variables\n",
    "\n",
    "This notebook demonstrates how to customize AGNBoost to your data needs through:\n",
    "\n",
    "1. Custom feature creation. \n",
    "2. Applying transformations to your target variables.\n",
    "\n",
    "Let's start by importing the necessary libraries and loading our data."
   ]
  },
  {
   "cell_type": "code",
   "execution_count": 1,
   "id": "2ff45de0-2622-4dd6-81e9-005d87435ee8",
   "metadata": {},
   "outputs": [],
   "source": [
    "%load_ext autoreload\n",
    "%autoreload 2"
   ]
  },
  {
   "cell_type": "code",
   "execution_count": 2,
   "id": "c1d413c9-7c2f-4e9c-9058-82f7c0cccb25",
   "metadata": {},
   "outputs": [
    {
     "name": "stdout",
     "output_type": "stream",
     "text": [
      "Current directory: /home/kurt/Documents/agnboost\n",
      "Contents: ['pyproject.toml', 'README.md', 'models', 'notebooks', 'figures', '.gitignore', '.env', 'mkdocs.yml', '.github', 'data', 'models_all', 'docs', 'LICENSE', 'tests', '.git', 'agnboost']\n"
     ]
    },
    {
     "name": "stderr",
     "output_type": "stream",
     "text": [
      "\u001b[32m2025-05-31 20:31:50.184\u001b[0m | \u001b[1mINFO    \u001b[0m | \u001b[36magnboost.config\u001b[0m:\u001b[36m<module>\u001b[0m:\u001b[36m11\u001b[0m - \u001b[1mPROJ_ROOT path is: /home/kurt/Documents/agnboost\u001b[0m\n"
     ]
    },
    {
     "name": "stdout",
     "output_type": "stream",
     "text": [
      "AGNBoost Basic Usage Tutorial\n",
      "========================================\n"
     ]
    }
   ],
   "source": [
    "# Set agnboost folder as root\n",
    "import os\n",
    "\n",
    "# Navigate to the repository root (parent directory of notebooks/)\n",
    "os.chdir('..')\n",
    "\n",
    "# Verify we're in the right place\n",
    "print(f\"Current directory: {os.getcwd()}\")\n",
    "print(f\"Contents: {os.listdir('.')}\")\n",
    "\n",
    "# Import necessary libraries\n",
    "import numpy as np\n",
    "import pandas as pd\n",
    "from agnboost import dataset, model\n",
    "#from sklearn.metrics import mean_squared_error\n",
    "\n",
    "# Set random seed for reproducibility\n",
    "np.random.seed(123)\n",
    "\n",
    "print(\"AGNBoost Basic Usage Tutorial\")\n",
    "print(\"=\" * 40)"
   ]
  },
  {
   "cell_type": "markdown",
   "id": "679d6ef8-add9-4e8f-a6fa-b18ac0cfa276",
   "metadata": {},
   "source": [
    "## Loading the Data\n",
    "\n",
    "We'll use the Catalog class to load our astronomical dataset. The `models-block-0.fits` file contains photometric measurements and AGN fraction labels for our analysis. We will load it and print out the data summary so we can easily see all the columns in the data."
   ]
  },
  {
   "cell_type": "code",
   "execution_count": 3,
   "id": "8b79da87-789e-4088-a35f-927491cfead8",
   "metadata": {},
   "outputs": [
    {
     "name": "stdout",
     "output_type": "stream",
     "text": [
      "Current working directory: /home/kurt/Documents/agnboost\n",
      "Looking for bands file at: /home/kurt/Documents/agnboost/agnboost/allowed_bands.json\n",
      "[INFO] Loaded bands file metadata: This file contains the allowed photometric bands for JWST\n",
      "[INFO] Loaded 11 allowed bands from agnboost/allowed_bands.json\n",
      "[INFO] Attempting to load file with delimiter: ','\n",
      "[INFO] Successfully loaded data with 1000 rows.\n",
      "[INFO] Found 11 valid band columns:\n",
      "[INFO]   - jwst.nircam.F115W (F115W): 1.154 μm\n",
      "[INFO]   - jwst.nircam.F150W (F150W): 1.501 μm\n",
      "[INFO]   - jwst.nircam.F200W (F200W): 1.988 μm\n",
      "[INFO]   - jwst.nircam.F277W (F277W): 2.776 μm\n",
      "[INFO]   - jwst.nircam.F356W (F356W): 3.565 μm\n",
      "[INFO]   - jwst.nircam.F410M (F410M): 4.083 μm\n",
      "[INFO]   - jwst.nircam.F444W (F444W): 4.402 μm\n",
      "[INFO]   - jwst.miri.F770W (F770W): 7.7 μm\n",
      "[INFO]   - jwst.miri.F1000W (F1000W): 10.0 μm\n",
      "[INFO]   - jwst.miri.F1500W (F1500W): 15.0 μm\n",
      "[INFO]   - jwst.miri.F2100W (F2100W): 21.0 μm\n",
      "\n",
      "================================================================================\n",
      "DATA SUMMARY: cigale_mock_small.csv\n",
      "================================================================================\n",
      "Dimensions: 1000 rows × 26 columns\n",
      "Memory usage: 0.20 MB\n",
      "--------------------------------------------------------------------------------\n",
      "Valid Band Columns:\n",
      "--------------------------------------------------------------------------------\n",
      "Column Name                    Shorthand       Wavelength (μm)\n",
      "--------------------------------------------------------------------------------\n",
      "jwst.nircam.F115W              F115W           1.154          \n",
      "jwst.nircam.F150W              F150W           1.501          \n",
      "jwst.nircam.F200W              F200W           1.988          \n",
      "jwst.nircam.F277W              F277W           2.776          \n",
      "jwst.nircam.F356W              F356W           3.565          \n",
      "jwst.nircam.F410M              F410M           4.083          \n",
      "jwst.nircam.F444W              F444W           4.402          \n",
      "jwst.miri.F770W                F770W           7.700          \n",
      "jwst.miri.F1000W               F1000W          10.000         \n",
      "jwst.miri.F1500W               F1500W          15.000         \n",
      "jwst.miri.F2100W               F2100W          21.000         \n",
      "--------------------------------------------------------------------------------\n",
      "Column Information:\n",
      "--------------------------------------------------------------------------------\n",
      "Column Name                    Type            Non-Null        Null %    \n",
      "--------------------------------------------------------------------------------\n",
      "IRAC1                          float64         1000/1000            0.00%     \n",
      "IRAC2                          float64         1000/1000            0.00%     \n",
      "IRAC3                          float64         1000/1000            0.00%     \n",
      "IRAC4                          float64         1000/1000            0.00%     \n",
      "hst.acs.wfc.F606W              float64         1000/1000            0.00%     \n",
      "hst.acs.wfc.F814W              float64         1000/1000            0.00%     \n",
      "hst.wfc3.ir.F125W              float64         1000/1000            0.00%     \n",
      "hst.wfc3.ir.F140W              float64         1000/1000            0.00%     \n",
      "hst.wfc3.ir.F160W              float64         1000/1000            0.00%     \n",
      "jwst.miri.F1000W               float64         1000/1000            0.00%     \n",
      "jwst.miri.F1280W               float64         1000/1000            0.00%     \n",
      "jwst.miri.F1500W               float64         1000/1000            0.00%     \n",
      "jwst.miri.F1800W               float64         1000/1000            0.00%     \n",
      "jwst.miri.F2100W               float64         1000/1000            0.00%     \n",
      "jwst.miri.F770W                float64         1000/1000            0.00%     \n",
      "jwst.nircam.F115W              float64         1000/1000            0.00%     \n",
      "jwst.nircam.F150W              float64         1000/1000            0.00%     \n",
      "jwst.nircam.F200W              float64         1000/1000            0.00%     \n",
      "jwst.nircam.F277W              float64         1000/1000            0.00%     \n",
      "jwst.nircam.F356W              float64         1000/1000            0.00%     \n",
      "jwst.nircam.F410M              float64         1000/1000            0.00%     \n",
      "jwst.nircam.F444W              float64         1000/1000            0.00%     \n",
      "sfh.sfr100Myrs                 float64         1000/1000            0.00%     \n",
      "stellar.m_star                 float64         1000/1000            0.00%     \n",
      "agn.fracAGN                    float64         1000/1000            0.00%     \n",
      "universe.redshift              float64         1000/1000            0.00%     \n",
      "--------------------------------------------------------------------------------\n",
      "\n",
      "Numeric Column Statistics:\n",
      "--------------------------------------------------------------------------------\n",
      "Column               Mean         Std          Min          Max         \n",
      "--------------------------------------------------------------------------------\n",
      "IRAC1                57.9         1308         2.413e-06    4.098e+04   \n",
      "IRAC2                22.97        509.9        8.821e-07    1.596e+04   \n",
      "IRAC3                39.96        918          1.646e-06    2.879e+04   \n",
      "IRAC4                57.92        1309         2.413e-06    4.099e+04   \n",
      "hst.acs.wfc.F606W    0.311        5.52         0            169         \n",
      "hst.acs.wfc.F814W    0.3093       5.099        5.455e-13    155.8       \n",
      "hst.wfc3.ir.F125W    0.5148       6.576        1.614e-09    192.2       \n",
      "hst.wfc3.ir.F140W    0.6132       7.125        2.611e-09    196.7       \n",
      "hst.wfc3.ir.F160W    0.7412       7.991        4.119e-09    200.2       \n",
      "jwst.miri.F1000W     57.54        1356         3.049e-06    4.257e+04   \n",
      "jwst.miri.F1280W     71.4         1587         4.006e-06    4.97e+04    \n",
      "jwst.miri.F1500W     74.16        1638         4.475e-06    5.129e+04   \n",
      "jwst.miri.F1800W     82.2         1710         4.232e-06    5.339e+04   \n",
      "jwst.miri.F2100W     87.79        1773         4.001e-06    5.527e+04   \n",
      "jwst.miri.F770W      58.58        1315         2.288e-06    4.117e+04   \n",
      "jwst.nircam.F115W    0.461        6.317        1.192e-09    188.6       \n",
      "jwst.nircam.F150W    0.706        7.721        3.693e-09    198.7       \n",
      "jwst.nircam.F200W    1.482        15.31        1.959e-08    280.6       \n",
      "jwst.nircam.F277W    4.441        68.46        1.332e-07    2009        \n",
      "jwst.nircam.F356W    11.62        225.3        4.48e-07     6973        \n",
      "jwst.nircam.F410M    17.51        373          6.242e-07    1.164e+04   \n",
      "jwst.nircam.F444W    21.65        477          8.29e-07     1.492e+04   \n",
      "sfh.sfr100Myrs       4.765        4.403        4.765e-27    15.79       \n",
      "stellar.m_star       3.51e+09     2.551e+09    3.367e+07    7.388e+09   \n",
      "agn.fracAGN          0.4993       0.3164       0            0.99        \n",
      "universe.redshift    1.765        1.811        0.01         7.999       \n",
      "================================================================================\n",
      "\n"
     ]
    }
   ],
   "source": [
    "# Load the astronomical data using the Catalog class\n",
    "catalog = dataset.Catalog(path=\"data/cigale_mock_small.csv\",summarize = True)\n"
   ]
  },
  {
   "cell_type": "markdown",
   "id": "ff7a9c97-2b1c-484d-a820-40292f3f0701",
   "metadata": {},
   "source": [
    "# Creating Custom Features\n",
    "\n",
    "By default, AGNBoost will create a feature dataframe that includes all of the photometric bands matching valid bands (in the bands.json), all non-reciprocal colors derived from those, and the squares of those colors. However, it is also simple to create a feature dataframe to only include features you want, including features not included by default. \n",
    "\n",
    "Let's say we want to create a feature dataframe that consists of:\n",
    "<ol>\n",
    "    <li>All the valid photometric bands. We will take the log10 of the fluxes.</li>\n",
    "    <li>ONLY the F770W/F444W and F21000/F770W colors</li>\n",
    "    <li>the redshift</li>  \n",
    "</ol>\n",
    "\n",
    "To do this, we must first create our custom function to create this dataframe from the data stored in our `catalog` object. Note that this function is expected to have only one input (the data), and needs to return a pandas Dataframe. We will create this function and then test it to ensure that it is working."
   ]
  },
  {
   "cell_type": "code",
   "execution_count": 4,
   "id": "e09110bc-48e5-4c6e-b893-d133a1108f3f",
   "metadata": {},
   "outputs": [
    {
     "ename": "SyntaxError",
     "evalue": "unterminated string literal (detected at line 3) (1119752146.py, line 3)",
     "output_type": "error",
     "traceback": [
      "\u001b[0;36m  Cell \u001b[0;32mIn[4], line 3\u001b[0;36m\u001b[0m\n\u001b[0;31m    print(f\"Valid bands: {VALID_BANDS# Navigate to the repository root (parent directory of notebooks/)\u001b[0m\n\u001b[0m          ^\u001b[0m\n\u001b[0;31mSyntaxError\u001b[0m\u001b[0;31m:\u001b[0m unterminated string literal (detected at line 3)\n"
     ]
    }
   ],
   "source": [
    "# Get the list of the valid photometric bands\n",
    "VALID_BANDS = catalog.get_valid_bands_list()\n",
    "print(f\"Valid bands: {VALID_BANDS# Navigate to the repository root (parent directory of notebooks/)\n",
    "os.chdir('..')\n",
    "\n",
    "# Verify we're in the right place\n",
    "print(f\"Current directory: {os.getcwd()}\")\n",
    "print(f\"Contents: {os.listdir('.')}\")}\")\n",
    "\n",
    "def custom_feature_func(data: pd.DataFrame) -> pd.DataFrame:\n",
    "    # Create all the features we want\n",
    "    log_phot_df = data[VALID_BANDS].apply( np.log10 )\n",
    "\n",
    "    f770w_f444w_color = np.log10( data['jwst.miri.F770W']/data['jwst.nircam.F444W'] ).rename(\"F770W/F444W\")\n",
    "    f2100W_f770W_color = np.log10( data['jwst.miri.F2100W']/data['jwst.miri.F770W'] ).rename(\"F2100W/F770W\")\n",
    "\n",
    "    z_df = data['universe.redshift']\n",
    "\n",
    "    # Combine them together so that they have shape (N_data, N_features)    \n",
    "    feature_df = pd.concat( [log_phot_df, f770w_f444w_color, f2100W_f770W_color, z_df], axis=1, join = 'outer')\n",
    "    return feature_df\n",
    "\n",
    "# Now, let's test this.\n",
    "test_feature_df = custom_feature_func(data = catalog.get_data() )\n",
    "print(f\"\\ntest_feature_df has shape {test_feature_df.shape} and original data has {len( catalog.get_data() )} rows.\")\n",
    "print(f\"test_feature_df consists of {test_feature_df.shape[1]} features: {list(test_feature_df.columns)}\\n\")\n"
   ]
  },
  {
   "cell_type": "markdown",
   "id": "6296afba-ec11-44a3-9d7f-30de9d892e73",
   "metadata": {},
   "source": [
    "This custom feature dataframe is saved into our `catalog` instance, so we are good to continue from here as usual (i.e., following the same method in the `basic-usage.ipynb` example)."
   ]
  },
  {
   "cell_type": "markdown",
   "id": "4dd3f8dc-acf5-4d4d-8d6f-4fe84f621bc6",
   "metadata": {},
   "source": [
    "# Applying transformations to the target variable (e.g. redshift)\n",
    "\n",
    "You may wish to apply some form of transformation to your target variable (i.e., that which you are performing regression to predict). For example, in the AGNBoost paper (Hamblin+2025), we applied a modified sigmoid transformation to redshift, in order to transform redshift from the (theoretical) [0,inf) range to (0,1). This allowed us to predict a beta distribution with AGNBoost. \n",
    "\n",
    "This transformation functionality is built-in to AGNBoost. All we need to do is define the function for the transformation. Let's create the python function for the modified sigmoid transformation above. Note that this modified sigmoid transforamtion has an optional parameter a which is used to tune the effects of the transformation. \n",
    "\n",
    "We also need to define the inverse of the transformation, in order to transform the predictions from AGNBoost back to the untransformed space of interest (i.e., transformed-redshift space -> redhisft space)"
   ]
  },
  {
   "cell_type": "code",
   "execution_count": null,
   "id": "c2c508b3-c035-4b72-a47e-d59f8c21816d",
   "metadata": {},
   "outputs": [],
   "source": [
    "def mod_sigmoid_trans(z, a = 0.4):\n",
    "    trans_z =  2/ (1 + np.exp(-a*z)) - 1\n",
    "    return trans_z\n",
    "    \n",
    "# The 1e-8 is included in the log to avoid issues of log(0)\n",
    "def inverse_mod_sigmoid_trans(trans_z, a = 0.4):\n",
    "    z = -(1/a)*np.log( 2/(1+trans_z) -1 + 1e-8)\n",
    "    return z\n",
    "\n"
   ]
  },
  {
   "cell_type": "markdown",
   "id": "2ef6e987-963a-4c0b-b5df-383edb7d17c9",
   "metadata": {},
   "source": [
    "We can now use this transformation to add a transformed redshift column to the saved data in our `catalog` instance. We will perform a sanity check to ensure that applying the inverse of our transformation to the transformed data matches the original data."
   ]
  },
  {
   "cell_type": "code",
   "execution_count": null,
   "id": "6eee3403-2253-4c11-8a39-de4ed051f3c9",
   "metadata": {},
   "outputs": [],
   "source": [
    "# Let's create a name for the new column. \n",
    "# Note that this will also become the name of the model used to predict this transformed variable \n",
    "#     (and consequently the name of the directory the models will be saved in)\n",
    "transformed_col_name = \"mod_sigmoid_redshift\"\n",
    "\n",
    "transformed_redshift = catalog.transform( column_name = 'universe.redshift', \n",
    "                                         transform_func = mod_sigmoid_trans, \n",
    "                                         new_column_name = transformed_col_name\n",
    "                                        )\n",
    "\n",
    "print(f\"Created transformed redshift column {transformed_redshift.name}\")\n",
    "print(f\"Stored data now has columns: {catalog.get_data().columns}\")\n",
    "\n",
    "\n",
    "#--------------------\n",
    "\n",
    "# Let's ensure that taking the inverse transformation of this returns the redshifts to their original state\n",
    "original_z = catalog.get_data()['universe.redshift']\n",
    "\n",
    "# Apply the inverse transformation to our transformed redshift\n",
    "inverse_trans_z = inverse_mod_sigmoid_trans( transformed_redshift )\n",
    "mismatch_z = 0\n",
    "\n",
    "# Iterate through the arrays\n",
    "for i in range(len(original_z)):  \n",
    "    if np.around(original_z.iloc[i], decimals = 3) != np.around(inverse_trans_z.iloc[i], decimals = 3):\n",
    "        mismatch_z += 1\n",
    "        print(f\"redshift mismatch. orig z: {original_z.iloc[i]:.3f}, recovered transformed z: {inverse_trans_z.iloc[i]:.3f}\")\n",
    "\n",
    "if mismatch_z == 0:\n",
    "    print(f\"\\nNo redshift mismatches after transorming and transforming back!\\n\")\n"
   ]
  },
  {
   "cell_type": "markdown",
   "id": "ed0bc553-1fb5-4c11-8e23-97478aeab7d6",
   "metadata": {},
   "source": [
    "We could then create an AGNBoost model to perform regression on the transformed redshift:"
   ]
  },
  {
   "cell_type": "code",
   "execution_count": null,
   "id": "99890865-9809-4d9c-a53d-b9ad5f29d5f0",
   "metadata": {},
   "outputs": [],
   "source": [
    "# First, we will create the feature dataframe\n",
    "catalog.create_feature_dataframe(silent = True)\n",
    "\n",
    "agnboost_m = model.AGNBoost( feature_names = catalog.get_feature_names(),\n",
    "                              target_variables = {'mod_sigmoid_redshift' : 'Beta'}\n",
    "                           )\n",
    "print(f\"AGNBoost object made with target varible name {list(agnboost_m.get_models().keys())[0]}. A {agnboost_m.get_models()['mod_sigmoid_redshift']} distribution is predicted for this target variable.\\n\")\n",
    "\n",
    "        "
   ]
  }
 ],
 "metadata": {
  "kernelspec": {
   "display_name": "Python 3 (ipykernel)",
   "language": "python",
   "name": "python3"
  },
  "language_info": {
   "codemirror_mode": {
    "name": "ipython",
    "version": 3
   },
   "file_extension": ".py",
   "mimetype": "text/x-python",
   "name": "python",
   "nbconvert_exporter": "python",
   "pygments_lexer": "ipython3",
   "version": "3.11.4"
  }
 },
 "nbformat": 4,
 "nbformat_minor": 5
}
