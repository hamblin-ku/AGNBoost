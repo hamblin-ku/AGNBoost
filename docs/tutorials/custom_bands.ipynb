{
 "cells": [
  {
   "cell_type": "markdown",
   "id": "e2999ab5-bd67-47f8-82b4-35c666250f7c",
   "metadata": {},
   "source": [
    "# Using AGNBoost with Custom (non-default) Photometric Bands\n",
    "\n",
    "This notebook demonstrates how to use AGNBoost with photometric bands that are not included in the default models of AGNBoost. Thankfully, this is very straightforward to do with AGNBoost, and is entiely relegated to the `Catalog` class. Frist, we import the necessary modules."
   ]
  },
  {
   "cell_type": "code",
   "execution_count": 1,
   "id": "4b0de810-9a4c-44ce-b240-59997ead31df",
   "metadata": {},
   "outputs": [
    {
     "name": "stderr",
     "output_type": "stream",
     "text": [
      "\u001b[32m2025-05-31 20:52:53.834\u001b[0m | \u001b[1mINFO    \u001b[0m | \u001b[36magnboost.config\u001b[0m:\u001b[36m<module>\u001b[0m:\u001b[36m11\u001b[0m - \u001b[1mPROJ_ROOT path is: /home/kurt/Documents/agnboost\u001b[0m\n"
     ]
    },
    {
     "name": "stdout",
     "output_type": "stream",
     "text": [
      "AGNBoost Basic Usage Tutorial\n",
      "========================================\n"
     ]
    }
   ],
   "source": [
    "# Set agnboost folder as root\n",
    "import os\n",
    "\n",
    "# Navigate to the repository root (parent directory of notebooks/)\n",
    "os.chdir('..')\n",
    "\n",
    "# Import necessary libraries\n",
    "import numpy as np\n",
    "import pandas as pd\n",
    "from agnboost import dataset, model\n",
    "\n",
    "# Set random seed for reproducibility\n",
    "np.random.seed(123)\n",
    "\n",
    "print(\"AGNBoost Basic Usage Tutorial\")\n",
    "print(\"=\" * 40)"
   ]
  },
  {
   "cell_type": "markdown",
   "id": "d9c9c99e-3a48-43e2-aa0a-13ed6151720b",
   "metadata": {},
   "source": [
    "To create a `Catalog` object with custom bands, you need only create a python dictionary containing the information of the bands. Note that this dictionary has very specific formatting requirements! For example, here is the default dictionary used by AGNBoost, including 7 NIRCam bands and 4 MIRI bands:\n",
    "\n",
    "```\n",
    "band_dict =   {   \"jwst.nircam.F115W\": {\"shorthand\": \"F115W\", \"wavelength\": 1.154},\n",
    "                  \"jwst.nircam.F150W\": {\"shorthand\": \"F150W\", \"wavelength\": 1.501},\n",
    "                  \"jwst.nircam.F200W\": {\"shorthand\": \"F200W\", \"wavelength\": 1.988},\n",
    "                  \"jwst.nircam.F277W\": {\"shorthand\": \"F277W\", \"wavelength\": 2.776},\n",
    "                  \"jwst.nircam.F356W\": {\"shorthand\": \"F356W\", \"wavelength\": 3.565},\n",
    "                  \"jwst.nircam.F410M\": {\"shorthand\": \"F410M\", \"wavelength\": 4.083},\n",
    "                  \"jwst.nircam.F444W\": {\"shorthand\": \"F444W\", \"wavelength\": 4.402},\n",
    "                  \"jwst.miri.F770W\": {\"shorthand\": \"F770W\", \"wavelength\": 7.7},\n",
    "                  \"jwst.miri.F1000W\": {\"shorthand\": \"F1000W\", \"wavelength\": 10.0},\n",
    "                  \"jwst.miri.F1500W\": {\"shorthand\": \"F1500W\", \"wavelength\": 15.0},\n",
    "                  \"jwst.miri.F2100W\": {\"shorthand\": \"F2100W\", \"wavelength\": 21.0}\n",
    "            }\n",
    "```\n",
    "\n",
    "Each key in the dictionary is the name of the photometric band in your dataset. So, if you are using mock CIGALE data to train and test models, the formatting should follow the CIGALE band naming conventions (i.e., \"jwst.nircam.F115W\", \"jwst.miri.F2100W\", etc.). The values corresponding to these keys are also python dictionaries, each with a \"shorthand\" key and a \"wavelength\" key. The \"shorthand\" key is the desired shortname of the photometric band (for example, with CIGALE, it is cleaner to be able to name a band \"F115W\" instead of the full CIGALE column name \"jwst.nircam.F115W\"). The \"wavelength\" is the pivot wavelength of the photomtric band (in microns). \n",
    "\n",
    "So, to create a AGNBoost model that uses ONLY the NIRCam bands, we can create the following dictionary:"
   ]
  },
  {
   "cell_type": "code",
   "execution_count": 3,
   "id": "86f6b497-fe63-4b5a-8085-3e702194d2c3",
   "metadata": {},
   "outputs": [],
   "source": [
    "NIRCam_band_dict =   {    \"jwst.nircam.F115W\": {\"shorthand\": \"F115W\", \"wavelength\": 1.154},\n",
    "                          \"jwst.nircam.F150W\": {\"shorthand\": \"F150W\", \"wavelength\": 1.501},\n",
    "                          \"jwst.nircam.F200W\": {\"shorthand\": \"F200W\", \"wavelength\": 1.988},\n",
    "                          \"jwst.nircam.F277W\": {\"shorthand\": \"F277W\", \"wavelength\": 2.776},\n",
    "                          \"jwst.nircam.F356W\": {\"shorthand\": \"F356W\", \"wavelength\": 3.565},\n",
    "                          \"jwst.nircam.F410M\": {\"shorthand\": \"F410M\", \"wavelength\": 4.083},\n",
    "                          \"jwst.nircam.F444W\": {\"shorthand\": \"F444W\", \"wavelength\": 4.402},\n",
    "                }"
   ]
  },
  {
   "cell_type": "markdown",
   "id": "01e8bf54-f1d0-4a9e-a122-4729140a7196",
   "metadata": {},
   "source": [
    "Then, we can pass this to an instantiation of the `Catalog` class as the `band_dict` parameter. We will use the small provided set of CIGALE data to demonstrate this:\n"
   ]
  },
  {
   "cell_type": "code",
   "execution_count": 4,
   "id": "524ae496-affa-420d-91a9-f433737c6957",
   "metadata": {},
   "outputs": [
    {
     "name": "stdout",
     "output_type": "stream",
     "text": [
      "[INFO] Attempting to load file with delimiter: ','\n",
      "[INFO] Successfully loaded data with 1000 rows.\n",
      "[INFO] Found 7 valid band columns:\n",
      "[INFO]   - jwst.nircam.F115W (F115W): 1.154 μm\n",
      "[INFO]   - jwst.nircam.F150W (F150W): 1.501 μm\n",
      "[INFO]   - jwst.nircam.F200W (F200W): 1.988 μm\n",
      "[INFO]   - jwst.nircam.F277W (F277W): 2.776 μm\n",
      "[INFO]   - jwst.nircam.F356W (F356W): 3.565 μm\n",
      "[INFO]   - jwst.nircam.F410M (F410M): 4.083 μm\n",
      "[INFO]   - jwst.nircam.F444W (F444W): 4.402 μm\n"
     ]
    }
   ],
   "source": [
    "# Load the astronomical data using the Catalog class\n",
    "catalog = dataset.Catalog(path=\"data/cigale_mock_small.csv\", \n",
    "                          band_dict = NIRCam_band_dict, \n",
    "                          summarize = False)"
   ]
  },
  {
   "cell_type": "markdown",
   "id": "77acb1c6-0b2c-4601-ab6b-5ca81a397050",
   "metadata": {},
   "source": [
    "We can easily see that our catalog object now only uses the 7 NIRCam bands. If we were to then create the default feature dataframe (phots + colors + colors^2), we should only see quantities involving these valid bands. Let's check:"
   ]
  },
  {
   "cell_type": "code",
   "execution_count": 5,
   "id": "5cb5e100-2a66-400d-888a-390ac64f5a1f",
   "metadata": {},
   "outputs": [
    {
     "name": "stdout",
     "output_type": "stream",
     "text": [
      "[INFO] Created feature dataframe with 49 columns and 1000 rows.\n",
      "[INFO] Created features are: ['jwst.nircam.F115W', 'jwst.nircam.F150W', 'jwst.nircam.F200W', 'jwst.nircam.F277W', 'jwst.nircam.F356W', 'jwst.nircam.F410M', 'jwst.nircam.F444W', 'F444W/F410M', 'F444W/F356W', 'F444W/F277W', 'F444W/F200W', 'F444W/F150W', 'F444W/F115W', 'F410M/F356W', 'F410M/F277W', 'F410M/F200W', 'F410M/F150W', 'F410M/F115W', 'F356W/F277W', 'F356W/F200W', 'F356W/F150W', 'F356W/F115W', 'F277W/F200W', 'F277W/F150W', 'F277W/F115W', 'F200W/F150W', 'F200W/F115W', 'F150W/F115W', 'F444W/F410M^2', 'F444W/F356W^2', 'F444W/F277W^2', 'F444W/F200W^2', 'F444W/F150W^2', 'F444W/F115W^2', 'F410M/F356W^2', 'F410M/F277W^2', 'F410M/F200W^2', 'F410M/F150W^2', 'F410M/F115W^2', 'F356W/F277W^2', 'F356W/F200W^2', 'F356W/F150W^2', 'F356W/F115W^2', 'F277W/F200W^2', 'F277W/F150W^2', 'F277W/F115W^2', 'F200W/F150W^2', 'F200W/F115W^2', 'F150W/F115W^2']\n"
     ]
    }
   ],
   "source": [
    "# Create features for modeling\n",
    "feature_df = catalog.create_feature_dataframe()\n"
   ]
  },
  {
   "cell_type": "markdown",
   "id": "f547d324-ace8-4b86-8d2b-0a5b630d659c",
   "metadata": {},
   "source": [
    "Good to go! Just remember that the loaded data in the catalog object needs to have the bands you specify!"
   ]
  },
  {
   "cell_type": "code",
   "execution_count": null,
   "id": "a901d096-2147-4372-93b5-98ef011ebe31",
   "metadata": {},
   "outputs": [],
   "source": []
  }
 ],
 "metadata": {
  "kernelspec": {
   "display_name": "Python 3 (ipykernel)",
   "language": "python",
   "name": "python3"
  },
  "language_info": {
   "codemirror_mode": {
    "name": "ipython",
    "version": 3
   },
   "file_extension": ".py",
   "mimetype": "text/x-python",
   "name": "python",
   "nbconvert_exporter": "python",
   "pygments_lexer": "ipython3",
   "version": "3.11.4"
  }
 },
 "nbformat": 4,
 "nbformat_minor": 5
}
