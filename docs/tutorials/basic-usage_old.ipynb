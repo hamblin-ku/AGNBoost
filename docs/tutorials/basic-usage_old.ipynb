{
 "cells": [
  {
   "cell_type": "markdown",
   "id": "e2999ab5-bd67-47f8-82b4-35c666250f7c",
   "metadata": {},
   "source": [
    "# AGNBoost Basic Usage Tutorial\n",
    "\n",
    "This notebook demonstrates the basic workflow for using AGNBoost to predict AGN fractions from photometric data. We'll walk through:\n",
    "\n",
    "1. Loading astronomical data with the Catalog class\n",
    "2. Exploring the dataset structure and properties\n",
    "3. Splitting data into training, validation, and test sets\n",
    "4. Cleaning the data by removing rows with missing values\n",
    "5. Loading a pre-trained AGN fraction model\n",
    "6. Making predictions with uncertainty quantification\n",
    "7. Evaluating model performance\n",
    "\n",
    "Let's start by importing the necessary libraries and loading our data."
   ]
  },
  {
   "cell_type": "code",
   "execution_count": 2,
   "id": "c1d413c9-7c2f-4e9c-9058-82f7c0cccb25",
   "metadata": {},
   "outputs": [
    {
     "name": "stderr",
     "output_type": "stream",
     "text": [
      "\u001b[32m2025-05-25 16:36:50.131\u001b[0m | \u001b[1mINFO    \u001b[0m | \u001b[36magnboost.config\u001b[0m:\u001b[36m<module>\u001b[0m:\u001b[36m11\u001b[0m - \u001b[1mPROJ_ROOT path is: /home/kurt/Documents/agnboost\u001b[0m\n"
     ]
    },
    {
     "name": "stdout",
     "output_type": "stream",
     "text": [
      "AGNBoost Basic Usage Tutorial\n",
      "========================================\n"
     ]
    }
   ],
   "source": [
    "# Set agnbioost folder as root\n",
    "import os\n",
    "os.chdir(os.path.expanduser(\"/home/kurt/Documents/agnboost/\"))\n",
    "\n",
    "# Import necessary libraries\n",
    "import numpy as np\n",
    "import pandas as pd\n",
    "from agnboost import dataset, model\n",
    "#from sklearn.metrics import mean_squared_error\n",
    "\n",
    "# Set random seed for reproducibility\n",
    "np.random.seed(123)\n",
    "\n",
    "print(\"AGNBoost Basic Usage Tutorial\")\n",
    "print(\"=\" * 40)"
   ]
  },
  {
   "cell_type": "markdown",
   "id": "679d6ef8-add9-4e8f-a6fa-b18ac0cfa276",
   "metadata": {},
   "source": [
    "## Loading the Data\n",
    "\n",
    "We'll use the Catalog class to load our astronomical dataset. The `models-block-0.fits` file contains photometric measurements and AGN fraction labels for our analysis."
   ]
  },
  {
   "cell_type": "code",
   "execution_count": 25,
   "id": "8b79da87-789e-4088-a35f-927491cfead8",
   "metadata": {},
   "outputs": [
    {
     "name": "stdout",
     "output_type": "stream",
     "text": [
      "Current working directory: /home/kurt/Documents/agnboost\n",
      "Looking for bands file at: /home/kurt/Documents/agnboost/allowed_bands.json\n",
      "[INFO] Loaded bands file metadata: This file contains the allowed photometric bands for JWST\n",
      "[INFO] Loaded 11 allowed bands from agnboost/allowed_bands.json\n",
      "[INFO] Attempting to load file with delimiter: ','\n",
      "[INFO] Successfully loaded data with 1000 rows.\n",
      "[INFO] Found 11 valid band columns:\n",
      "[INFO]   - jwst.nircam.F115W (F115W): 1.154 μm\n",
      "[INFO]   - jwst.nircam.F150W (F150W): 1.501 μm\n",
      "[INFO]   - jwst.nircam.F200W (F200W): 1.988 μm\n",
      "[INFO]   - jwst.nircam.F277W (F277W): 2.776 μm\n",
      "[INFO]   - jwst.nircam.F356W (F356W): 3.565 μm\n",
      "[INFO]   - jwst.nircam.F410M (F410M): 4.083 μm\n",
      "[INFO]   - jwst.nircam.F444W (F444W): 4.402 μm\n",
      "[INFO]   - jwst.miri.F770W (F770W): 7.7 μm\n",
      "[INFO]   - jwst.miri.F1000W (F1000W): 10.0 μm\n",
      "[INFO]   - jwst.miri.F1500W (F1500W): 15.0 μm\n",
      "[INFO]   - jwst.miri.F2100W (F2100W): 21.0 μm\n"
     ]
    }
   ],
   "source": [
    "# Load the astronomical data using the Catalog class\n",
    "catalog = dataset.Catalog(path=\"data/cigale_mock_small.csv\",summarize = False)\n"
   ]
  },
  {
   "cell_type": "markdown",
   "id": "6931b09f-2b49-446f-82ae-b9010f5f1e54",
   "metadata": {},
   "source": [
    "## Exploring the Dataset\n",
    "\n",
    "Let's examine the structure of our data to understand what photometric bands are available and get basic statistics about our dataset. The `print_data_summary()` method provides comprehensive information about:\n",
    "\n",
    "- Dataset dimensions and memory usage\n",
    "- Photometric band validation and metadata\n",
    "- Column-by-column statistics including missing values\n",
    "- Summary statistics for numerical columns\n",
    "\n",
    "This information helps us understand data quality and identify any potential issues before modeling."
   ]
  },
  {
   "cell_type": "code",
   "execution_count": 26,
   "id": "535046dd-473b-49ff-9de3-856f0159858a",
   "metadata": {
    "scrolled": true
   },
   "outputs": [
    {
     "name": "stdout",
     "output_type": "stream",
     "text": [
      "\n",
      "================================================================================\n",
      "DATA SUMMARY: cigale_mock_small.csv\n",
      "================================================================================\n",
      "Dimensions: 1000 rows × 26 columns\n",
      "Memory usage: 0.20 MB\n",
      "--------------------------------------------------------------------------------\n",
      "Valid Band Columns:\n",
      "--------------------------------------------------------------------------------\n",
      "Column Name                    Shorthand       Wavelength (μm)\n",
      "--------------------------------------------------------------------------------\n",
      "jwst.nircam.F115W              F115W           1.154          \n",
      "jwst.nircam.F150W              F150W           1.501          \n",
      "jwst.nircam.F200W              F200W           1.988          \n",
      "jwst.nircam.F277W              F277W           2.776          \n",
      "jwst.nircam.F356W              F356W           3.565          \n",
      "jwst.nircam.F410M              F410M           4.083          \n",
      "jwst.nircam.F444W              F444W           4.402          \n",
      "jwst.miri.F770W                F770W           7.700          \n",
      "jwst.miri.F1000W               F1000W          10.000         \n",
      "jwst.miri.F1500W               F1500W          15.000         \n",
      "jwst.miri.F2100W               F2100W          21.000         \n",
      "--------------------------------------------------------------------------------\n",
      "Column Information:\n",
      "--------------------------------------------------------------------------------\n",
      "Column Name                    Type            Non-Null        Null %    \n",
      "--------------------------------------------------------------------------------\n",
      "IRAC1                          float64         1000/1000            0.00%     \n",
      "IRAC2                          float64         1000/1000            0.00%     \n",
      "IRAC3                          float64         1000/1000            0.00%     \n",
      "IRAC4                          float64         1000/1000            0.00%     \n",
      "hst.acs.wfc.F606W              float64         1000/1000            0.00%     \n",
      "hst.acs.wfc.F814W              float64         1000/1000            0.00%     \n",
      "hst.wfc3.ir.F125W              float64         1000/1000            0.00%     \n",
      "hst.wfc3.ir.F140W              float64         1000/1000            0.00%     \n",
      "hst.wfc3.ir.F160W              float64         1000/1000            0.00%     \n",
      "jwst.miri.F1000W               float64         1000/1000            0.00%     \n",
      "jwst.miri.F1280W               float64         1000/1000            0.00%     \n",
      "jwst.miri.F1500W               float64         1000/1000            0.00%     \n",
      "jwst.miri.F1800W               float64         1000/1000            0.00%     \n",
      "jwst.miri.F2100W               float64         1000/1000            0.00%     \n",
      "jwst.miri.F770W                float64         1000/1000            0.00%     \n",
      "jwst.nircam.F115W              float64         1000/1000            0.00%     \n",
      "jwst.nircam.F150W              float64         1000/1000            0.00%     \n",
      "jwst.nircam.F200W              float64         1000/1000            0.00%     \n",
      "jwst.nircam.F277W              float64         1000/1000            0.00%     \n",
      "jwst.nircam.F356W              float64         1000/1000            0.00%     \n",
      "jwst.nircam.F410M              float64         1000/1000            0.00%     \n",
      "jwst.nircam.F444W              float64         1000/1000            0.00%     \n",
      "sfh.sfr100Myrs                 float64         1000/1000            0.00%     \n",
      "stellar.m_star                 float64         1000/1000            0.00%     \n",
      "agn.fracAGN                    float64         1000/1000            0.00%     \n",
      "universe.redshift              float64         1000/1000            0.00%     \n",
      "--------------------------------------------------------------------------------\n",
      "\n",
      "Numeric Column Statistics:\n",
      "--------------------------------------------------------------------------------\n",
      "Column                         Mean         Std          Min          Max         \n",
      "--------------------------------------------------------------------------------\n",
      "IRAC1                57.9         1308         2.413e-06    4.098e+04   \n",
      "IRAC2                22.97        509.9        8.821e-07    1.596e+04   \n",
      "IRAC3                39.96        918          1.646e-06    2.879e+04   \n",
      "IRAC4                57.92        1309         2.413e-06    4.099e+04   \n",
      "hst.acs.wfc.F606W    0.311        5.52         0            169         \n",
      "hst.acs.wfc.F814W    0.3093       5.099        5.455e-13    155.8       \n",
      "hst.wfc3.ir.F125W    0.5148       6.576        1.614e-09    192.2       \n",
      "hst.wfc3.ir.F140W    0.6132       7.125        2.611e-09    196.7       \n",
      "hst.wfc3.ir.F160W    0.7412       7.991        4.119e-09    200.2       \n",
      "jwst.miri.F1000W     57.54        1356         3.049e-06    4.257e+04   \n",
      "jwst.miri.F1280W     71.4         1587         4.006e-06    4.97e+04    \n",
      "jwst.miri.F1500W     74.16        1638         4.475e-06    5.129e+04   \n",
      "jwst.miri.F1800W     82.2         1710         4.232e-06    5.339e+04   \n",
      "jwst.miri.F2100W     87.79        1773         4.001e-06    5.527e+04   \n",
      "jwst.miri.F770W      58.58        1315         2.288e-06    4.117e+04   \n",
      "jwst.nircam.F115W    0.461        6.317        1.192e-09    188.6       \n",
      "jwst.nircam.F150W    0.706        7.721        3.693e-09    198.7       \n",
      "jwst.nircam.F200W    1.482        15.31        1.959e-08    280.6       \n",
      "jwst.nircam.F277W    4.441        68.46        1.332e-07    2009        \n",
      "jwst.nircam.F356W    11.62        225.3        4.48e-07     6973        \n",
      "jwst.nircam.F410M    17.51        373          6.242e-07    1.164e+04   \n",
      "jwst.nircam.F444W    21.65        477          8.29e-07     1.492e+04   \n",
      "sfh.sfr100Myrs       4.765        4.403        4.765e-27    15.79       \n",
      "stellar.m_star       3.51e+09     2.551e+09    3.367e+07    7.388e+09   \n",
      "agn.fracAGN          0.4993       0.3164       0            0.99        \n",
      "universe.redshift    1.765        1.811        0.01         7.999       \n",
      "================================================================================\n",
      "\n",
      "\n",
      "Valid photometric bands found: 11\n",
      "  jwst.nircam.F115W: F115W (1.154 μm)\n",
      "  jwst.nircam.F150W: F150W (1.501 μm)\n",
      "  jwst.nircam.F200W: F200W (1.988 μm)\n",
      "  jwst.nircam.F277W: F277W (2.776 μm)\n",
      "  jwst.nircam.F356W: F356W (3.565 μm)\n",
      "  jwst.nircam.F410M: F410M (4.083 μm)\n",
      "  jwst.nircam.F444W: F444W (4.402 μm)\n",
      "  jwst.miri.F770W: F770W (7.7 μm)\n",
      "  jwst.miri.F1000W: F1000W (10.0 μm)\n",
      "  jwst.miri.F1500W: F1500W (15.0 μm)\n",
      "  jwst.miri.F2100W: F2100W (21.0 μm)\n",
      "\n",
      "Target variable 'agn.fracAGN' found in dataset\n",
      "Target variable statistics:\n",
      "count    1000.000000\n",
      "mean        0.499330\n",
      "std         0.316352\n",
      "min         0.000000\n",
      "25%         0.200000\n",
      "50%         0.500000\n",
      "75%         0.800000\n",
      "max         0.990000\n",
      "Name: agn.fracAGN, dtype: float64\n"
     ]
    }
   ],
   "source": [
    "# Display comprehensive data summary\n",
    "catalog.print_data_summary()\n",
    "\n",
    "# Check which photometric bands were validated\n",
    "valid_bands = catalog.get_valid_bands()\n",
    "print(f\"\\nValid photometric bands found: {len(valid_bands)}\")\n",
    "for band_name, info in valid_bands.items():\n",
    "    print(f\"  {band_name}: {info['shorthand']} ({info['wavelength']} μm)\")\n",
    "\n",
    "# Check if our target variable exists\n",
    "target_column = 'agn.fracAGN'\n",
    "if target_column in catalog.get_data().columns:\n",
    "    print(f\"\\nTarget variable '{target_column}' found in dataset\")\n",
    "    target_stats = catalog.get_data()[target_column].describe()\n",
    "    print(\"Target variable statistics:\")\n",
    "    print(target_stats)\n",
    "else:\n",
    "    print(f\"Warning: Target variable '{target_column}' not found in dataset\")\n",
    "    print(\"Available columns:\", list(catalog.get_data().columns))"
   ]
  },
  {
   "cell_type": "markdown",
   "id": "3bc1b14a-67d6-4616-94d6-00ca86911c69",
   "metadata": {},
   "source": [
    "## Creating Train/Test/Validation Splits\n",
    "\n",
    "Before any modeling, we need to split our data into separate sets for training, validation, and testing. AGNBoost provides intelligent data splitting with optional stratification to ensure representative samples across all splits.\n",
    "\n",
    "We'll use the default split ratios:\n",
    "- 60% for training\n",
    "- 20% for validation  \n",
    "- 20% for testing\n",
    "\n",
    "The random state ensures reproducible results."
   ]
  },
  {
   "cell_type": "code",
   "execution_count": 27,
   "id": "74948d0c-4867-4f45-b4a9-63f618259095",
   "metadata": {},
   "outputs": [
    {
     "name": "stdout",
     "output_type": "stream",
     "text": [
      "Data split summary:\n",
      "  Total samples: 1000\n",
      "  Training: 600 (60.0%)\n",
      "  Validation: 200 (20.0%)\n",
      "  Test: 200 (20.0%)\n"
     ]
    }
   ],
   "source": [
    "# Create train/validation/test splitsget_train_val_test_sizes\n",
    "catalog.split_data(test_size=0.2, val_size=0.2, random_state=42)\n",
    "\n",
    "# Get split information\n",
    "split_info = catalog.get_train_val_test_sizes()\n",
    "print(\"Data split summary:\")\n",
    "print(f\"  Total samples: {split_info['total']}\")\n",
    "print(f\"  Training: {split_info['train']['size']} ({split_info['train']['percentage']:.1f}%)\")\n",
    "print(f\"  Validation: {split_info['validation']['size']} ({split_info['validation']['percentage']:.1f}%)\")\n",
    "print(f\"  Test: {split_info['test']['size']} ({split_info['test']['percentage']:.1f}%)\")"
   ]
  },
  {
   "cell_type": "markdown",
   "id": "e55f30a3-4ea2-4a15-a44c-f08fb6650f86",
   "metadata": {},
   "source": [
    "## Cleaning the Data\n",
    "\n",
    "Real astronomical datasets often contain missing values due to various observational limitations. Before training or making predictions, we will remove rows that have NaN values in critical columns.\n",
    "\n",
    "The `drop_nan()` method removes rows with missing values in the validated photometric band columns, ensuring our model receives complete data for all features."
   ]
  },
  {
   "cell_type": "code",
   "execution_count": 28,
   "id": "ce8d27e7-95f4-4a43-9d61-ad826e8b9c28",
   "metadata": {},
   "outputs": [
    {
     "name": "stdout",
     "output_type": "stream",
     "text": [
      "[INFO] No rows with NaN values found in the specified columns.\n"
     ]
    }
   ],
   "source": [
    "# Drop rows with NaN values in the validated columns\n",
    "catalog.drop_nan(inplace=True)\n"
   ]
  },
  {
   "cell_type": "markdown",
   "id": "ff7a9c97-2b1c-484d-a820-40292f3f0701",
   "metadata": {},
   "source": [
    "## Creating Features\n",
    "\n",
    "AGNBoost automatically engineers features from photometric data, including colors and transformations. Let's create the feature dataframe that will be used for modeling.\n",
    "\n",
    "By default, AGNBoost will create a features consisting of the photometric bands + derived colors + the squares of those derived colors"
   ]
  },
  {
   "cell_type": "code",
   "execution_count": 29,
   "id": "cb3f2a12-66b1-4772-8dad-feedce0369f3",
   "metadata": {},
   "outputs": [
    {
     "name": "stdout",
     "output_type": "stream",
     "text": [
      "[INFO] Created feature dataframe with 121 columns and 1000 rows.\n",
      "Feature engineering complete:\n",
      "  Feature dataframe shape: (1000, 121)\n"
     ]
    }
   ],
   "source": [
    "# Create features for modeling\n",
    "catalog.create_feature_dataframe()\n",
    "\n",
    "# Get information about created features\n",
    "features = catalog.get_features()\n",
    "print(f\"Feature engineering complete:\")\n",
    "print(f\"  Feature dataframe shape: {features.shape}\")\n"
   ]
  },
  {
   "cell_type": "markdown",
   "id": "f11e154d-69d0-49b1-b74c-aa61c0d8483e",
   "metadata": {},
   "source": [
    "## Loading the Pre-trained Model\n",
    "\n",
    "AGNBoost comes with pre-trained models for common astronomical tasks. We'll load the model specifically trained for AGN fraction estimation (`agn.fracAGN`).\n",
    "\n",
    "The `load_models()` method automatically:\n",
    "- Checks for compatible pre-trained models\n",
    "- Validates feature compatibility between the model and our data\n",
    "- Loads model metadata including training parameters and performance metrics"
   ]
  },
  {
   "cell_type": "code",
   "execution_count": 30,
   "id": "590e76a3-04d6-4c4f-81ec-6ef6d0058bfa",
   "metadata": {},
   "outputs": [
    {
     "name": "stdout",
     "output_type": "stream",
     "text": [
      "{'agn.fracAGN': <xgboostlss.model.XGBoostLSS object at 0x7905e74b1090>}\n",
      "✅ Pre-trained model loaded successfully!\n",
      "\n",
      "Model information:\n",
      "  Best validation score: -649218.125000\n",
      "  Number of features: 121\n"
     ]
    }
   ],
   "source": [
    "# Initialize AGNBoost with the target model\n",
    "agnboost_m = model.AGNBoost( feature_names = catalog.get_feature_names(),\n",
    "                          target_variables = {'agn.fracAGN' : 'ZABeta'},\n",
    "                         )\n",
    "\n",
    "# Load pre-trained models\n",
    "filename = '2025_05_22-PM06_59_58_agn.fracAGN_model.pkl.gz'\n",
    "agnboost_m.load_model(file_name = filename, overwrite = True)\n",
    "print(agnboost_m.models)\n",
    "\n",
    "if agnboost_m.models['agn.fracAGN'] is not None:\n",
    "    print(\"✅ Pre-trained model loaded successfully!\")\n",
    "    \n",
    "    # Display model information\n",
    "    model_info = agnboost_m.model_info.get('agn.fracAGN', {})\n",
    "    if model_info:\n",
    "        print(\"\\nModel information:\")\n",
    "        if 'training_timestamp' in model_info:\n",
    "            print(f\"  Trained: {model_info['training_timestamp']}\")\n",
    "        if 'best_score' in model_info:\n",
    "            print(f\"  Best validation score: {model_info['best_score']:.6f}\")\n",
    "        if 'features' in model_info:\n",
    "            print(f\"  Number of features: {len(model_info['features'])}\")\n",
    "else:\n",
    "    print(\"❌ No pre-trained models found!\")\n",
    "    print(\"You may need to train a new model or check the models directory.\")"
   ]
  },
  {
   "cell_type": "markdown",
   "id": "1a7c0da7-4e33-48a5-9a61-0d2272bf0649",
   "metadata": {},
   "source": [
    "## Making Predictions\n",
    "\n",
    "Now we'll use our loaded model to predict AGN fractions for the test set. AGNBoost seamlessly handles the conversion of our catalog data into the format required by the underlying XGBoost model.\n",
    "\n",
    "The prediction process uses the engineered features (colors, log magnitudes, etc.) that were automatically created from our photometric band data."
   ]
  },
  {
   "cell_type": "code",
   "execution_count": 31,
   "id": "ce129cb0-80a7-4a26-b45c-357feb219538",
   "metadata": {},
   "outputs": [
    {
     "name": "stderr",
     "output_type": "stream",
     "text": [
      "2025-05-25 17:01:36,708 - AGNBoost.AGNBoost - WARNING - Catalog object passsed. Taking the features and labels of the test set stored in the passed Catalog.\n"
     ]
    },
    {
     "name": "stdout",
     "output_type": "stream",
     "text": [
      "  Mean: 0.504962\n",
      "  Std: 0.325251\n",
      "  Min: 0.000308\n",
      "  Max: 0.989859\n"
     ]
    }
   ],
   "source": [
    "# Make predictions on the test set\n",
    "#agnboost_m.models['agn.fracAGN'].booster.set_param( {'device': 'cpu'})\n",
    "preds = agnboost_m.predict( data = catalog, split_use = 'test', model_name = 'agn.fracAGN')\n",
    "\n",
    "print(f\"  Mean: {np.mean(preds):.6f}\")\n",
    "print(f\"  Std: {np.std(preds):.6f}\")\n",
    "print(f\"  Min: {np.min(preds):.6f}\")\n",
    "print(f\"  Max: {np.max(preds):.6f}\")\n"
   ]
  },
  {
   "cell_type": "markdown",
   "id": "2a532c6a-744f-490a-9989-3379efcebd96",
   "metadata": {},
   "source": [
    "## Quantifying Prediction Uncertainty\n",
    "\n",
    "One of AGNBoost's key advantages is its ability to provide robust uncertainty estimates through XGBoostLSS distributional modeling. Rather than just point estimates, we get full uncertainty quantification for each prediction.\n",
    "\n",
    "The `prediction_uncertainty()` method returns uncertainty estimates that account for both model uncertainty and the inherent variability in the data. This is crucial for astronomical applications where understanding prediction confidence is essential for scientific interpretation.\n",
    "\n",
    "Since the loaded data is a CIGALE mock catalog with no photometric uncertainty, we will only estimate the model (aleatoric + epistemic) uncertainty for each source."
   ]
  },
  {
   "cell_type": "code",
   "execution_count": 32,
   "id": "6e06ebd1-294a-4f96-854f-c37c98649a25",
   "metadata": {},
   "outputs": [
    {
     "name": "stderr",
     "output_type": "stream",
     "text": [
      "2025-05-25 17:01:39,333 - AGNBoost.AGNBoost - WARNING - Catalog object passsed. Taking the features and labels of the None set stored in the passed Catalog.\n",
      "Processing truncated model uncertainty: 100%|█| 1000/1000 [07:09<00:00,  2.33it/"
     ]
    },
    {
     "name": "stdout",
     "output_type": "stream",
     "text": [
      "✅ Uncertainty estimates generated\n",
      "Uncertainty statistics:\n",
      "  Mean uncertainty: 0.033900\n",
      "  Std uncertainty: 0.013166\n",
      "  Min uncertainty: 0.000940\n",
      "  Max uncertainty: 0.071419\n"
     ]
    },
    {
     "name": "stderr",
     "output_type": "stream",
     "text": [
      "\n"
     ]
    }
   ],
   "source": [
    "model_uncertainty = agnboost_m.prediction_uncertainty( uncertainty_type = 'model', model_name = 'agn.fracAGN', catalog = catalog)\n",
    "\n",
    "print(f\"✅ Uncertainty estimates generated\")\n",
    "print(f\"Uncertainty statistics:\")\n",
    "print(f\"  Mean uncertainty: {np.mean(model_uncertainty):.6f}\")\n",
    "print(f\"  Std uncertainty: {np.std(model_uncertainty):.6f}\")\n",
    "print(f\"  Min uncertainty: {np.min(model_uncertainty):.6f}\")\n",
    "print(f\"  Max uncertainty: {np.max(model_uncertainty):.6f}\")"
   ]
  },
  {
   "cell_type": "code",
   "execution_count": null,
   "id": "4b52cc31-203d-44c1-9c40-825f62ccb80a",
   "metadata": {},
   "outputs": [],
   "source": []
  }
 ],
 "metadata": {
  "kernelspec": {
   "display_name": "Python 3 (ipykernel)",
   "language": "python",
   "name": "python3"
  },
  "language_info": {
   "codemirror_mode": {
    "name": "ipython",
    "version": 3
   },
   "file_extension": ".py",
   "mimetype": "text/x-python",
   "name": "python",
   "nbconvert_exporter": "python",
   "pygments_lexer": "ipython3",
   "version": "3.11.4"
  }
 },
 "nbformat": 4,
 "nbformat_minor": 5
}
