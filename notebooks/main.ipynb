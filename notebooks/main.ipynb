{
 "cells": [
  {
   "cell_type": "code",
   "execution_count": 1,
   "id": "1429b889-5091-4c93-ae30-e1a42060f5f3",
   "metadata": {},
   "outputs": [],
   "source": [
    "%load_ext autoreload\n",
    "%autoreload 2"
   ]
  },
  {
   "cell_type": "code",
   "execution_count": 3,
   "id": "d778aa85-4bb8-4a23-a11a-c7f70d40f21c",
   "metadata": {},
   "outputs": [],
   "source": [
    "import os\n",
    "os.chdir(os.path.expanduser(\"/home/kurt/Documents/agnboost/\"))\n",
    "\n",
    "from agnboost import dataset, model\n",
    "from astropy.table import Table, Column, vstack\n",
    "import numpy as np\n",
    "import gzip\n",
    "import pickle"
   ]
  },
  {
   "cell_type": "code",
   "execution_count": 7,
   "id": "37b285b9-110b-4f65-8106-1cd498f8268f",
   "metadata": {},
   "outputs": [],
   "source": [
    "sim_table = Table.read('/home/kurt/Documents/cigale/mega_mock_big/models-block-0.fits', format='fits')\n",
    "\n",
    "#sim_table.write('/home/kurt/Documents/agnboost/data/models.fits')\n",
    "\n",
    "model_path = '/home/kurt/Documents/agnboost/data/models.fits'\n",
    "\n",
    "with gzip.open(model_path + '.gz', 'wb') as f:\n",
    "    pickle.dump(sim_table, f)"
   ]
  },
  {
   "cell_type": "code",
   "execution_count": 8,
   "id": "2f3a9768-a5a4-420c-a40d-172426f661e9",
   "metadata": {},
   "outputs": [],
   "source": [
    "#catalog = dataset.Catalog(path='data/raw/megav0.2_cigale_hasz_fized.txt', delimiter = \" \", summarize = False)#, bands_file='allowed_bands.json')\n",
    "\n",
    "sim_table = Table.read('/home/kurt/Documents/cigale/mega_mock_big/models-block-0.fits', format='fits')\n",
    "\n",
    "\n",
    "sim_df = sim_table.to_pandas()\n",
    "sim_df.replace([np.inf, -np.inf], np.nan, inplace=True)\n",
    "\n",
    "sim_df.dropna(axis = 0, how = 'any', inplace = True)\n",
    "sim_df.reset_index(drop=True, inplace = True)\n",
    "sim_sampled_df = sim_df.sample( n = 10**3 ).reset_index(drop = True)\n",
    "sim_sampled_df.to_csv('/home/kurt/Documents/agnboost/data/cigale_mock_small.csv', sep = ',', index = False)\n",
    "\n",
    "#catalog = dataset.Catalog(path='/home/kurt/Documents/cigale/mega_mock_big/models-block-0.fits', delimiter = \" \", summarize = False)#, bands_file='allowed_bands.json')\n",
    "#catalog = dataset.Catalog(data = sim_sampled_df, delimiter = \" \", summarize = False)#, bands_file='allowed_bands.json')"
   ]
  },
  {
   "cell_type": "code",
   "execution_count": 6,
   "id": "6ca496ed-9289-4378-877b-250e62a0c9b9",
   "metadata": {},
   "outputs": [
    {
     "data": {
      "text/plain": [
       "(Index([5026, 9881, 3214, 6504, 9875, 9281, 2483, 3696, 5883, 5626,\n",
       "        ...\n",
       "        3736, 2227, 4241, 1899, 1338, 5910, 6894, 2451, 3287, 4623],\n",
       "       dtype='int64', length=6000),\n",
       " Index([2275, 4801, 6104, 7938,  279, 8527, 4978, 1809, 3841, 8796,\n",
       "        ...\n",
       "        2769, 6937, 8126, 8737, 1756, 4884, 7914, 3924, 1333, 6048],\n",
       "       dtype='int64', length=2000),\n",
       " Index([3669,  622, 2069,  345, 5354, 6687, 4439, 7610, 9778, 4677,\n",
       "        ...\n",
       "        8070, 4774, 9140, 4036, 9271, 8598, 4280, 4462, 2419, 3079],\n",
       "       dtype='int64', length=2000))"
      ]
     },
     "execution_count": 6,
     "metadata": {},
     "output_type": "execute_result"
    }
   ],
   "source": [
    "catalog.split_data(test_size = 0.2, val_size = 0.2)"
   ]
  },
  {
   "cell_type": "code",
   "execution_count": 1,
   "id": "f842f7d8-d9fe-4f3f-ae14-2edfb4070b24",
   "metadata": {},
   "outputs": [
    {
     "ename": "NameError",
     "evalue": "name 'catalog' is not defined",
     "output_type": "error",
     "traceback": [
      "\u001b[0;31m---------------------------------------------------------------------------\u001b[0m",
      "\u001b[0;31mNameError\u001b[0m                                 Traceback (most recent call last)",
      "Cell \u001b[0;32mIn[1], line 1\u001b[0m\n\u001b[0;32m----> 1\u001b[0m \u001b[43mcatalog\u001b[49m\u001b[38;5;241m.\u001b[39mdata\u001b[38;5;241m.\u001b[39miloc[catalog\u001b[38;5;241m.\u001b[39mtrainval_indices]\u001b[38;5;241m.\u001b[39mshape\n",
      "\u001b[0;31mNameError\u001b[0m: name 'catalog' is not defined"
     ]
    }
   ],
   "source": [
    "catalog.data.iloc[catalog.trainval_indices].shape"
   ]
  },
  {
   "cell_type": "code",
   "execution_count": 106,
   "id": "daed6b57-2742-4aba-ad19-1d86f251f41a",
   "metadata": {},
   "outputs": [],
   "source": [
    "data = catalog.get_split_df(split_type=\"train\", include_features = True, include_target = 'agn.fracAGN', return_DMatrix = True)"
   ]
  },
  {
   "cell_type": "code",
   "execution_count": 107,
   "id": "6dead51c-e16c-4fc2-9699-a05f1861978a",
   "metadata": {},
   "outputs": [
    {
     "name": "stdout",
     "output_type": "stream",
     "text": [
      "<xgboost.core.DMatrix object at 0x7b1245d89d10>\n"
     ]
    }
   ],
   "source": [
    "print(data)"
   ]
  },
  {
   "cell_type": "code",
   "execution_count": 46,
   "id": "bdea57b6-02e0-4b37-aef0-34a76ddaa157",
   "metadata": {},
   "outputs": [
    {
     "name": "stderr",
     "output_type": "stream",
     "text": [
      "2025-05-22 15:11:04,387 - AGNBoost.Catalog - WARNING - Warning: Column jwst.nircam.F115W contains non-positive values. Setting them to NaN for log calculation.\n",
      "2025-05-22 15:11:04,388 - AGNBoost.Catalog - WARNING - Warning: Column jwst.nircam.F150W contains non-positive values. Setting them to NaN for log calculation.\n",
      "2025-05-22 15:11:04,389 - AGNBoost.Catalog - WARNING - Warning: Column jwst.nircam.F200W contains non-positive values. Setting them to NaN for log calculation.\n",
      "2025-05-22 15:11:04,390 - AGNBoost.Catalog - WARNING - Warning: Column jwst.nircam.F410M contains non-positive values. Setting them to NaN for log calculation.\n",
      "2025-05-22 15:11:04,391 - AGNBoost.Catalog - WARNING - Warning: Column jwst.miri.F1500W contains non-positive values. Setting them to NaN for log calculation.\n",
      "2025-05-22 15:11:04,391 - AGNBoost.Catalog - WARNING - Warning: Column jwst.miri.F2100W contains non-positive values. Setting them to NaN for log calculation.\n"
     ]
    },
    {
     "name": "stdout",
     "output_type": "stream",
     "text": [
      "Current working directory: /home/kurt/Documents/agnboost\n",
      "Looking for bands file at: /home/kurt/Documents/agnboost/allowed_bands.json\n",
      "[INFO] Loaded bands file metadata: This file contains the allowed photometric bands for JWST\n",
      "[INFO] Loaded 11 allowed bands from agnboost/allowed_bands.json\n",
      "[INFO] Attempting to load file with delimiter: ' '\n",
      "[INFO] Successfully loaded data with 2158 rows.\n",
      "[INFO] Found 11 valid band columns:\n",
      "[INFO]   - jwst.nircam.F115W (F115W): 1.154 μm\n",
      "[INFO]   - jwst.nircam.F150W (F150W): 1.501 μm\n",
      "[INFO]   - jwst.nircam.F200W (F200W): 1.988 μm\n",
      "[INFO]   - jwst.nircam.F277W (F277W): 2.776 μm\n",
      "[INFO]   - jwst.nircam.F356W (F356W): 3.565 μm\n",
      "[INFO]   - jwst.nircam.F410M (F410M): 4.083 μm\n",
      "[INFO]   - jwst.nircam.F444W (F444W): 4.402 μm\n",
      "[INFO]   - jwst.miri.F770W (F770W): 7.7 μm\n",
      "[INFO]   - jwst.miri.F1000W (F1000W): 10.0 μm\n",
      "[INFO]   - jwst.miri.F1500W (F1500W): 15.0 μm\n",
      "[INFO]   - jwst.miri.F2100W (F2100W): 21.0 μm\n",
      "[INFO] Found 2 common non-band columns: ['id', 'redshift']\n",
      "[INFO] S/N cut on jwst.miri.F770W (F770W) with threshold 3.0: dropped 374 rows (17.33%).\n",
      "[INFO] S/N cut on jwst.miri.F2100W (F2100W) with threshold 3.0: dropped 939 rows (52.63%).\n",
      "[INFO] S/N cut on jwst.miri.F1500W (F1500W) with threshold 3.0: dropped 144 rows (17.04%).\n",
      "[INFO] Total S/N cut result: kept 701/2158 rows (32.48%), dropped 1457 rows (67.52%).\n",
      "[INFO] Dropped 3 rows (0.43%) with NaN values in any of these columns: jwst.nircam.F115W (F115W), jwst.nircam.F150W (F150W), jwst.nircam.F200W (F200W), jwst.nircam.F277W (F277W), jwst.nircam.F356W (F356W), jwst.nircam.F410M (F410M), jwst.nircam.F444W (F444W), jwst.miri.F770W (F770W), jwst.miri.F1000W (F1000W), jwst.miri.F1500W (F1500W), jwst.miri.F2100W (F2100W)\n",
      "[INFO] Rows remaining: 698/701 (99.57%)\n"
     ]
    }
   ],
   "source": [
    "mega_catalog = dataset.Catalog(path='data/raw/megav0.2_cigale_hasz_fized.txt', delimiter = \" \", summarize = False)#, bands_file='allowed_bands.json')\n",
    "\n",
    "mega_catalog.sn_cut(columns = {'jwst.miri.F770W':'jwst.miri.F770W_err',\n",
    "                                  'jwst.miri.F2100W': 'jwst.miri.F2100W_err',\n",
    "                                   'jwst.miri.F1500W': 'jwst.miri.F1500W_err'\n",
    "                                  }, \n",
    "                        threshold = 3.0,\n",
    "                       inplace = True)\n",
    "\n",
    "mega_catalog.drop_nan(inplace = True)"
   ]
  },
  {
   "cell_type": "code",
   "execution_count": 7,
   "id": "56a85c34-0271-48ef-8311-34434f2aa3d2",
   "metadata": {},
   "outputs": [
    {
     "name": "stdout",
     "output_type": "stream",
     "text": [
      "Current working directory: /home/kurt/Documents/agnboost\n",
      "Looking for bands file at: /home/kurt/Documents/agnboost/allowed_bands.json\n",
      "[INFO] Loaded bands file metadata: This file contains the allowed photometric bands for JWST\n",
      "[INFO] Loaded 11 allowed bands from agnboost/allowed_bands.json\n",
      "[INFO] Using provided pandas DataFrame.\n",
      "[INFO] Found 11 valid band columns:\n",
      "[INFO]   - jwst.nircam.F115W (F115W): 1.154 μm\n",
      "[INFO]   - jwst.nircam.F150W (F150W): 1.501 μm\n",
      "[INFO]   - jwst.nircam.F200W (F200W): 1.988 μm\n",
      "[INFO]   - jwst.nircam.F277W (F277W): 2.776 μm\n",
      "[INFO]   - jwst.nircam.F356W (F356W): 3.565 μm\n",
      "[INFO]   - jwst.nircam.F410M (F410M): 4.083 μm\n",
      "[INFO]   - jwst.nircam.F444W (F444W): 4.402 μm\n",
      "[INFO]   - jwst.miri.F770W (F770W): 7.7 μm\n",
      "[INFO]   - jwst.miri.F1000W (F1000W): 10.0 μm\n",
      "[INFO]   - jwst.miri.F1500W (F1500W): 15.0 μm\n",
      "[INFO]   - jwst.miri.F2100W (F2100W): 21.0 μm\n",
      "[INFO] Features not yet created. Creating with default parameters.\n",
      "[INFO] Created feature dataframe with 121 columns and 10000 rows.\n"
     ]
    },
    {
     "data": {
      "text/plain": [
       "Index(['jwst.nircam.F115W', 'jwst.nircam.F150W', 'jwst.nircam.F200W',\n",
       "       'jwst.nircam.F277W', 'jwst.nircam.F356W', 'jwst.nircam.F410M',\n",
       "       'jwst.nircam.F444W', 'jwst.miri.F770W', 'jwst.miri.F1000W',\n",
       "       'jwst.miri.F1500W',\n",
       "       ...\n",
       "       'F356W/F277W^2', 'F356W/F200W^2', 'F356W/F150W^2', 'F356W/F115W^2',\n",
       "       'F277W/F200W^2', 'F277W/F150W^2', 'F277W/F115W^2', 'F200W/F150W^2',\n",
       "       'F200W/F115W^2', 'F150W/F115W^2'],\n",
       "      dtype='object', length=121)"
      ]
     },
     "execution_count": 7,
     "metadata": {},
     "output_type": "execute_result"
    }
   ],
   "source": [
    "catalog = dataset.Catalog(data = sim_sampled_df, delimiter = \" \", summarize = False)\n",
    "agnboost = model.AGNBoost( feature_names = catalog.get_feature_names(),\n",
    "                          target_variables = {'agn.fracAGN' : 'ZABeta'},\n",
    "                         )\n",
    "\n",
    "agnboost.feature_names"
   ]
  },
  {
   "cell_type": "code",
   "execution_count": 120,
   "id": "d5a5b595-aa1b-4f9b-9a5f-33c0d31b4171",
   "metadata": {},
   "outputs": [
    {
     "data": {
      "text/plain": [
       "Index([140605, 198559, 613640,   7950, 125538, 622641, 480606, 551622, 981298,\n",
       "       363342,\n",
       "       ...\n",
       "       754988, 601806, 679018, 603499, 816756, 404306, 696782, 547165, 363056,\n",
       "       918106],\n",
       "      dtype='int64', length=6000)"
      ]
     },
     "execution_count": 120,
     "metadata": {},
     "output_type": "execute_result"
    }
   ],
   "source": [
    "catalog.train_indices"
   ]
  },
  {
   "cell_type": "code",
   "execution_count": 8,
   "id": "d8d661bc-1885-4b51-bbcb-cc5e9809fc6b",
   "metadata": {},
   "outputs": [
    {
     "name": "stderr",
     "output_type": "stream",
     "text": [
      "2025-05-20 19:06:55,622 - AGNBoost.AGNBoost - WARNING - Catalog object passsed. Taking the features and labels of the trainval set stored in the passed Catalog.\n",
      "2025-05-20 19:06:55,623 - AGNBoost.Catalog - WARNING - Data has not been split. Running split_data with default parameters.\n",
      "[I 2025-05-20 19:06:55,673] A new study created in memory with name: no-name-08acf59d-c591-459f-9b49-5d397a67cea9\n"
     ]
    },
    {
     "data": {
      "application/vnd.jupyter.widget-view+json": {
       "model_id": "ea488248cb644cab902f1c7ec3167491",
       "version_major": 2,
       "version_minor": 0
      },
      "text/plain": [
       "  0%|          | 0/2 [00:00<?, ?it/s]"
      ]
     },
     "metadata": {},
     "output_type": "display_data"
    },
    {
     "name": "stderr",
     "output_type": "stream",
     "text": [
      "CUDA initialization: CUDA unknown error - this may be due to an incorrectly set up environment, e.g. changing env variable CUDA_VISIBLE_DEVICES after program start. Setting the available devices to be zero. (Triggered internally at ../c10/cuda/CUDAFunctions.cpp:108.)\n"
     ]
    },
    {
     "name": "stdout",
     "output_type": "stream",
     "text": [
      "6.7 seconds\n",
      "[I 2025-05-20 19:07:02,401] Trial 0 finished with value: -4233.5046385000005 and parameters: {'eta': 0.8, 'stabilization': 'None', 'response_fn': 'exp', 'booster': 'gbtree', 'tree_method': 'hist', 'device': 'cpu'}. Best is trial 0 with value: -4233.5046385000005.\n",
      "6.7 seconds\n",
      "[I 2025-05-20 19:07:09,097] Trial 1 finished with value: -4226.1391605 and parameters: {'eta': 0.8, 'stabilization': 'None', 'response_fn': 'exp', 'booster': 'gbtree', 'tree_method': 'approx', 'device': 'cpu'}. Best is trial 0 with value: -4233.5046385000005.\n",
      "\n",
      "Hyper-Parameter Optimization successfully finished.\n",
      "Number of finished trials:  2\n",
      "\tBest trial:\n",
      "\t\tValue: -4233.5046385000005\n",
      "\t\tParams:\n",
      "\t\t\teta: 0.8\n",
      "\t\t\tstabilization: None\n",
      "\t\t\tresponse_fn: exp\n",
      "\t\t\tbooster: gbtree\n",
      "\t\t\ttree_method: hist\n",
      "\t\t\tdevice: cpu\n",
      "\t\t\topt_rounds: 1\n"
     ]
    }
   ],
   "source": [
    "'''param_dict_1stpass = {\n",
    "    \"eta\":              [\"none\", [.8]],\n",
    "    \"stabilization\":          [\"categorical\", [\"None\", \"MAD\", \"L2\"]], #, \"MAD\", \"L2\"]],\n",
    "    \"response_fn\":          [\"categorical\", [\"softplus\", \"exp\"]],\n",
    "    \"booster\":          [\"categorical\", [\"gbtree\"]],\n",
    "    \"tree_method\":    [\"categorical\", [\"hist\",\"approx\"] ], #, \"exact\"] ], # hist\"\n",
    "    \"device\" : [\"categorical\", [\"cpu\"] ]\n",
    "}'''\n",
    "\n",
    "param_dict_1stpass = {\n",
    "    \"eta\":              [\"none\", [.8]],\n",
    "    \"stabilization\":          [\"categorical\", [\"None\"]], #, \"MAD\", \"L2\"]],\n",
    "    \"response_fn\":          [\"categorical\", [ \"exp\"]],\n",
    "    \"booster\":          [\"categorical\", [\"gbtree\"]],\n",
    "    \"tree_method\":    [\"categorical\", [\"hist\",\"approx\"] ], #, \"exact\"] ], # hist\"\n",
    "    \"device\" : [\"categorical\", [\"cpu\"] ]\n",
    "}\n",
    "\n",
    "best_params_1stpass = agnboost.tune_model( model_name = 'agn.fracAGN',\n",
    "                     param_grid = param_dict_1stpass,\n",
    "                    dtune = catalog,\n",
    "                    split_type = 'trainval'\n",
    "                   )"
   ]
  },
  {
   "cell_type": "code",
   "execution_count": 162,
   "id": "19808908-5bb9-4e66-897e-722ad4bc73e6",
   "metadata": {
    "scrolled": true
   },
   "outputs": [
    {
     "name": "stderr",
     "output_type": "stream",
     "text": [
      "2025-05-18 18:43:11,810 - AGNBoost.AGNBoost - WARNING - Catalog object passsed. Taking the features and labels of the trainval set stored in the passed Catalog.\n",
      "``multivariate`` option is an experimental feature. The interface can change in the future.\n",
      "[I 2025-05-18 18:43:11,825] A new study created in memory with name: no-name-5252bfff-e373-46b7-b5f2-31d36379767d\n"
     ]
    },
    {
     "data": {
      "application/vnd.jupyter.widget-view+json": {
       "model_id": "7b799061732a487d8136391858012e28",
       "version_major": 2,
       "version_minor": 0
      },
      "text/plain": [
       "   0%|          | 00:00/10:00"
      ]
     },
     "metadata": {},
     "output_type": "display_data"
    },
    {
     "name": "stdout",
     "output_type": "stream",
     "text": [
      "3.3 seconds\n",
      "[I 2025-05-18 18:43:15,179] Trial 0 finished with value: -5780.8288575 and parameters: {'eta': 0.8, 'max_depth': 10, 'gamma': 35.69980323688695, 'min_child_weight': 214, 'lambda': 6.406887878977048, 'alpha': 0.00012980161256597456, 'subsample': 0.9342219823582345, 'colsample_bytree': 0.903893945020075, 'stabilization': 'None', 'response_fn': 'exp', 'tree_method': 'hist', 'device': 'cpu'}. Best is trial 0 with value: -5780.8288575.\n"
     ]
    },
    {
     "name": "stderr",
     "output_type": "stream",
     "text": [
      "invalid value encountered in subtract\n"
     ]
    },
    {
     "name": "stdout",
     "output_type": "stream",
     "text": [
      "4.2 seconds\n",
      "[I 2025-05-18 18:43:19,370] Trial 1 finished with value: 100000000.0 and parameters: {'eta': 0.8, 'max_depth': 9, 'gamma': 4.878835199790335e-07, 'min_child_weight': 168, 'lambda': 8.499355676432142, 'alpha': 1.0477601330850037e-08, 'subsample': 0.9828499530682299, 'colsample_bytree': 0.7872950477696399, 'stabilization': 'None', 'response_fn': 'exp', 'tree_method': 'hist', 'device': 'cpu'}. Best is trial 0 with value: -5780.8288575.\n",
      "4.7 seconds\n",
      "[I 2025-05-18 18:43:24,115] Trial 2 finished with value: -6417.093506 and parameters: {'eta': 0.8, 'max_depth': 10, 'gamma': 1.714046841884782e-08, 'min_child_weight': 222, 'lambda': 2.131542490857848, 'alpha': 0.024693480998765605, 'subsample': 0.9274892556017107, 'colsample_bytree': 0.9249336439080185, 'stabilization': 'None', 'response_fn': 'exp', 'tree_method': 'hist', 'device': 'cpu'}. Best is trial 2 with value: -6417.093506.\n",
      "3.0 seconds\n",
      "[I 2025-05-18 18:43:27,163] Trial 3 finished with value: -6672.7241214999995 and parameters: {'eta': 0.8, 'max_depth': 9, 'gamma': 1.8397896294785108, 'min_child_weight': 50, 'lambda': 57.0329497710586, 'alpha': 1.349198845809784, 'subsample': 0.9603375400887795, 'colsample_bytree': 0.9521550201972825, 'stabilization': 'None', 'response_fn': 'exp', 'tree_method': 'hist', 'device': 'cpu'}. Best is trial 3 with value: -6672.7241214999995.\n"
     ]
    },
    {
     "name": "stderr",
     "output_type": "stream",
     "text": [
      "invalid value encountered in subtract\n"
     ]
    },
    {
     "name": "stdout",
     "output_type": "stream",
     "text": [
      "3.8 seconds\n",
      "[I 2025-05-18 18:43:30,946] Trial 4 finished with value: -4923.1777345 and parameters: {'eta': 0.8, 'max_depth': 8, 'gamma': 0.0003985078089542969, 'min_child_weight': 63, 'lambda': 33.20618576583262, 'alpha': 0.005329360096820767, 'subsample': 0.7059679832819569, 'colsample_bytree': 0.5916011886557715, 'stabilization': 'None', 'response_fn': 'exp', 'tree_method': 'hist', 'device': 'cpu'}. Best is trial 3 with value: -6672.7241214999995.\n",
      "3.6 seconds\n",
      "[I 2025-05-18 18:43:34,523] Trial 5 finished with value: -6254.938232500001 and parameters: {'eta': 0.8, 'max_depth': 6, 'gamma': 0.0004537822697314188, 'min_child_weight': 90, 'lambda': 16.257325389008706, 'alpha': 40.407806822774084, 'subsample': 0.9493029422393393, 'colsample_bytree': 0.6309733228822126, 'stabilization': 'None', 'response_fn': 'exp', 'tree_method': 'hist', 'device': 'cpu'}. Best is trial 3 with value: -6672.7241214999995.\n",
      "3.7 seconds\n",
      "[I 2025-05-18 18:43:38,225] Trial 6 finished with value: -6487.2094725 and parameters: {'eta': 0.8, 'max_depth': 6, 'gamma': 6.247379866839217e-08, 'min_child_weight': 23, 'lambda': 1.487345533715642, 'alpha': 69.10449691208649, 'subsample': 0.7002625127808374, 'colsample_bytree': 0.5905538447343388, 'stabilization': 'None', 'response_fn': 'exp', 'tree_method': 'hist', 'device': 'cpu'}. Best is trial 3 with value: -6672.7241214999995.\n",
      "2.8 seconds\n",
      "[I 2025-05-18 18:43:41,032] Trial 7 finished with value: -6161.672119000001 and parameters: {'eta': 0.8, 'max_depth': 3, 'gamma': 0.05526420355293303, 'min_child_weight': 95, 'lambda': 1.3252990126881343, 'alpha': 0.00038372847865387935, 'subsample': 0.7482629850535842, 'colsample_bytree': 0.8052695600208686, 'stabilization': 'None', 'response_fn': 'exp', 'tree_method': 'hist', 'device': 'cpu'}. Best is trial 3 with value: -6672.7241214999995.\n",
      "3.4 seconds\n",
      "[I 2025-05-18 18:43:44,407] Trial 8 finished with value: -4424.2836915 and parameters: {'eta': 0.8, 'max_depth': 7, 'gamma': 0.07450735103743157, 'min_child_weight': 136, 'lambda': 6.159767057023781, 'alpha': 2.2449148269022803e-05, 'subsample': 0.8445095746849869, 'colsample_bytree': 0.6507276623875704, 'stabilization': 'None', 'response_fn': 'exp', 'tree_method': 'hist', 'device': 'cpu'}. Best is trial 3 with value: -6672.7241214999995.\n",
      "3.6 seconds\n",
      "[I 2025-05-18 18:43:48,023] Trial 9 finished with value: -6951.1516114999995 and parameters: {'eta': 0.8, 'max_depth': 4, 'gamma': 2.3664349472375106e-07, 'min_child_weight': 184, 'lambda': 140.9339709098491, 'alpha': 1.439915833623764e-06, 'subsample': 0.70363962822435, 'colsample_bytree': 0.9077274838745069, 'stabilization': 'None', 'response_fn': 'exp', 'tree_method': 'hist', 'device': 'cpu'}. Best is trial 9 with value: -6951.1516114999995.\n",
      "3.8 seconds\n",
      "[I 2025-05-18 18:43:51,862] Trial 10 finished with value: -6639.1088865 and parameters: {'eta': 0.8, 'max_depth': 5, 'gamma': 1.0659739043029744e-08, 'min_child_weight': 203, 'lambda': 84.58614814506325, 'alpha': 4.484672907894184e-06, 'subsample': 0.7440706088455773, 'colsample_bytree': 0.9703827640343143, 'stabilization': 'None', 'response_fn': 'exp', 'tree_method': 'hist', 'device': 'cpu'}. Best is trial 9 with value: -6951.1516114999995.\n",
      "4.0 seconds\n",
      "[I 2025-05-18 18:43:55,831] Trial 11 finished with value: -6790.5598145 and parameters: {'eta': 0.8, 'max_depth': 9, 'gamma': 0.28652788748544256, 'min_child_weight': 77, 'lambda': 81.50511044891589, 'alpha': 0.045674431040782996, 'subsample': 0.9134733824339435, 'colsample_bytree': 0.821267644533853, 'stabilization': 'None', 'response_fn': 'exp', 'tree_method': 'hist', 'device': 'cpu'}. Best is trial 9 with value: -6951.1516114999995.\n",
      "[I 2025-05-18 18:43:56,707] Trial 12 pruned. Trial was pruned at iteration 20.\n",
      "5.3 seconds\n",
      "[I 2025-05-18 18:44:02,058] Trial 13 finished with value: -6955.318359499999 and parameters: {'eta': 0.8, 'max_depth': 10, 'gamma': 0.012318242196467426, 'min_child_weight': 132, 'lambda': 85.37503877033146, 'alpha': 6.349538118607218e-05, 'subsample': 0.9893551697956698, 'colsample_bytree': 0.7826031952327276, 'stabilization': 'None', 'response_fn': 'exp', 'tree_method': 'hist', 'device': 'cpu'}. Best is trial 13 with value: -6955.318359499999.\n",
      "5.1 seconds\n",
      "[I 2025-05-18 18:44:07,164] Trial 14 finished with value: -6722.555176 and parameters: {'eta': 0.8, 'max_depth': 10, 'gamma': 0.012981548611141959, 'min_child_weight': 144, 'lambda': 48.288652719441195, 'alpha': 5.494804570956845e-05, 'subsample': 0.9935242646165247, 'colsample_bytree': 0.6803643932083532, 'stabilization': 'None', 'response_fn': 'exp', 'tree_method': 'hist', 'device': 'cpu'}. Best is trial 13 with value: -6955.318359499999.\n",
      "3.2 seconds\n",
      "[I 2025-05-18 18:44:10,395] Trial 15 finished with value: -6865.5825195 and parameters: {'eta': 0.8, 'max_depth': 4, 'gamma': 1.2750545746753828e-08, 'min_child_weight': 150, 'lambda': 97.47993685192019, 'alpha': 0.0002285663561110129, 'subsample': 0.7213600550453474, 'colsample_bytree': 0.6214062032904487, 'stabilization': 'None', 'response_fn': 'exp', 'tree_method': 'hist', 'device': 'cpu'}. Best is trial 13 with value: -6955.318359499999.\n",
      "4.9 seconds\n",
      "[I 2025-05-18 18:44:15,356] Trial 16 finished with value: -6611.977783 and parameters: {'eta': 0.8, 'max_depth': 9, 'gamma': 0.007027549741954773, 'min_child_weight': 156, 'lambda': 50.86629101502056, 'alpha': 2.1211362681518044e-08, 'subsample': 0.9250112877593175, 'colsample_bytree': 0.8931720852792863, 'stabilization': 'None', 'response_fn': 'exp', 'tree_method': 'hist', 'device': 'cpu'}. Best is trial 13 with value: -6955.318359499999.\n",
      "3.4 seconds\n",
      "[I 2025-05-18 18:44:18,734] Trial 17 finished with value: -6908.3513185 and parameters: {'eta': 0.8, 'max_depth': 3, 'gamma': 1.3729232907662452e-05, 'min_child_weight': 194, 'lambda': 148.29722019598796, 'alpha': 0.00016432713391584816, 'subsample': 0.7622987034188871, 'colsample_bytree': 0.7741001794302449, 'stabilization': 'None', 'response_fn': 'exp', 'tree_method': 'hist', 'device': 'cpu'}. Best is trial 13 with value: -6955.318359499999.\n",
      "5.9 seconds\n",
      "[I 2025-05-18 18:44:24,694] Trial 18 finished with value: -7160.3276365 and parameters: {'eta': 0.8, 'max_depth': 10, 'gamma': 3.5550939404213897e-06, 'min_child_weight': 84, 'lambda': 117.59240192963134, 'alpha': 2.536047585277132e-06, 'subsample': 0.9948305986495674, 'colsample_bytree': 0.8305322276077944, 'stabilization': 'None', 'response_fn': 'exp', 'tree_method': 'hist', 'device': 'cpu'}. Best is trial 18 with value: -7160.3276365.\n",
      "7.5 seconds\n",
      "[I 2025-05-18 18:44:32,167] Trial 19 finished with value: -6946.297607500001 and parameters: {'eta': 0.8, 'max_depth': 9, 'gamma': 5.411842411859859e-06, 'min_child_weight': 7, 'lambda': 129.31378561820497, 'alpha': 5.223355687071095e-08, 'subsample': 0.8661590314811511, 'colsample_bytree': 0.7769235852710432, 'stabilization': 'None', 'response_fn': 'exp', 'tree_method': 'hist', 'device': 'cpu'}. Best is trial 18 with value: -7160.3276365.\n",
      "4.6 seconds\n",
      "[I 2025-05-18 18:44:36,745] Trial 20 finished with value: -6666.984131 and parameters: {'eta': 0.8, 'max_depth': 9, 'gamma': 8.904433425192854e-06, 'min_child_weight': 144, 'lambda': 48.88664115444069, 'alpha': 0.0015753049720119, 'subsample': 0.9871458759126219, 'colsample_bytree': 0.8473159927358588, 'stabilization': 'None', 'response_fn': 'exp', 'tree_method': 'hist', 'device': 'cpu'}. Best is trial 18 with value: -7160.3276365.\n",
      "6.2 seconds\n",
      "[I 2025-05-18 18:44:42,980] Trial 21 finished with value: -6992.800049 and parameters: {'eta': 0.8, 'max_depth': 10, 'gamma': 1.0659877857133069e-06, 'min_child_weight': 49, 'lambda': 80.40911902467188, 'alpha': 7.389522503186479e-06, 'subsample': 0.9720681522290103, 'colsample_bytree': 0.7761996668595069, 'stabilization': 'None', 'response_fn': 'exp', 'tree_method': 'hist', 'device': 'cpu'}. Best is trial 18 with value: -7160.3276365.\n",
      "[I 2025-05-18 18:44:44,129] Trial 22 pruned. Trial was pruned at iteration 20.\n",
      "4.6 seconds\n",
      "[I 2025-05-18 18:44:48,773] Trial 23 finished with value: -6653.0466305 and parameters: {'eta': 0.8, 'max_depth': 7, 'gamma': 2.0198204224064516e-08, 'min_child_weight': 36, 'lambda': 45.40370242251421, 'alpha': 6.643188863194688e-07, 'subsample': 0.9817935758488706, 'colsample_bytree': 0.989939977609555, 'stabilization': 'None', 'response_fn': 'exp', 'tree_method': 'hist', 'device': 'cpu'}. Best is trial 18 with value: -7160.3276365.\n",
      "5.7 seconds\n",
      "[I 2025-05-18 18:44:54,520] Trial 24 finished with value: -6799.827392499999 and parameters: {'eta': 0.8, 'max_depth': 10, 'gamma': 0.0011354664652511322, 'min_child_weight': 76, 'lambda': 74.46583793366908, 'alpha': 8.874625438216999e-05, 'subsample': 0.9543238347512905, 'colsample_bytree': 0.8774401838047574, 'stabilization': 'None', 'response_fn': 'exp', 'tree_method': 'hist', 'device': 'cpu'}. Best is trial 18 with value: -7160.3276365.\n",
      "5.5 seconds\n",
      "[I 2025-05-18 18:45:00,040] Trial 25 finished with value: -6888.677002 and parameters: {'eta': 0.8, 'max_depth': 10, 'gamma': 1.660207121943743e-06, 'min_child_weight': 119, 'lambda': 73.63920573056758, 'alpha': 5.036400871630163e-07, 'subsample': 0.9880112686549339, 'colsample_bytree': 0.8101168139808101, 'stabilization': 'None', 'response_fn': 'exp', 'tree_method': 'hist', 'device': 'cpu'}. Best is trial 18 with value: -7160.3276365.\n",
      "6.2 seconds\n",
      "[I 2025-05-18 18:45:06,227] Trial 26 finished with value: -6980.801025500001 and parameters: {'eta': 0.8, 'max_depth': 9, 'gamma': 7.112295576744106e-07, 'min_child_weight': 31, 'lambda': 125.04777332773553, 'alpha': 4.199978898287887e-05, 'subsample': 0.9791525887607887, 'colsample_bytree': 0.8229434542197567, 'stabilization': 'None', 'response_fn': 'exp', 'tree_method': 'hist', 'device': 'cpu'}. Best is trial 18 with value: -7160.3276365.\n",
      "5.9 seconds\n",
      "[I 2025-05-18 18:45:12,135] Trial 27 finished with value: -7033.372803 and parameters: {'eta': 0.8, 'max_depth': 8, 'gamma': 3.091078400567912e-06, 'min_child_weight': 33, 'lambda': 143.24722435043418, 'alpha': 4.0514682277021655e-05, 'subsample': 0.9550053462418445, 'colsample_bytree': 0.8052839492636785, 'stabilization': 'None', 'response_fn': 'exp', 'tree_method': 'hist', 'device': 'cpu'}. Best is trial 18 with value: -7160.3276365.\n",
      "[I 2025-05-18 18:45:13,302] Trial 28 pruned. Trial was pruned at iteration 20.\n",
      "6.4 seconds\n",
      "[I 2025-05-18 18:45:19,756] Trial 29 finished with value: -7023.750244 and parameters: {'eta': 0.8, 'max_depth': 8, 'gamma': 0.0012903662685508238, 'min_child_weight': 20, 'lambda': 108.90937161833993, 'alpha': 0.00020009081996055328, 'subsample': 0.9940357449329843, 'colsample_bytree': 0.6803533495988873, 'stabilization': 'None', 'response_fn': 'exp', 'tree_method': 'hist', 'device': 'cpu'}. Best is trial 18 with value: -7160.3276365.\n",
      "7.5 seconds\n",
      "[I 2025-05-18 18:45:27,260] Trial 30 finished with value: -6981.263183499999 and parameters: {'eta': 0.8, 'max_depth': 9, 'gamma': 0.00010084973216616877, 'min_child_weight': 18, 'lambda': 129.50073481088825, 'alpha': 0.22449763643410245, 'subsample': 0.9120418914835187, 'colsample_bytree': 0.5630552442169507, 'stabilization': 'None', 'response_fn': 'exp', 'tree_method': 'hist', 'device': 'cpu'}. Best is trial 18 with value: -7160.3276365.\n",
      "7.0 seconds\n",
      "[I 2025-05-18 18:45:34,269] Trial 31 finished with value: -6879.6345215 and parameters: {'eta': 0.8, 'max_depth': 9, 'gamma': 0.0008119637682322391, 'min_child_weight': 27, 'lambda': 78.78458121203928, 'alpha': 2.7331253765857645e-05, 'subsample': 0.9849109992121171, 'colsample_bytree': 0.6184229647849382, 'stabilization': 'None', 'response_fn': 'exp', 'tree_method': 'hist', 'device': 'cpu'}. Best is trial 18 with value: -7160.3276365.\n",
      "5.9 seconds\n",
      "[I 2025-05-18 18:45:40,207] Trial 32 finished with value: -7121.767578499999 and parameters: {'eta': 0.8, 'max_depth': 7, 'gamma': 4.2110958882010924e-05, 'min_child_weight': 16, 'lambda': 138.8007249594665, 'alpha': 1.2805570989149326e-05, 'subsample': 0.9802871684229482, 'colsample_bytree': 0.7791306170203017, 'stabilization': 'None', 'response_fn': 'exp', 'tree_method': 'hist', 'device': 'cpu'}. Best is trial 18 with value: -7160.3276365.\n",
      "4.6 seconds\n",
      "[I 2025-05-18 18:45:44,788] Trial 33 finished with value: -6799.5134275 and parameters: {'eta': 0.8, 'max_depth': 6, 'gamma': 3.0254555596327783e-05, 'min_child_weight': 35, 'lambda': 101.96543628298663, 'alpha': 1.4766064046635753e-07, 'subsample': 0.9485765708188834, 'colsample_bytree': 0.717407927196357, 'stabilization': 'None', 'response_fn': 'exp', 'tree_method': 'hist', 'device': 'cpu'}. Best is trial 18 with value: -7160.3276365.\n",
      "6.4 seconds\n",
      "[I 2025-05-18 18:45:51,259] Trial 34 finished with value: -6982.730469 and parameters: {'eta': 0.8, 'max_depth': 8, 'gamma': 0.0004023826096450656, 'min_child_weight': 35, 'lambda': 139.11370728475734, 'alpha': 0.00022119076224106393, 'subsample': 0.937001479559609, 'colsample_bytree': 0.7904972469462761, 'stabilization': 'None', 'response_fn': 'exp', 'tree_method': 'hist', 'device': 'cpu'}. Best is trial 18 with value: -7160.3276365.\n",
      "5.1 seconds\n",
      "[I 2025-05-18 18:45:56,364] Trial 35 finished with value: -6859.4167485 and parameters: {'eta': 0.8, 'max_depth': 6, 'gamma': 4.164276292333669e-06, 'min_child_weight': 21, 'lambda': 108.33691767367893, 'alpha': 5.356118325054957e-06, 'subsample': 0.9518200584433518, 'colsample_bytree': 0.8677676951818167, 'stabilization': 'None', 'response_fn': 'exp', 'tree_method': 'hist', 'device': 'cpu'}. Best is trial 18 with value: -7160.3276365.\n",
      "4.1 seconds\n",
      "[I 2025-05-18 18:46:00,461] Trial 36 finished with value: -6913.649902499999 and parameters: {'eta': 0.8, 'max_depth': 5, 'gamma': 0.0001595762537599431, 'min_child_weight': 9, 'lambda': 105.32859050355363, 'alpha': 3.576491325257332e-05, 'subsample': 0.9694107403001541, 'colsample_bytree': 0.5933990632961825, 'stabilization': 'None', 'response_fn': 'exp', 'tree_method': 'hist', 'device': 'cpu'}. Best is trial 18 with value: -7160.3276365.\n",
      "5.1 seconds\n",
      "[I 2025-05-18 18:46:05,588] Trial 37 finished with value: -6810.435547 and parameters: {'eta': 0.8, 'max_depth': 7, 'gamma': 2.3799398016680554e-05, 'min_child_weight': 70, 'lambda': 53.05262967065306, 'alpha': 2.6719545866699315e-05, 'subsample': 0.9927916704994469, 'colsample_bytree': 0.8106493764854762, 'stabilization': 'None', 'response_fn': 'exp', 'tree_method': 'hist', 'device': 'cpu'}. Best is trial 18 with value: -7160.3276365.\n",
      "[I 2025-05-18 18:46:06,558] Trial 38 pruned. Trial was pruned at iteration 20.\n",
      "4.3 seconds\n",
      "[I 2025-05-18 18:46:10,912] Trial 39 finished with value: -7073.6618655 and parameters: {'eta': 0.8, 'max_depth': 6, 'gamma': 0.019078323473087952, 'min_child_weight': 91, 'lambda': 103.4422104857685, 'alpha': 0.013185086569953656, 'subsample': 0.9587703248690729, 'colsample_bytree': 0.6145238522183932, 'stabilization': 'None', 'response_fn': 'exp', 'tree_method': 'hist', 'device': 'cpu'}. Best is trial 18 with value: -7160.3276365.\n",
      "[I 2025-05-18 18:46:12,083] Trial 40 pruned. Trial was pruned at iteration 20.\n",
      "5.0 seconds\n",
      "[I 2025-05-18 18:46:17,107] Trial 41 finished with value: -6780.736328 and parameters: {'eta': 0.8, 'max_depth': 7, 'gamma': 0.02312720881120113, 'min_child_weight': 54, 'lambda': 70.50852907803213, 'alpha': 0.577102240763312, 'subsample': 0.939353707561244, 'colsample_bytree': 0.6310511997352226, 'stabilization': 'None', 'response_fn': 'exp', 'tree_method': 'hist', 'device': 'cpu'}. Best is trial 18 with value: -7160.3276365.\n",
      "6.5 seconds\n",
      "[I 2025-05-18 18:46:23,657] Trial 42 finished with value: -6860.8930660000005 and parameters: {'eta': 0.8, 'max_depth': 8, 'gamma': 0.01626028633015465, 'min_child_weight': 11, 'lambda': 84.56034441903064, 'alpha': 3.221793572171346e-07, 'subsample': 0.9689852480074006, 'colsample_bytree': 0.7616060650348988, 'stabilization': 'None', 'response_fn': 'exp', 'tree_method': 'hist', 'device': 'cpu'}. Best is trial 18 with value: -7160.3276365.\n",
      "4.8 seconds\n",
      "[I 2025-05-18 18:46:28,441] Trial 43 finished with value: -7097.3056639999995 and parameters: {'eta': 0.8, 'max_depth': 6, 'gamma': 2.0986684722014845e-07, 'min_child_weight': 30, 'lambda': 120.09541309967432, 'alpha': 0.0005006529598120475, 'subsample': 0.9467332916054193, 'colsample_bytree': 0.6716767667263241, 'stabilization': 'None', 'response_fn': 'exp', 'tree_method': 'hist', 'device': 'cpu'}. Best is trial 18 with value: -7160.3276365.\n",
      "4.0 seconds\n",
      "[I 2025-05-18 18:46:32,512] Trial 44 finished with value: -7096.2333985000005 and parameters: {'eta': 0.8, 'max_depth': 5, 'gamma': 1.1576429788764112e-06, 'min_child_weight': 59, 'lambda': 149.37385022432085, 'alpha': 0.006546971111781173, 'subsample': 0.9491327844965869, 'colsample_bytree': 0.7217003157176183, 'stabilization': 'None', 'response_fn': 'exp', 'tree_method': 'hist', 'device': 'cpu'}. Best is trial 18 with value: -7160.3276365.\n",
      "[I 2025-05-18 18:46:33,513] Trial 45 pruned. Trial was pruned at iteration 20.\n",
      "3.6 seconds\n",
      "[I 2025-05-18 18:46:37,177] Trial 46 finished with value: -6841.181152499999 and parameters: {'eta': 0.8, 'max_depth': 5, 'gamma': 5.101732375842487e-06, 'min_child_weight': 117, 'lambda': 59.36962844888811, 'alpha': 0.002356342150230294, 'subsample': 0.9784398107128786, 'colsample_bytree': 0.7330371723663105, 'stabilization': 'None', 'response_fn': 'exp', 'tree_method': 'hist', 'device': 'cpu'}. Best is trial 18 with value: -7160.3276365.\n",
      "4.1 seconds\n",
      "[I 2025-05-18 18:46:41,282] Trial 47 finished with value: -7032.960205 and parameters: {'eta': 0.8, 'max_depth': 6, 'gamma': 6.192592484620869e-08, 'min_child_weight': 98, 'lambda': 94.53706186686948, 'alpha': 0.0011759382663444052, 'subsample': 0.9755132100408688, 'colsample_bytree': 0.544182605596498, 'stabilization': 'None', 'response_fn': 'exp', 'tree_method': 'hist', 'device': 'cpu'}. Best is trial 18 with value: -7160.3276365.\n",
      "[I 2025-05-18 18:46:42,719] Trial 48 pruned. Trial was pruned at iteration 20.\n",
      "3.4 seconds\n",
      "[I 2025-05-18 18:46:46,150] Trial 49 finished with value: -7020.7114255 and parameters: {'eta': 0.8, 'max_depth': 4, 'gamma': 5.815952721209215e-07, 'min_child_weight': 40, 'lambda': 127.28362023684922, 'alpha': 0.04967262744763195, 'subsample': 0.9527705782281155, 'colsample_bytree': 0.6579280662916512, 'stabilization': 'None', 'response_fn': 'exp', 'tree_method': 'hist', 'device': 'cpu'}. Best is trial 18 with value: -7160.3276365.\n",
      "[I 2025-05-18 18:46:47,122] Trial 50 pruned. Trial was pruned at iteration 20.\n",
      "[I 2025-05-18 18:46:48,277] Trial 51 pruned. Trial was pruned at iteration 20.\n",
      "4.0 seconds\n",
      "[I 2025-05-18 18:46:52,324] Trial 52 finished with value: -7129.7277835 and parameters: {'eta': 0.8, 'max_depth': 6, 'gamma': 2.034283554688899e-06, 'min_child_weight': 74, 'lambda': 143.84742037720676, 'alpha': 0.0004627669986208648, 'subsample': 0.9182438211920354, 'colsample_bytree': 0.7046154960739075, 'stabilization': 'None', 'response_fn': 'exp', 'tree_method': 'hist', 'device': 'cpu'}. Best is trial 18 with value: -7160.3276365.\n",
      "3.4 seconds\n",
      "[I 2025-05-18 18:46:55,792] Trial 53 finished with value: -6999.838379000001 and parameters: {'eta': 0.8, 'max_depth': 5, 'gamma': 1.4994808759840954e-05, 'min_child_weight': 77, 'lambda': 115.77819427301328, 'alpha': 2.289306528568643, 'subsample': 0.9346703492905118, 'colsample_bytree': 0.7712841663619557, 'stabilization': 'None', 'response_fn': 'exp', 'tree_method': 'hist', 'device': 'cpu'}. Best is trial 18 with value: -7160.3276365.\n",
      "3.7 seconds\n",
      "[I 2025-05-18 18:46:59,546] Trial 54 finished with value: -7088.061279 and parameters: {'eta': 0.8, 'max_depth': 6, 'gamma': 0.004120422085622187, 'min_child_weight': 115, 'lambda': 111.1526530598447, 'alpha': 0.0001378548061787244, 'subsample': 0.8904030829280476, 'colsample_bytree': 0.6859203462285838, 'stabilization': 'None', 'response_fn': 'exp', 'tree_method': 'hist', 'device': 'cpu'}. Best is trial 18 with value: -7160.3276365.\n",
      "3.7 seconds\n",
      "[I 2025-05-18 18:47:03,307] Trial 55 finished with value: -6970.9853515 and parameters: {'eta': 0.8, 'max_depth': 6, 'gamma': 1.036434489432594e-05, 'min_child_weight': 94, 'lambda': 99.14533921476276, 'alpha': 2.4534876727496573e-05, 'subsample': 0.8987044586442955, 'colsample_bytree': 0.6667971628114638, 'stabilization': 'None', 'response_fn': 'exp', 'tree_method': 'hist', 'device': 'cpu'}. Best is trial 18 with value: -7160.3276365.\n",
      "3.9 seconds\n",
      "[I 2025-05-18 18:47:07,194] Trial 56 finished with value: -7140.8447264999995 and parameters: {'eta': 0.8, 'max_depth': 6, 'gamma': 0.014954248436861396, 'min_child_weight': 111, 'lambda': 140.88182368936407, 'alpha': 1.2353761913338156e-05, 'subsample': 0.8901372136022088, 'colsample_bytree': 0.6926629619736744, 'stabilization': 'None', 'response_fn': 'exp', 'tree_method': 'hist', 'device': 'cpu'}. Best is trial 18 with value: -7160.3276365.\n",
      "[I 2025-05-18 18:47:09,763] Trial 57 pruned. Trial was pruned at iteration 20.\n",
      "4.3 seconds\n",
      "[I 2025-05-18 18:47:14,091] Trial 58 finished with value: -7093.423584 and parameters: {'eta': 0.8, 'max_depth': 5, 'gamma': 0.5560806279516544, 'min_child_weight': 128, 'lambda': 126.22779221810084, 'alpha': 3.5311840046743825e-07, 'subsample': 0.9261905009844333, 'colsample_bytree': 0.7049416730517464, 'stabilization': 'None', 'response_fn': 'exp', 'tree_method': 'hist', 'device': 'cpu'}. Best is trial 18 with value: -7160.3276365.\n",
      "[I 2025-05-18 18:47:15,330] Trial 59 pruned. Trial was pruned at iteration 20.\n",
      "5.2 seconds\n",
      "[I 2025-05-18 18:47:20,528] Trial 60 finished with value: -6835.2490235000005 and parameters: {'eta': 0.8, 'max_depth': 7, 'gamma': 4.425114942862797e-07, 'min_child_weight': 53, 'lambda': 86.46552146648257, 'alpha': 0.0005766624536818189, 'subsample': 0.9087426637084359, 'colsample_bytree': 0.7158229054049303, 'stabilization': 'None', 'response_fn': 'exp', 'tree_method': 'hist', 'device': 'cpu'}. Best is trial 18 with value: -7160.3276365.\n",
      "[I 2025-05-18 18:47:21,619] Trial 61 pruned. Trial was pruned at iteration 20.\n",
      "3.8 seconds\n",
      "[I 2025-05-18 18:47:25,437] Trial 62 finished with value: -7084.822998 and parameters: {'eta': 0.8, 'max_depth': 5, 'gamma': 0.06374285677496294, 'min_child_weight': 156, 'lambda': 119.85220360268441, 'alpha': 1.7239044159650173e-08, 'subsample': 0.9011190782560856, 'colsample_bytree': 0.6183946651112665, 'stabilization': 'None', 'response_fn': 'exp', 'tree_method': 'hist', 'device': 'cpu'}. Best is trial 18 with value: -7160.3276365.\n",
      "[I 2025-05-18 18:47:26,512] Trial 63 pruned. Trial was pruned at iteration 20.\n",
      "4.8 seconds\n",
      "[I 2025-05-18 18:47:31,330] Trial 64 finished with value: -7003.639160000001 and parameters: {'eta': 0.8, 'max_depth': 7, 'gamma': 0.1543289350795739, 'min_child_weight': 156, 'lambda': 126.62651015579453, 'alpha': 1.3025660088760537e-05, 'subsample': 0.9556967623997933, 'colsample_bytree': 0.6956655434068927, 'stabilization': 'None', 'response_fn': 'exp', 'tree_method': 'hist', 'device': 'cpu'}. Best is trial 18 with value: -7160.3276365.\n",
      "[I 2025-05-18 18:47:32,320] Trial 65 pruned. Trial was pruned at iteration 20.\n",
      "6.2 seconds\n",
      "[I 2025-05-18 18:47:38,490] Trial 66 finished with value: -7157.628906 and parameters: {'eta': 0.8, 'max_depth': 9, 'gamma': 2.425842178704477e-06, 'min_child_weight': 133, 'lambda': 100.29451525848162, 'alpha': 7.931887741262602e-07, 'subsample': 0.9655214348738338, 'colsample_bytree': 0.9915873761984666, 'stabilization': 'None', 'response_fn': 'exp', 'tree_method': 'hist', 'device': 'cpu'}. Best is trial 18 with value: -7160.3276365.\n",
      "4.7 seconds\n",
      "[I 2025-05-18 18:47:43,175] Trial 67 finished with value: -7105.6481935 and parameters: {'eta': 0.8, 'max_depth': 6, 'gamma': 4.227069564702282e-05, 'min_child_weight': 144, 'lambda': 101.17289945815487, 'alpha': 2.3314413723988686e-06, 'subsample': 0.9988679238156791, 'colsample_bytree': 0.9521344324457212, 'stabilization': 'None', 'response_fn': 'exp', 'tree_method': 'hist', 'device': 'cpu'}. Best is trial 18 with value: -7160.3276365.\n",
      "[I 2025-05-18 18:47:44,202] Trial 68 pruned. Trial was pruned at iteration 20.\n",
      "5.8 seconds\n",
      "[I 2025-05-18 18:47:50,036] Trial 69 finished with value: -7203.4716795 and parameters: {'eta': 0.8, 'max_depth': 9, 'gamma': 1.969908962706467e-07, 'min_child_weight': 173, 'lambda': 143.37966467181667, 'alpha': 1.4929796544525787e-08, 'subsample': 0.9942297634091781, 'colsample_bytree': 0.9498408265493702, 'stabilization': 'None', 'response_fn': 'exp', 'tree_method': 'hist', 'device': 'cpu'}. Best is trial 69 with value: -7203.4716795.\n",
      "[I 2025-05-18 18:47:51,276] Trial 70 pruned. Trial was pruned at iteration 20.\n",
      "6.1 seconds\n",
      "[I 2025-05-18 18:47:57,372] Trial 71 finished with value: -7024.7475585 and parameters: {'eta': 0.8, 'max_depth': 10, 'gamma': 5.689856668616745e-08, 'min_child_weight': 182, 'lambda': 134.62542212506028, 'alpha': 2.241084903047314e-08, 'subsample': 0.8980745179588256, 'colsample_bytree': 0.9449999326006149, 'stabilization': 'None', 'response_fn': 'exp', 'tree_method': 'hist', 'device': 'cpu'}. Best is trial 69 with value: -7203.4716795.\n",
      "6.2 seconds\n",
      "[I 2025-05-18 18:48:03,570] Trial 72 finished with value: -6912.5629885 and parameters: {'eta': 0.8, 'max_depth': 9, 'gamma': 5.717714434187533e-05, 'min_child_weight': 123, 'lambda': 84.4675230952715, 'alpha': 1.1711502718956393e-06, 'subsample': 0.929934181973077, 'colsample_bytree': 0.9748464184273329, 'stabilization': 'None', 'response_fn': 'exp', 'tree_method': 'hist', 'device': 'cpu'}. Best is trial 69 with value: -7203.4716795.\n",
      "5.6 seconds\n",
      "[I 2025-05-18 18:48:09,151] Trial 73 finished with value: -6933.700928 and parameters: {'eta': 0.8, 'max_depth': 9, 'gamma': 8.718802976519198e-07, 'min_child_weight': 184, 'lambda': 85.27452608204194, 'alpha': 5.4008347633303365e-08, 'subsample': 0.9710973794974028, 'colsample_bytree': 0.9967038989051099, 'stabilization': 'None', 'response_fn': 'exp', 'tree_method': 'hist', 'device': 'cpu'}. Best is trial 69 with value: -7203.4716795.\n",
      "3.8 seconds\n",
      "[I 2025-05-18 18:48:12,944] Trial 74 finished with value: -7003.17041 and parameters: {'eta': 0.8, 'max_depth': 5, 'gamma': 1.1171890206915978e-06, 'min_child_weight': 149, 'lambda': 87.23754543593647, 'alpha': 4.700163762459001e-06, 'subsample': 0.9591864159312166, 'colsample_bytree': 0.925910275770368, 'stabilization': 'None', 'response_fn': 'exp', 'tree_method': 'hist', 'device': 'cpu'}. Best is trial 69 with value: -7203.4716795.\n",
      "5.2 seconds\n",
      "[I 2025-05-18 18:48:18,197] Trial 75 finished with value: -7013.750977 and parameters: {'eta': 0.8, 'max_depth': 8, 'gamma': 6.13408381645578e-06, 'min_child_weight': 164, 'lambda': 108.9357108996889, 'alpha': 3.702832510196248e-06, 'subsample': 0.9839082462946807, 'colsample_bytree': 0.8846999653271916, 'stabilization': 'None', 'response_fn': 'exp', 'tree_method': 'hist', 'device': 'cpu'}. Best is trial 69 with value: -7203.4716795.\n",
      "6.7 seconds\n",
      "[I 2025-05-18 18:48:24,962] Trial 76 finished with value: -7028.9816895 and parameters: {'eta': 0.8, 'max_depth': 10, 'gamma': 2.459700606546551e-07, 'min_child_weight': 127, 'lambda': 106.78918458604485, 'alpha': 1.0402474548951066e-08, 'subsample': 0.9884693141234185, 'colsample_bytree': 0.9007015247654244, 'stabilization': 'None', 'response_fn': 'exp', 'tree_method': 'hist', 'device': 'cpu'}. Best is trial 69 with value: -7203.4716795.\n",
      "4.6 seconds\n",
      "[I 2025-05-18 18:48:29,609] Trial 77 finished with value: -6958.347656 and parameters: {'eta': 0.8, 'max_depth': 6, 'gamma': 0.0003586828105047667, 'min_child_weight': 131, 'lambda': 84.48523036749404, 'alpha': 5.226155589412347e-05, 'subsample': 0.9891557422471877, 'colsample_bytree': 0.9763375568236408, 'stabilization': 'None', 'response_fn': 'exp', 'tree_method': 'hist', 'device': 'cpu'}. Best is trial 69 with value: -7203.4716795.\n",
      "[I 2025-05-18 18:48:30,776] Trial 78 pruned. Trial was pruned at iteration 20.\n",
      "[I 2025-05-18 18:48:31,863] Trial 79 pruned. Trial was pruned at iteration 20.\n",
      "[I 2025-05-18 18:48:33,647] Trial 80 pruned. Trial was pruned at iteration 20.\n",
      "[I 2025-05-18 18:48:34,661] Trial 81 pruned. Trial was pruned at iteration 20.\n",
      "[I 2025-05-18 18:48:35,909] Trial 82 pruned. Trial was pruned at iteration 20.\n",
      "6.2 seconds\n",
      "[I 2025-05-18 18:48:42,157] Trial 83 finished with value: -7170.4902345 and parameters: {'eta': 0.8, 'max_depth': 9, 'gamma': 1.6780402381741783e-07, 'min_child_weight': 123, 'lambda': 133.88144342804884, 'alpha': 4.768870660302036e-05, 'subsample': 0.9369640707468754, 'colsample_bytree': 0.9291664422633316, 'stabilization': 'None', 'response_fn': 'exp', 'tree_method': 'hist', 'device': 'cpu'}. Best is trial 69 with value: -7203.4716795.\n",
      "[I 2025-05-18 18:48:43,534] Trial 84 pruned. Trial was pruned at iteration 20.\n",
      "[I 2025-05-18 18:48:44,932] Trial 85 pruned. Trial was pruned at iteration 20.\n",
      "[I 2025-05-18 18:48:45,884] Trial 86 pruned. Trial was pruned at iteration 20.\n",
      "[I 2025-05-18 18:48:47,102] Trial 87 pruned. Trial was pruned at iteration 20.\n",
      "5.5 seconds\n",
      "[I 2025-05-18 18:48:52,665] Trial 88 finished with value: -6960.088623 and parameters: {'eta': 0.8, 'max_depth': 8, 'gamma': 3.2150768804353245e-06, 'min_child_weight': 118, 'lambda': 109.10027143087672, 'alpha': 3.9178184297437296e-07, 'subsample': 0.95253353472223, 'colsample_bytree': 0.9972585922269415, 'stabilization': 'None', 'response_fn': 'exp', 'tree_method': 'hist', 'device': 'cpu'}. Best is trial 69 with value: -7203.4716795.\n"
     ]
    },
    {
     "name": "stderr",
     "output_type": "stream",
     "text": [
      "invalid value encountered in subtract\n"
     ]
    },
    {
     "name": "stdout",
     "output_type": "stream",
     "text": [
      "3.3 seconds\n",
      "[I 2025-05-18 18:48:56,035] Trial 89 finished with value: 100000000.0 and parameters: {'eta': 0.8, 'max_depth': 8, 'gamma': 29.672301635645198, 'min_child_weight': 142, 'lambda': 5.641183830532661, 'alpha': 3.1813904010922305, 'subsample': 0.9949385583583218, 'colsample_bytree': 0.7096130161324761, 'stabilization': 'None', 'response_fn': 'exp', 'tree_method': 'hist', 'device': 'cpu'}. Best is trial 69 with value: -7203.4716795.\n",
      "7.1 seconds\n",
      "[I 2025-05-18 18:49:03,147] Trial 90 finished with value: -7157.715332 and parameters: {'eta': 0.8, 'max_depth': 10, 'gamma': 4.997821588519252e-06, 'min_child_weight': 90, 'lambda': 145.1315699892873, 'alpha': 2.1291203523572903e-05, 'subsample': 0.9607064197495199, 'colsample_bytree': 0.887657903945215, 'stabilization': 'None', 'response_fn': 'exp', 'tree_method': 'hist', 'device': 'cpu'}. Best is trial 69 with value: -7203.4716795.\n",
      "5.8 seconds\n",
      "[I 2025-05-18 18:49:08,933] Trial 91 finished with value: -7088.712402499999 and parameters: {'eta': 0.8, 'max_depth': 9, 'gamma': 7.825419197003634e-08, 'min_child_weight': 179, 'lambda': 133.65799681878042, 'alpha': 0.00012760797131402274, 'subsample': 0.9105014905038782, 'colsample_bytree': 0.8829724270588762, 'stabilization': 'None', 'response_fn': 'exp', 'tree_method': 'hist', 'device': 'cpu'}. Best is trial 69 with value: -7203.4716795.\n",
      "5.5 seconds\n",
      "[I 2025-05-18 18:49:14,462] Trial 92 finished with value: -6986.350097500001 and parameters: {'eta': 0.8, 'max_depth': 9, 'gamma': 0.08807748235179572, 'min_child_weight': 67, 'lambda': 98.33134043530222, 'alpha': 1.5410587357167557e-07, 'subsample': 0.8602747022152122, 'colsample_bytree': 0.7036211980624638, 'stabilization': 'None', 'response_fn': 'exp', 'tree_method': 'hist', 'device': 'cpu'}. Best is trial 69 with value: -7203.4716795.\n",
      "[I 2025-05-18 18:49:15,962] Trial 93 pruned. Trial was pruned at iteration 20.\n",
      "7.4 seconds\n",
      "[I 2025-05-18 18:49:23,400] Trial 94 finished with value: -7081.6003415 and parameters: {'eta': 0.8, 'max_depth': 10, 'gamma': 1.5067660549997704e-07, 'min_child_weight': 80, 'lambda': 112.06760654414536, 'alpha': 1.799419467416862e-06, 'subsample': 0.9135968569915519, 'colsample_bytree': 0.9058422667227931, 'stabilization': 'None', 'response_fn': 'exp', 'tree_method': 'hist', 'device': 'cpu'}. Best is trial 69 with value: -7203.4716795.\n",
      "[I 2025-05-18 18:49:24,661] Trial 95 pruned. Trial was pruned at iteration 20.\n",
      "[I 2025-05-18 18:49:26,032] Trial 96 pruned. Trial was pruned at iteration 21.\n",
      "4.8 seconds\n",
      "[I 2025-05-18 18:49:30,865] Trial 97 finished with value: -6974.646973 and parameters: {'eta': 0.8, 'max_depth': 6, 'gamma': 6.301872260097474e-05, 'min_child_weight': 47, 'lambda': 119.70761752665973, 'alpha': 7.353246157681216e-05, 'subsample': 0.9812869976611491, 'colsample_bytree': 0.7167271498226468, 'stabilization': 'None', 'response_fn': 'exp', 'tree_method': 'hist', 'device': 'cpu'}. Best is trial 69 with value: -7203.4716795.\n",
      "7.8 seconds\n",
      "[I 2025-05-18 18:49:38,693] Trial 98 finished with value: -7092.567627 and parameters: {'eta': 0.8, 'max_depth': 9, 'gamma': 2.384705108623238e-05, 'min_child_weight': 39, 'lambda': 109.11097451086549, 'alpha': 3.753749363329235e-05, 'subsample': 0.99703638315915, 'colsample_bytree': 0.9116740467058502, 'stabilization': 'None', 'response_fn': 'exp', 'tree_method': 'hist', 'device': 'cpu'}. Best is trial 69 with value: -7203.4716795.\n",
      "5.7 seconds\n",
      "[I 2025-05-18 18:49:44,424] Trial 99 finished with value: -7135.4729005 and parameters: {'eta': 0.8, 'max_depth': 7, 'gamma': 1.4654328320080677e-07, 'min_child_weight': 19, 'lambda': 140.95775027571625, 'alpha': 0.11675857618684278, 'subsample': 0.9683950764929259, 'colsample_bytree': 0.5221474826400082, 'stabilization': 'None', 'response_fn': 'exp', 'tree_method': 'hist', 'device': 'cpu'}. Best is trial 69 with value: -7203.4716795.\n",
      "[I 2025-05-18 18:49:45,735] Trial 100 pruned. Trial was pruned at iteration 20.\n",
      "5.2 seconds\n",
      "[I 2025-05-18 18:49:50,944] Trial 101 finished with value: -7026.139160000001 and parameters: {'eta': 0.8, 'max_depth': 7, 'gamma': 8.680949353519964e-07, 'min_child_weight': 14, 'lambda': 134.20955654146218, 'alpha': 7.00944941510166, 'subsample': 0.9681711906436047, 'colsample_bytree': 0.5075058670123197, 'stabilization': 'None', 'response_fn': 'exp', 'tree_method': 'hist', 'device': 'cpu'}. Best is trial 69 with value: -7203.4716795.\n",
      "[I 2025-05-18 18:49:52,797] Trial 102 pruned. Trial was pruned at iteration 20.\n",
      "4.8 seconds\n",
      "[I 2025-05-18 18:49:57,583] Trial 103 finished with value: -6974.7575685 and parameters: {'eta': 0.8, 'max_depth': 6, 'gamma': 2.722909514052654e-08, 'min_child_weight': 10, 'lambda': 123.74452111031708, 'alpha': 0.00021667509973916923, 'subsample': 0.9137337934346889, 'colsample_bytree': 0.5501854973582674, 'stabilization': 'None', 'response_fn': 'exp', 'tree_method': 'hist', 'device': 'cpu'}. Best is trial 69 with value: -7203.4716795.\n",
      "5.9 seconds\n",
      "[I 2025-05-18 18:50:03,480] Trial 104 finished with value: -7229.037598 and parameters: {'eta': 0.8, 'max_depth': 9, 'gamma': 9.378711571025364e-05, 'min_child_weight': 98, 'lambda': 129.69186177338804, 'alpha': 2.4935739941600973e-06, 'subsample': 0.9905227378671154, 'colsample_bytree': 0.7258899944266182, 'stabilization': 'None', 'response_fn': 'exp', 'tree_method': 'hist', 'device': 'cpu'}. Best is trial 104 with value: -7229.037598.\n",
      "5.7 seconds\n",
      "[I 2025-05-18 18:50:09,221] Trial 105 finished with value: -7086.001464999999 and parameters: {'eta': 0.8, 'max_depth': 8, 'gamma': 0.0010370207437495232, 'min_child_weight': 95, 'lambda': 140.72977731743117, 'alpha': 2.643455994281763e-06, 'subsample': 0.9800240878544951, 'colsample_bytree': 0.8250257828134513, 'stabilization': 'None', 'response_fn': 'exp', 'tree_method': 'hist', 'device': 'cpu'}. Best is trial 104 with value: -7229.037598.\n",
      "[I 2025-05-18 18:50:10,226] Trial 106 pruned. Trial was pruned at iteration 20.\n",
      "6.2 seconds\n",
      "[I 2025-05-18 18:50:16,444] Trial 107 finished with value: -7117.234863 and parameters: {'eta': 0.8, 'max_depth': 10, 'gamma': 3.391267511102742e-05, 'min_child_weight': 117, 'lambda': 139.41314566164922, 'alpha': 7.119939304950488e-08, 'subsample': 0.8894943947052151, 'colsample_bytree': 0.7472686719052205, 'stabilization': 'None', 'response_fn': 'exp', 'tree_method': 'hist', 'device': 'cpu'}. Best is trial 104 with value: -7229.037598.\n",
      "[I 2025-05-18 18:50:17,779] Trial 108 pruned. Trial was pruned at iteration 20.\n",
      "6.6 seconds\n",
      "[I 2025-05-18 18:50:24,415] Trial 109 finished with value: -6983.9089355 and parameters: {'eta': 0.8, 'max_depth': 10, 'gamma': 0.0001128113465059755, 'min_child_weight': 122, 'lambda': 112.60037984244065, 'alpha': 1.0519204259751319e-05, 'subsample': 0.8387609524475734, 'colsample_bytree': 0.7672393170487591, 'stabilization': 'None', 'response_fn': 'exp', 'tree_method': 'hist', 'device': 'cpu'}. Best is trial 104 with value: -7229.037598.\n",
      "[I 2025-05-18 18:50:25,664] Trial 110 pruned. Trial was pruned at iteration 20.\n",
      "6.3 seconds\n",
      "[I 2025-05-18 18:50:32,021] Trial 111 finished with value: -7056.922607500001 and parameters: {'eta': 0.8, 'max_depth': 10, 'gamma': 4.3698512923818965e-05, 'min_child_weight': 123, 'lambda': 120.60941217819264, 'alpha': 1.722301231594809e-06, 'subsample': 0.9569971929319137, 'colsample_bytree': 0.706378541702921, 'stabilization': 'None', 'response_fn': 'exp', 'tree_method': 'hist', 'device': 'cpu'}. Best is trial 104 with value: -7229.037598.\n",
      "[I 2025-05-18 18:50:33,161] Trial 112 pruned. Trial was pruned at iteration 20.\n",
      "5.4 seconds\n",
      "[I 2025-05-18 18:50:38,588] Trial 113 finished with value: -7037.451660000001 and parameters: {'eta': 0.8, 'max_depth': 8, 'gamma': 1.6705164412295552e-05, 'min_child_weight': 147, 'lambda': 124.20066915365919, 'alpha': 1.8329717186256595e-08, 'subsample': 0.8552514404019661, 'colsample_bytree': 0.6710692884579872, 'stabilization': 'None', 'response_fn': 'exp', 'tree_method': 'hist', 'device': 'cpu'}. Best is trial 104 with value: -7229.037598.\n",
      "5.1 seconds\n",
      "[I 2025-05-18 18:50:43,670] Trial 114 finished with value: -7004.775879000001 and parameters: {'eta': 0.8, 'max_depth': 8, 'gamma': 0.0005136046104713166, 'min_child_weight': 120, 'lambda': 107.47591140369467, 'alpha': 3.4406460716492123e-06, 'subsample': 0.9749516978834455, 'colsample_bytree': 0.61467534098952, 'stabilization': 'None', 'response_fn': 'exp', 'tree_method': 'hist', 'device': 'cpu'}. Best is trial 104 with value: -7229.037598.\n",
      "6.5 seconds\n",
      "[I 2025-05-18 18:50:50,158] Trial 115 finished with value: -7074.631592 and parameters: {'eta': 0.8, 'max_depth': 9, 'gamma': 1.1849205320778365e-05, 'min_child_weight': 101, 'lambda': 99.2892386857655, 'alpha': 1.0577733628185157e-05, 'subsample': 0.9926259560039742, 'colsample_bytree': 0.912935716950713, 'stabilization': 'None', 'response_fn': 'exp', 'tree_method': 'hist', 'device': 'cpu'}. Best is trial 104 with value: -7229.037598.\n",
      "4.4 seconds\n",
      "[I 2025-05-18 18:50:54,565] Trial 116 finished with value: -7075.899170000001 and parameters: {'eta': 0.8, 'max_depth': 7, 'gamma': 0.4264877613522719, 'min_child_weight': 119, 'lambda': 132.5439579132563, 'alpha': 5.934558027776351e-06, 'subsample': 0.8333637118749055, 'colsample_bytree': 0.7037592789402553, 'stabilization': 'None', 'response_fn': 'exp', 'tree_method': 'hist', 'device': 'cpu'}. Best is trial 104 with value: -7229.037598.\n",
      "[I 2025-05-18 18:50:55,646] Trial 117 pruned. Trial was pruned at iteration 20.\n",
      "5.9 seconds\n",
      "[I 2025-05-18 18:51:01,571] Trial 118 finished with value: -7083.8312989999995 and parameters: {'eta': 0.8, 'max_depth': 10, 'gamma': 5.351527108742346e-06, 'min_child_weight': 195, 'lambda': 133.97222998290604, 'alpha': 4.8964498350872236e-08, 'subsample': 0.9539221065302889, 'colsample_bytree': 0.8404150423646866, 'stabilization': 'None', 'response_fn': 'exp', 'tree_method': 'hist', 'device': 'cpu'}. Best is trial 104 with value: -7229.037598.\n",
      "6.9 seconds\n",
      "[I 2025-05-18 18:51:08,473] Trial 119 finished with value: -6981.340819999999 and parameters: {'eta': 0.8, 'max_depth': 10, 'gamma': 3.2051118415438562e-06, 'min_child_weight': 99, 'lambda': 102.13520444763083, 'alpha': 0.005069764945268772, 'subsample': 0.8822195078025815, 'colsample_bytree': 0.9430155282344794, 'stabilization': 'None', 'response_fn': 'exp', 'tree_method': 'hist', 'device': 'cpu'}. Best is trial 104 with value: -7229.037598.\n",
      "[I 2025-05-18 18:51:09,630] Trial 120 pruned. Trial was pruned at iteration 20.\n",
      "[I 2025-05-18 18:51:10,712] Trial 121 pruned. Trial was pruned at iteration 20.\n",
      "5.6 seconds\n",
      "[I 2025-05-18 18:51:16,304] Trial 122 finished with value: -7122.6018065 and parameters: {'eta': 0.8, 'max_depth': 8, 'gamma': 5.160859778159002e-07, 'min_child_weight': 83, 'lambda': 143.96733466985043, 'alpha': 0.001232182594172198, 'subsample': 0.9151477745816632, 'colsample_bytree': 0.5564871355288397, 'stabilization': 'None', 'response_fn': 'exp', 'tree_method': 'hist', 'device': 'cpu'}. Best is trial 104 with value: -7229.037598.\n",
      "5.9 seconds\n",
      "[I 2025-05-18 18:51:22,195] Trial 123 finished with value: -7050.480469 and parameters: {'eta': 0.8, 'max_depth': 9, 'gamma': 3.234427916087422e-08, 'min_child_weight': 92, 'lambda': 137.10894343781345, 'alpha': 0.014273191697116253, 'subsample': 0.8780914057109328, 'colsample_bytree': 0.5499396839741111, 'stabilization': 'None', 'response_fn': 'exp', 'tree_method': 'hist', 'device': 'cpu'}. Best is trial 104 with value: -7229.037598.\n",
      "5.6 seconds\n",
      "[I 2025-05-18 18:51:27,813] Trial 124 finished with value: -6998.3862305 and parameters: {'eta': 0.8, 'max_depth': 8, 'gamma': 7.68835555349895e-06, 'min_child_weight': 91, 'lambda': 90.5904074629511, 'alpha': 0.3238308903210007, 'subsample': 0.95956341718228, 'colsample_bytree': 0.624449617032647, 'stabilization': 'None', 'response_fn': 'exp', 'tree_method': 'hist', 'device': 'cpu'}. Best is trial 104 with value: -7229.037598.\n",
      "7.1 seconds\n",
      "[I 2025-05-18 18:51:34,905] Trial 125 finished with value: -7085.631347500001 and parameters: {'eta': 0.8, 'max_depth': 10, 'gamma': 9.32591064626625e-07, 'min_child_weight': 83, 'lambda': 128.18817263961625, 'alpha': 0.000694190764591681, 'subsample': 0.988431482730616, 'colsample_bytree': 0.7845649085422808, 'stabilization': 'None', 'response_fn': 'exp', 'tree_method': 'hist', 'device': 'cpu'}. Best is trial 104 with value: -7229.037598.\n",
      "[I 2025-05-18 18:51:35,941] Trial 126 pruned. Trial was pruned at iteration 20.\n",
      "5.9 seconds\n",
      "[I 2025-05-18 18:51:41,837] Trial 127 finished with value: -7170.355957 and parameters: {'eta': 0.8, 'max_depth': 8, 'gamma': 2.2015059726441324e-07, 'min_child_weight': 88, 'lambda': 126.84568360161846, 'alpha': 2.8544452147443574e-08, 'subsample': 0.9458825780402477, 'colsample_bytree': 0.811347771484567, 'stabilization': 'None', 'response_fn': 'exp', 'tree_method': 'hist', 'device': 'cpu'}. Best is trial 104 with value: -7229.037598.\n",
      "[I 2025-05-18 18:51:43,021] Trial 128 pruned. Trial was pruned at iteration 20.\n",
      "7.2 seconds\n",
      "[I 2025-05-18 18:51:50,277] Trial 129 finished with value: -7131.9685055 and parameters: {'eta': 0.8, 'max_depth': 10, 'gamma': 1.5326432461422422e-07, 'min_child_weight': 80, 'lambda': 141.2596340073425, 'alpha': 3.472184006849679e-08, 'subsample': 0.910847586079851, 'colsample_bytree': 0.7650828771920717, 'stabilization': 'None', 'response_fn': 'exp', 'tree_method': 'hist', 'device': 'cpu'}. Best is trial 104 with value: -7229.037598.\n",
      "[I 2025-05-18 18:51:52,146] Trial 130 pruned. Trial was pruned at iteration 20.\n",
      "[I 2025-05-18 18:51:53,955] Trial 131 pruned. Trial was pruned at iteration 20.\n",
      "[I 2025-05-18 18:51:55,451] Trial 132 pruned. Trial was pruned at iteration 20.\n",
      "[I 2025-05-18 18:51:56,946] Trial 133 pruned. Trial was pruned at iteration 20.\n"
     ]
    },
    {
     "name": "stderr",
     "output_type": "stream",
     "text": [
      "invalid value encountered in subtract\n"
     ]
    },
    {
     "name": "stdout",
     "output_type": "stream",
     "text": [
      "3.9 seconds\n",
      "[I 2025-05-18 18:52:00,884] Trial 134 finished with value: 100000000.0 and parameters: {'eta': 0.8, 'max_depth': 9, 'gamma': 4.862157320326688e-05, 'min_child_weight': 111, 'lambda': 1.158092790160049, 'alpha': 2.849919496879235e-08, 'subsample': 0.9228861202971026, 'colsample_bytree': 0.6806310499957201, 'stabilization': 'None', 'response_fn': 'exp', 'tree_method': 'hist', 'device': 'cpu'}. Best is trial 104 with value: -7229.037598.\n",
      "7.2 seconds\n",
      "[I 2025-05-18 18:52:08,145] Trial 135 finished with value: -6978.1833495 and parameters: {'eta': 0.8, 'max_depth': 9, 'gamma': 5.421023924888814e-08, 'min_child_weight': 60, 'lambda': 113.0645813627093, 'alpha': 8.158636605622584e-08, 'subsample': 0.8241268805342207, 'colsample_bytree': 0.685475766726605, 'stabilization': 'None', 'response_fn': 'exp', 'tree_method': 'hist', 'device': 'cpu'}. Best is trial 104 with value: -7229.037598.\n",
      "[I 2025-05-18 18:52:09,650] Trial 136 pruned. Trial was pruned at iteration 20.\n",
      "9.0 seconds\n",
      "[I 2025-05-18 18:52:18,657] Trial 137 finished with value: -7005.022704999999 and parameters: {'eta': 0.8, 'max_depth': 9, 'gamma': 8.763485045659395e-08, 'min_child_weight': 33, 'lambda': 130.78389066444427, 'alpha': 6.008705561300636e-08, 'subsample': 0.9664912883373387, 'colsample_bytree': 0.7592262047463381, 'stabilization': 'None', 'response_fn': 'exp', 'tree_method': 'hist', 'device': 'cpu'}. Best is trial 104 with value: -7229.037598.\n",
      "6.9 seconds\n",
      "[I 2025-05-18 18:52:25,536] Trial 138 finished with value: -7070.252930000001 and parameters: {'eta': 0.8, 'max_depth': 8, 'gamma': 3.6973005166226e-08, 'min_child_weight': 140, 'lambda': 110.05077490326808, 'alpha': 4.2867577907815646e-08, 'subsample': 0.924581216868425, 'colsample_bytree': 0.7578117770361907, 'stabilization': 'None', 'response_fn': 'exp', 'tree_method': 'hist', 'device': 'cpu'}. Best is trial 104 with value: -7229.037598.\n",
      "6.5 seconds\n",
      "[I 2025-05-18 18:52:32,043] Trial 139 finished with value: -7050.3776855 and parameters: {'eta': 0.8, 'max_depth': 8, 'gamma': 1.3419323481044236e-08, 'min_child_weight': 82, 'lambda': 137.92437545087745, 'alpha': 0.0008395858706530784, 'subsample': 0.944950360872329, 'colsample_bytree': 0.8951229836180696, 'stabilization': 'None', 'response_fn': 'exp', 'tree_method': 'hist', 'device': 'cpu'}. Best is trial 104 with value: -7229.037598.\n",
      "[I 2025-05-18 18:52:33,177] Trial 140 pruned. Trial was pruned at iteration 20.\n",
      "7.5 seconds\n",
      "[I 2025-05-18 18:52:40,681] Trial 141 finished with value: -7147.807860999999 and parameters: {'eta': 0.8, 'max_depth': 10, 'gamma': 1.1444907134208855e-06, 'min_child_weight': 102, 'lambda': 143.2501646227731, 'alpha': 9.353616886389345e-07, 'subsample': 0.8938488406127282, 'colsample_bytree': 0.7404934975723789, 'stabilization': 'None', 'response_fn': 'exp', 'tree_method': 'hist', 'device': 'cpu'}. Best is trial 104 with value: -7229.037598.\n",
      "6.9 seconds\n",
      "[I 2025-05-18 18:52:47,655] Trial 142 finished with value: -7185.397217 and parameters: {'eta': 0.8, 'max_depth': 10, 'gamma': 3.239240217989304e-06, 'min_child_weight': 115, 'lambda': 149.967978771584, 'alpha': 8.877236854365173e-06, 'subsample': 0.8884291143339174, 'colsample_bytree': 0.6752495291501078, 'stabilization': 'None', 'response_fn': 'exp', 'tree_method': 'hist', 'device': 'cpu'}. Best is trial 104 with value: -7229.037598.\n",
      "[I 2025-05-18 18:52:48,785] Trial 143 pruned. Trial was pruned at iteration 20.\n",
      "6.4 seconds\n",
      "[I 2025-05-18 18:52:55,173] Trial 144 finished with value: -7021.4968260000005 and parameters: {'eta': 0.8, 'max_depth': 10, 'gamma': 3.775110978645003e-07, 'min_child_weight': 81, 'lambda': 128.7873964499884, 'alpha': 2.0483622723301476e-05, 'subsample': 0.8812951400954436, 'colsample_bytree': 0.6738771777651752, 'stabilization': 'None', 'response_fn': 'exp', 'tree_method': 'hist', 'device': 'cpu'}. Best is trial 104 with value: -7229.037598.\n",
      "[I 2025-05-18 18:52:56,092] Trial 145 pruned. Trial was pruned at iteration 20.\n",
      "[I 2025-05-18 18:52:57,284] Trial 146 pruned. Trial was pruned at iteration 20.\n",
      "4.8 seconds\n",
      "[I 2025-05-18 18:53:02,063] Trial 147 finished with value: -7066.7961425 and parameters: {'eta': 0.8, 'max_depth': 7, 'gamma': 7.001228626099781e-08, 'min_child_weight': 75, 'lambda': 141.59586931187926, 'alpha': 0.22418596591444323, 'subsample': 0.973504767978358, 'colsample_bytree': 0.5169411065447174, 'stabilization': 'None', 'response_fn': 'exp', 'tree_method': 'hist', 'device': 'cpu'}. Best is trial 104 with value: -7229.037598.\n",
      "[I 2025-05-18 18:53:03,327] Trial 148 pruned. Trial was pruned at iteration 20.\n"
     ]
    },
    {
     "name": "stderr",
     "output_type": "stream",
     "text": [
      "invalid value encountered in subtract\n"
     ]
    },
    {
     "name": "stdout",
     "output_type": "stream",
     "text": [
      "3.2 seconds\n",
      "[I 2025-05-18 18:53:06,598] Trial 149 finished with value: 100000000.0 and parameters: {'eta': 0.8, 'max_depth': 8, 'gamma': 1.099289831048957, 'min_child_weight': 74, 'lambda': 2.6105689449126332, 'alpha': 4.552001560696491, 'subsample': 0.7960503956099505, 'colsample_bytree': 0.7649098838476832, 'stabilization': 'None', 'response_fn': 'exp', 'tree_method': 'hist', 'device': 'cpu'}. Best is trial 104 with value: -7229.037598.\n"
     ]
    },
    {
     "name": "stderr",
     "output_type": "stream",
     "text": [
      "invalid value encountered in subtract\n"
     ]
    },
    {
     "name": "stdout",
     "output_type": "stream",
     "text": [
      "2.7 seconds\n",
      "[I 2025-05-18 18:53:09,362] Trial 150 finished with value: 100000000.0 and parameters: {'eta': 0.8, 'max_depth': 4, 'gamma': 13.27085224593249, 'min_child_weight': 48, 'lambda': 2.4703923178235585, 'alpha': 1.782380162922157e-05, 'subsample': 0.9204149169288589, 'colsample_bytree': 0.7998557470464811, 'stabilization': 'None', 'response_fn': 'exp', 'tree_method': 'hist', 'device': 'cpu'}. Best is trial 104 with value: -7229.037598.\n",
      "5.4 seconds\n",
      "[I 2025-05-18 18:53:14,811] Trial 151 finished with value: -7070.9179685 and parameters: {'eta': 0.8, 'max_depth': 8, 'gamma': 6.491960399968692e-06, 'min_child_weight': 95, 'lambda': 123.95098588305753, 'alpha': 1.155757026473463e-07, 'subsample': 0.9633269423898568, 'colsample_bytree': 0.7134242621559579, 'stabilization': 'None', 'response_fn': 'exp', 'tree_method': 'hist', 'device': 'cpu'}. Best is trial 104 with value: -7229.037598.\n",
      "\n",
      "Hyper-Parameter Optimization successfully finished.\n",
      "Number of finished trials:  152\n",
      "\tBest trial:\n",
      "\t\tValue: -7229.037598\n",
      "\t\tParams:\n",
      "\t\t\teta: 0.8\n",
      "\t\t\tmax_depth: 9\n",
      "\t\t\tgamma: 9.378711571025364e-05\n",
      "\t\t\tmin_child_weight: 98\n",
      "\t\t\tlambda: 129.69186177338804\n",
      "\t\t\talpha: 2.4935739941600973e-06\n",
      "\t\t\tsubsample: 0.9905227378671154\n",
      "\t\t\tcolsample_bytree: 0.7258899944266182\n",
      "\t\t\tstabilization: None\n",
      "\t\t\tresponse_fn: exp\n",
      "\t\t\ttree_method: hist\n",
      "\t\t\tdevice: cpu\n",
      "\t\t\topt_rounds: 26\n"
     ]
    }
   ],
   "source": [
    "param_dict_2ndpass = {\n",
    "    \"eta\":              [\"none\", [ .8 ]],\n",
    "    \"max_depth\":        [\"int\",   {\"low\": 3,      \"high\": 10,    \"log\": False}], #depth too high, reduce to [3,8]\n",
    "    \"gamma\":            [\"float\", {\"low\": 1e-8,   \"high\": 40,    \"log\": True}], #[\"float\", {\"low\": 1e-8,   \"high\": 40,    \"log\": True}],\n",
    "    \"min_child_weight\": [\"int\", {\"low\": 1,   \"high\": 250,  \"log\": False}],\n",
    "    \n",
    "    \"lambda\":            [\"float\", {\"low\": 1,   \"high\": 150,    \"log\": True}], #maybe try 10-150\n",
    "    \"alpha\":            [\"float\", {\"low\": 1e-8,   \"high\": 100,    \"log\": True}],\n",
    "    \n",
    "    \"subsample\":        [\"float\", {\"low\": 0.7,    \"high\": 1.0,   \"log\": False}],\n",
    "    \"colsample_bytree\": [\"float\", {\"low\": 0.5,    \"high\": 1.0,   \"log\": False}],\n",
    "    #\"colsample_bylevel\": [\"float\", {\"low\": 0.5,    \"high\": 1.0,   \"log\": False}],\n",
    "    #\"colsample_bynode\": [\"float\", {\"low\": 0.5,    \"high\": 1.0,   \"log\": False}],\n",
    "\n",
    "    \"stabilization\":          [\"categorical\", [best_params_1stpass[\"stabilization\"]] ], #, \"MAD\", \"L2\"]],\n",
    "    \"response_fn\":          [\"categorical\", [best_params_1stpass[\"response_fn\"]] ],\n",
    "    \"tree_method\":     [\"categorical\", [best_params_1stpass[\"tree_method\"]] ], # hist\"\n",
    "    \"device\" : [\"categorical\", [\"cpu\"] ]\n",
    "}\n",
    "\n",
    "best_params_2ndpass = agnboost.tune_model( model_name = 'agn.fracAGN',\n",
    "                     param_grid = param_dict_2ndpass,\n",
    "                    dtune = catalog,\n",
    "                    split_type = 'trainval'\n",
    "                   )"
   ]
  },
  {
   "cell_type": "code",
   "execution_count": 5,
   "id": "eb327ddc-1df6-4fce-8eb8-facc5f887409",
   "metadata": {},
   "outputs": [
    {
     "ename": "NameError",
     "evalue": "name 'agnboost' is not defined",
     "output_type": "error",
     "traceback": [
      "\u001b[0;31m---------------------------------------------------------------------------\u001b[0m",
      "\u001b[0;31mNameError\u001b[0m                                 Traceback (most recent call last)",
      "Cell \u001b[0;32mIn[5], line 1\u001b[0m\n\u001b[0;32m----> 1\u001b[0m model, eval_results \u001b[38;5;241m=\u001b[39m \u001b[43magnboost\u001b[49m\u001b[38;5;241m.\u001b[39mtrain_model( model_name \u001b[38;5;241m=\u001b[39m \u001b[38;5;124m'\u001b[39m\u001b[38;5;124magn.fracAGN\u001b[39m\u001b[38;5;124m'\u001b[39m,\n\u001b[1;32m      2\u001b[0m                                       dtrain \u001b[38;5;241m=\u001b[39m catalog, \n\u001b[1;32m      3\u001b[0m                                     dval \u001b[38;5;241m=\u001b[39m \u001b[38;5;28;01mTrue\u001b[39;00m, \n\u001b[1;32m      4\u001b[0m                                     early_stopping_rounds \u001b[38;5;241m=\u001b[39m \u001b[38;5;241m50\u001b[39m, \n\u001b[1;32m      5\u001b[0m                                     num_boost_round \u001b[38;5;241m=\u001b[39m \u001b[38;5;241m10\u001b[39m\u001b[38;5;241m*\u001b[39m\u001b[38;5;241m*\u001b[39m\u001b[38;5;241m4\u001b[39m)\n",
      "\u001b[0;31mNameError\u001b[0m: name 'agnboost' is not defined"
     ]
    }
   ],
   "source": [
    "model, eval_results = agnboost.train_model( model_name = 'agn.fracAGN',\n",
    "                                      dtrain = catalog, \n",
    "                                    dval = True, \n",
    "                                    early_stopping_rounds = 50, \n",
    "                                    num_boost_round = 10**4)\n",
    "                                      "
   ]
  },
  {
   "cell_type": "code",
   "execution_count": 192,
   "id": "19e2cc2d-c440-4c23-9fb9-a20dca85ceca",
   "metadata": {},
   "outputs": [
    {
     "data": {
      "text/plain": [
       "(51,)"
      ]
     },
     "execution_count": 192,
     "metadata": {},
     "output_type": "execute_result"
    }
   ],
   "source": [
    "np.shape(eval_results['train']['nll'])"
   ]
  },
  {
   "cell_type": "code",
   "execution_count": 194,
   "id": "a397a5ff-f91d-4d8b-ade3-b8c0d05f057a",
   "metadata": {},
   "outputs": [
    {
     "data": {
      "text/plain": [
       "2000"
      ]
     },
     "execution_count": 194,
     "metadata": {},
     "output_type": "execute_result"
    }
   ],
   "source": [
    "len(catalog.val_indices)"
   ]
  },
  {
   "cell_type": "code",
   "execution_count": 10,
   "id": "8f8f32b5-98e2-4926-b227-cdbb549ee539",
   "metadata": {},
   "outputs": [
    {
     "data": {
      "image/png": "[encoded data removed]",
      "text/plain": [
       "<Figure size 640x480 with 1 Axes>"
      ]
     },
     "metadata": {},
     "output_type": "display_data"
    }
   ],
   "source": [
    "import matplotlib.pyplot as plt\n",
    "def plot_eval(evals, catalog):\n",
    "    train_len = len(catalog.train_indices)\n",
    "    val_len = len(catalog.val_indices)\n",
    "\n",
    "    train_nll = np.array(evals['train']['nll']) * (val_len/train_len)\n",
    "    val_nll = np.array(evals['validation']['nll'])\n",
    "\n",
    "    fig, ax = plt.subplots()\n",
    "    ax.plot(train_nll, label = 'train-nll')\n",
    "    ax.plot(val_nll, label = 'validation-nll')\n",
    "\n",
    "    ax.set_xlabel('Iteration')\n",
    "    ax.set_ylabel('NLL')\n",
    "    ax.legend(loc='upper right')\n",
    "\n",
    "plot_eval(eval_results, catalog)"
   ]
  },
  {
   "cell_type": "code",
   "execution_count": 6,
   "id": "6c498816-04e3-40ae-a278-4cb28f4e95ff",
   "metadata": {},
   "outputs": [
    {
     "name": "stdout",
     "output_type": "stream",
     "text": [
      "[INFO] Features not yet created. Creating with default parameters.\n",
      "[INFO] Created feature dataframe with 121 columns and 10000 rows.\n"
     ]
    },
    {
     "data": {
      "text/plain": [
       "True"
      ]
     },
     "execution_count": 6,
     "metadata": {},
     "output_type": "execute_result"
    }
   ],
   "source": [
    "filename = '2025_05_20-PM10_36_48_agn.fracAGN_model.pkl'\n",
    "\n",
    "agnboost = model.AGNBoost( feature_names = catalog.get_feature_names(),\n",
    "                          target_variables = {'agn.fracAGN' : 'ZABeta'},\n",
    "                         )\n",
    "\n",
    "agnboost.load_model(file_name = filename, overwrite = True)"
   ]
  },
  {
   "cell_type": "code",
   "execution_count": 38,
   "id": "93d4fe4b-2ff2-4d91-a965-7c5ee672e693",
   "metadata": {},
   "outputs": [
    {
     "name": "stdout",
     "output_type": "stream",
     "text": [
      "None\n",
      "None\n"
     ]
    }
   ],
   "source": [
    "print(agnboost.models['agn.fracAGN'].booster.attr('device'))\n",
    "\n",
    "agnboost.models['agn.fracAGN'].booster.set_param( {'device': 'cpu'})\n",
    "\n",
    "print(agnboost.models['agn.fracAGN'].booster.attr('device'))"
   ]
  },
  {
   "cell_type": "code",
   "execution_count": 9,
   "id": "5d630f33-03de-47a9-897a-08c67e2314e3",
   "metadata": {},
   "outputs": [
    {
     "name": "stderr",
     "output_type": "stream",
     "text": [
      "2025-05-22 13:59:36,134 - AGNBoost.AGNBoost - WARNING - Catalog object passsed. Taking the features and labels of the test set stored in the passed Catalog.\n",
      "2025-05-22 13:59:36,135 - AGNBoost.Catalog - WARNING - Data has not been split. Running split_data with default parameters.\n"
     ]
    }
   ],
   "source": [
    "preds = agnboost.predict( data = catalog, split_use = 'test', model_name = 'agn.fracAGN')"
   ]
  },
  {
   "cell_type": "code",
   "execution_count": 10,
   "id": "10a18cae-5b3e-4207-811d-cef13cf41656",
   "metadata": {},
   "outputs": [
    {
     "name": "stderr",
     "output_type": "stream",
     "text": [
      "2025-05-22 15:31:08,675 - AGNBoost.AGNBoost - WARNING - Catalog object passsed. Taking the features and labels of the test set stored in the passed Catalog.\n",
      "2025-05-22 15:31:08,675 - AGNBoost.Catalog - WARNING - Data has not been split. Running split_data with default parameters.\n"
     ]
    },
    {
     "name": "stdout",
     "output_type": "stream",
     "text": [
      "val\n",
      "True\n",
      "is cat\n"
     ]
    },
    {
     "ename": "UnboundLocalError",
     "evalue": "cannot access local variable 'model_uncertainty' where it is not associated with a value",
     "output_type": "error",
     "traceback": [
      "\u001b[0;31m---------------------------------------------------------------------------\u001b[0m",
      "\u001b[0;31mUnboundLocalError\u001b[0m                         Traceback (most recent call last)",
      "Cell \u001b[0;32mIn[10], line 1\u001b[0m\n\u001b[0;32m----> 1\u001b[0m model_uncertainty \u001b[38;5;241m=\u001b[39m \u001b[43magnboost\u001b[49m\u001b[38;5;241;43m.\u001b[39;49m\u001b[43mprediction_uncertainty\u001b[49m\u001b[43m(\u001b[49m\u001b[43m \u001b[49m\u001b[43muncertainty_type\u001b[49m\u001b[43m \u001b[49m\u001b[38;5;241;43m=\u001b[39;49m\u001b[43m \u001b[49m\u001b[38;5;124;43m'\u001b[39;49m\u001b[38;5;124;43mmodel\u001b[39;49m\u001b[38;5;124;43m'\u001b[39;49m\u001b[43m,\u001b[49m\u001b[43m \u001b[49m\u001b[43mmodel_name\u001b[49m\u001b[43m \u001b[49m\u001b[38;5;241;43m=\u001b[39;49m\u001b[43m \u001b[49m\u001b[38;5;124;43m'\u001b[39;49m\u001b[38;5;124;43magn.fracAGN\u001b[39;49m\u001b[38;5;124;43m'\u001b[39;49m\u001b[43m,\u001b[49m\u001b[43m \u001b[49m\u001b[43mdata\u001b[49m\u001b[43m \u001b[49m\u001b[38;5;241;43m=\u001b[39;49m\u001b[43m \u001b[49m\u001b[43mcatalog\u001b[49m\u001b[43m,\u001b[49m\u001b[43m \u001b[49m\u001b[43msplit_use\u001b[49m\u001b[43m \u001b[49m\u001b[38;5;241;43m=\u001b[39;49m\u001b[43m \u001b[49m\u001b[38;5;124;43m'\u001b[39;49m\u001b[38;5;124;43mtest\u001b[39;49m\u001b[38;5;124;43m'\u001b[39;49m\u001b[43m)\u001b[49m\n\u001b[1;32m      2\u001b[0m \u001b[38;5;28mprint\u001b[39m(model_uncertainty)\n",
      "File \u001b[0;32m~/Documents/agnboost/agnboost/model.py:889\u001b[0m, in \u001b[0;36mAGNBoost.prediction_uncertainty\u001b[0;34m(self, uncertainty_type, data, model_name, split_use, seed, M)\u001b[0m\n\u001b[1;32m    884\u001b[0m \u001b[38;5;66;03m# Load the saved model + validate the features\u001b[39;00m\n\u001b[1;32m    885\u001b[0m xgblss_m \u001b[38;5;241m=\u001b[39m \u001b[38;5;28mself\u001b[39m\u001b[38;5;241m.\u001b[39mget_model(model_name)\n\u001b[1;32m    887\u001b[0m \u001b[38;5;28;01mmatch\u001b[39;00m uncertainty_type:\n\u001b[1;32m    888\u001b[0m     \u001b[38;5;28;01mcase\u001b[39;00m \u001b[38;5;124m'\u001b[39m\u001b[38;5;124mmodel\u001b[39m\u001b[38;5;124m'\u001b[39m:\n\u001b[0;32m--> 889\u001b[0m         model_uncertainty \u001b[38;5;241m=\u001b[39m \u001b[43mmodel_uncertainty\u001b[49m( model \u001b[38;5;241m=\u001b[39m xgblss_m,\n\u001b[1;32m    890\u001b[0m                                                      data \u001b[38;5;241m=\u001b[39m dmatrix, \n\u001b[1;32m    891\u001b[0m                                                      dist_name \u001b[38;5;241m=\u001b[39m \u001b[38;5;28mself\u001b[39m\u001b[38;5;241m.\u001b[39mtarget_variables[model_name],\n\u001b[1;32m    892\u001b[0m                                                      best_iter \u001b[38;5;241m=\u001b[39m xgblss_m\u001b[38;5;241m.\u001b[39mbooster\u001b[38;5;241m.\u001b[39mbest_iteration, \n\u001b[1;32m    893\u001b[0m                                                      M \u001b[38;5;241m=\u001b[39m M\n\u001b[1;32m    894\u001b[0m                                                      )\n\u001b[1;32m    895\u001b[0m         \u001b[38;5;28;01mreturn\u001b[39;00m model_uncertainty\n\u001b[1;32m    897\u001b[0m     \u001b[38;5;66;03m#case 'photometric':\u001b[39;00m\n\u001b[1;32m    898\u001b[0m     \u001b[38;5;66;03m#    uncertainty_from_phot_err = \u001b[39;00m\n\u001b[1;32m    900\u001b[0m \u001b[38;5;28;01mreturn\u001b[39;00m \u001b[38;5;28;01mNone\u001b[39;00m\n",
      "\u001b[0;31mUnboundLocalError\u001b[0m: cannot access local variable 'model_uncertainty' where it is not associated with a value"
     ]
    }
   ],
   "source": [
    "model_uncertainty = agnboost.prediction_uncertainty( uncertainty_type = 'model', model_name = 'agn.fracAGN', data = catalog, split_use = 'test')\n",
    "print(model_uncertainty)"
   ]
  },
  {
   "cell_type": "code",
   "execution_count": 13,
   "id": "3e40ffd4-82a2-4e1c-915e-e4b1e2f93fcb",
   "metadata": {},
   "outputs": [
    {
     "name": "stderr",
     "output_type": "stream",
     "text": [
      "2025-05-22 15:33:25,885 - AGNBoost.AGNBoost - WARNING - Catalog object passsed. Taking the features and labels of the test set stored in the passed Catalog.\n"
     ]
    },
    {
     "name": "stdout",
     "output_type": "stream",
     "text": [
      "[0.36136884 0.39062258 0.20277879 ... 0.98838383 0.28582408 0.79800143]\n"
     ]
    }
   ],
   "source": [
    "preds = agnboost.predict( data = catalog, split_use = 'test', model_name = 'agn.fracAGN')\n",
    "print(preds)"
   ]
  },
  {
   "cell_type": "code",
   "execution_count": 12,
   "id": "dfcf883d-f9d3-471d-970c-257c853a0e70",
   "metadata": {},
   "outputs": [
    {
     "name": "stderr",
     "output_type": "stream",
     "text": [
      "2025-05-22 13:22:12,751 - AGNBoost.Catalog - WARNING - Data has not been split. Running split_data with default parameters.\n"
     ]
    }
   ],
   "source": [
    "true_fagn = catalog.get_split_df( split_type = 'test', include_features = False, include_target = 'agn.fracAGN')\n"
   ]
  },
  {
   "cell_type": "code",
   "execution_count": 13,
   "id": "ca650cf8-3e48-473d-974c-648bba01e91c",
   "metadata": {},
   "outputs": [
    {
     "name": "stdout",
     "output_type": "stream",
     "text": [
      "7304    0.99\n",
      "3524    0.90\n",
      "2532    0.99\n",
      "1928    0.50\n",
      "4357    0.70\n",
      "        ... \n",
      "839     0.40\n",
      "181     0.30\n",
      "480     0.00\n",
      "8209    0.10\n",
      "2661    0.60\n",
      "Name: agn.fracAGN, Length: 2000, dtype: float64\n"
     ]
    }
   ],
   "source": [
    "print(true_fagn)"
   ]
  },
  {
   "cell_type": "code",
   "execution_count": 5,
   "id": "3d4a519b-7a81-4b6a-8633-88473b21d8bd",
   "metadata": {},
   "outputs": [
    {
     "name": "stderr",
     "output_type": "stream",
     "text": [
      "2025-05-22 16:15:43,507 - AGNBoost.Catalog - WARNING - Warning: Column jwst.nircam.F115W contains non-positive values. Setting them to NaN for log calculation.\n",
      "2025-05-22 16:15:43,508 - AGNBoost.Catalog - WARNING - Warning: Column jwst.nircam.F150W contains non-positive values. Setting them to NaN for log calculation.\n",
      "2025-05-22 16:15:43,509 - AGNBoost.Catalog - WARNING - Warning: Column jwst.nircam.F200W contains non-positive values. Setting them to NaN for log calculation.\n",
      "2025-05-22 16:15:43,509 - AGNBoost.Catalog - WARNING - Warning: Column jwst.nircam.F410M contains non-positive values. Setting them to NaN for log calculation.\n",
      "2025-05-22 16:15:43,510 - AGNBoost.Catalog - WARNING - Warning: Column jwst.miri.F1500W contains non-positive values. Setting them to NaN for log calculation.\n",
      "2025-05-22 16:15:43,511 - AGNBoost.Catalog - WARNING - Warning: Column jwst.miri.F2100W contains non-positive values. Setting them to NaN for log calculation.\n"
     ]
    },
    {
     "name": "stdout",
     "output_type": "stream",
     "text": [
      "Current working directory: /home/kurt/Documents/agnboost\n",
      "Looking for bands file at: /home/kurt/Documents/agnboost/allowed_bands.json\n",
      "[INFO] Loaded bands file metadata: This file contains the allowed photometric bands for JWST\n",
      "[INFO] Loaded 11 allowed bands from agnboost/allowed_bands.json\n",
      "[INFO] Attempting to load file with delimiter: ' '\n",
      "[INFO] Successfully loaded data with 2158 rows.\n",
      "[INFO] Found 11 valid band columns:\n",
      "[INFO]   - jwst.nircam.F115W (F115W): 1.154 μm\n",
      "[INFO]   - jwst.nircam.F150W (F150W): 1.501 μm\n",
      "[INFO]   - jwst.nircam.F200W (F200W): 1.988 μm\n",
      "[INFO]   - jwst.nircam.F277W (F277W): 2.776 μm\n",
      "[INFO]   - jwst.nircam.F356W (F356W): 3.565 μm\n",
      "[INFO]   - jwst.nircam.F410M (F410M): 4.083 μm\n",
      "[INFO]   - jwst.nircam.F444W (F444W): 4.402 μm\n",
      "[INFO]   - jwst.miri.F770W (F770W): 7.7 μm\n",
      "[INFO]   - jwst.miri.F1000W (F1000W): 10.0 μm\n",
      "[INFO]   - jwst.miri.F1500W (F1500W): 15.0 μm\n",
      "[INFO]   - jwst.miri.F2100W (F2100W): 21.0 μm\n",
      "[INFO] Found 2 common non-band columns: ['id', 'redshift']\n",
      "[INFO] S/N cut on jwst.miri.F770W (F770W) with threshold 3.0: dropped 374 rows (17.33%).\n",
      "[INFO] S/N cut on jwst.miri.F2100W (F2100W) with threshold 3.0: dropped 939 rows (52.63%).\n",
      "[INFO] S/N cut on jwst.miri.F1500W (F1500W) with threshold 3.0: dropped 144 rows (17.04%).\n",
      "[INFO] Total S/N cut result: kept 701/2158 rows (32.48%), dropped 1457 rows (67.52%).\n",
      "[INFO] Dropped 3 rows (0.43%) with NaN values in any of these columns: jwst.nircam.F115W (F115W), jwst.nircam.F150W (F150W), jwst.nircam.F200W (F200W), jwst.nircam.F277W (F277W), jwst.nircam.F356W (F356W), jwst.nircam.F410M (F410M), jwst.nircam.F444W (F444W), jwst.miri.F770W (F770W), jwst.miri.F1000W (F1000W), jwst.miri.F1500W (F1500W), jwst.miri.F2100W (F2100W)\n",
      "[INFO] Rows remaining: 698/701 (99.57%)\n"
     ]
    }
   ],
   "source": [
    "mega_catalog = dataset.Catalog(path='data/raw/megav0.2_cigale_hasz_fized.txt', delimiter = \" \", summarize = False)#, bands_file='allowed_bands.json')\n",
    "\n",
    "mega_catalog.sn_cut(columns = {'jwst.miri.F770W':'jwst.miri.F770W_err',\n",
    "                                  'jwst.miri.F2100W': 'jwst.miri.F2100W_err',\n",
    "                                   'jwst.miri.F1500W': 'jwst.miri.F1500W_err'\n",
    "                                  }, \n",
    "                        threshold = 3.0,\n",
    "                       inplace = True)\n",
    "\n",
    "mega_catalog.drop_nan(inplace = True)"
   ]
  },
  {
   "cell_type": "code",
   "execution_count": 8,
   "id": "4d1c93fe-3abe-4a7c-8702-e0abcd63e9f6",
   "metadata": {},
   "outputs": [
    {
     "data": {
      "text/plain": [
       "Index(['id', 'redshift', 'hst.acs.wfc.F606W', 'hst.acs.wfc.F606W_err',\n",
       "       'hst.acs.wfc.F814W', 'hst.acs.wfc.F814W_err', 'hst.wfc3.ir.F125W',\n",
       "       'hst.wfc3.ir.F125W_err', 'hst.wfc3.ir.F140W', 'hst.wfc3.ir.F140W_err',\n",
       "       'hst.wfc3.ir.F160W', 'hst.wfc3.ir.F160W_err', 'jwst.nircam.F115W',\n",
       "       'jwst.nircam.F115W_err', 'jwst.nircam.F150W', 'jwst.nircam.F150W_err',\n",
       "       'jwst.nircam.F200W', 'jwst.nircam.F200W_err', 'jwst.nircam.F277W',\n",
       "       'jwst.nircam.F277W_err', 'jwst.nircam.F356W', 'jwst.nircam.F356W_err',\n",
       "       'jwst.nircam.F410M', 'jwst.nircam.F410M_err', 'jwst.nircam.F444W',\n",
       "       'jwst.nircam.F444W_err', 'jwst.miri.F770W', 'jwst.miri.F770W_err',\n",
       "       'jwst.miri.F1000W', 'jwst.miri.F1000W_err', 'jwst.miri.F1500W',\n",
       "       'jwst.miri.F1500W_err', 'jwst.miri.F2100W', 'jwst.miri.F2100W_err'],\n",
       "      dtype='object')"
      ]
     },
     "execution_count": 8,
     "metadata": {},
     "output_type": "execute_result"
    }
   ],
   "source": [
    "mega_catalog.data.columns"
   ]
  },
  {
   "cell_type": "code",
   "execution_count": 7,
   "id": "c67fa9bf-0772-4d18-8039-2c1b7395a8b8",
   "metadata": {},
   "outputs": [
    {
     "name": "stderr",
     "output_type": "stream",
     "text": [
      "2025-05-22 16:15:52,455 - AGNBoost.AGNBoost - WARNING - Catalog object passsed. Taking the features and labels of the None set stored in the passed Catalog.\n"
     ]
    },
    {
     "name": "stdout",
     "output_type": "stream",
     "text": [
      "[INFO] Features not yet created. Creating with default parameters.\n",
      "[INFO] Created feature dataframe with 121 columns and 698 rows.\n"
     ]
    }
   ],
   "source": [
    "mega_preds = agnboost.predict( data = mega_catalog, model_name = 'agn.fracAGN')"
   ]
  },
  {
   "cell_type": "code",
   "execution_count": 17,
   "id": "e0874c56-0740-4095-9820-0e3b10208c5f",
   "metadata": {},
   "outputs": [
    {
     "ename": "TypeError",
     "evalue": "'dict_keys' object is not subscriptable",
     "output_type": "error",
     "traceback": [
      "\u001b[0;31m---------------------------------------------------------------------------\u001b[0m",
      "\u001b[0;31mTypeError\u001b[0m                                 Traceback (most recent call last)",
      "Cell \u001b[0;32mIn[17], line 2\u001b[0m\n\u001b[1;32m      1\u001b[0m \u001b[38;5;28mdict\u001b[39m \u001b[38;5;241m=\u001b[39m {\u001b[38;5;124m'\u001b[39m\u001b[38;5;124mtest\u001b[39m\u001b[38;5;124m'\u001b[39m:\u001b[38;5;241m0\u001b[39m, \u001b[38;5;124m'\u001b[39m\u001b[38;5;124mno\u001b[39m\u001b[38;5;124m'\u001b[39m:\u001b[38;5;241m1\u001b[39m}\n\u001b[0;32m----> 2\u001b[0m \u001b[38;5;28mprint\u001b[39m( \u001b[38;5;28;43mdict\u001b[39;49m\u001b[38;5;241;43m.\u001b[39;49m\u001b[43mkeys\u001b[49m\u001b[43m(\u001b[49m\u001b[43m)\u001b[49m\u001b[43m[\u001b[49m\u001b[38;5;241;43m0\u001b[39;49m\u001b[43m]\u001b[49m)\n",
      "\u001b[0;31mTypeError\u001b[0m: 'dict_keys' object is not subscriptable"
     ]
    }
   ],
   "source": [
    "dict = {'test':0, 'no':1}\n",
    "print( dict.keys()[0])"
   ]
  },
  {
   "cell_type": "code",
   "execution_count": 11,
   "id": "59e533c1-9a7a-4672-85cb-d7d5ff5ce137",
   "metadata": {
    "scrolled": true
   },
   "outputs": [
    {
     "name": "stderr",
     "output_type": "stream",
     "text": [
      "2025-05-22 16:17:18,050 - AGNBoost.AGNBoost - WARNING - Catalog object passsed. Taking the features and labels of the None set stored in the passed Catalog.\n",
      "Processing truncated model uncertainty:   3%|  | 18/698 [00:08<05:20,  2.12it/s]\n"
     ]
    },
    {
     "ename": "KeyboardInterrupt",
     "evalue": "",
     "output_type": "error",
     "traceback": [
      "\u001b[0;31m---------------------------------------------------------------------------\u001b[0m",
      "\u001b[0;31mKeyboardInterrupt\u001b[0m                         Traceback (most recent call last)",
      "Cell \u001b[0;32mIn[11], line 1\u001b[0m\n\u001b[0;32m----> 1\u001b[0m model_uncertainty \u001b[38;5;241m=\u001b[39m \u001b[43magnboost\u001b[49m\u001b[38;5;241;43m.\u001b[39;49m\u001b[43mprediction_uncertainty\u001b[49m\u001b[43m(\u001b[49m\u001b[43m \u001b[49m\u001b[43muncertainty_type\u001b[49m\u001b[43m \u001b[49m\u001b[38;5;241;43m=\u001b[39;49m\u001b[43m \u001b[49m\u001b[38;5;124;43m'\u001b[39;49m\u001b[38;5;124;43mmodel\u001b[39;49m\u001b[38;5;124;43m'\u001b[39;49m\u001b[43m,\u001b[49m\u001b[43m \u001b[49m\u001b[43mmodel_name\u001b[49m\u001b[43m \u001b[49m\u001b[38;5;241;43m=\u001b[39;49m\u001b[43m \u001b[49m\u001b[38;5;124;43m'\u001b[39;49m\u001b[38;5;124;43magn.fracAGN\u001b[39;49m\u001b[38;5;124;43m'\u001b[39;49m\u001b[43m,\u001b[49m\u001b[43m \u001b[49m\u001b[43mcatalog\u001b[49m\u001b[43m \u001b[49m\u001b[38;5;241;43m=\u001b[39;49m\u001b[43m \u001b[49m\u001b[43mmega_catalog\u001b[49m\u001b[43m)\u001b[49m\n",
      "File \u001b[0;32m~/Documents/agnboost/agnboost/model.py:894\u001b[0m, in \u001b[0;36mAGNBoost.prediction_uncertainty\u001b[0;34m(self, uncertainty_type, catalog, model_name, split_use, seed, M, num_permutation)\u001b[0m\n\u001b[1;32m    889\u001b[0m \u001b[38;5;66;03m# Load the saved model + validate the features\u001b[39;00m\n\u001b[1;32m    890\u001b[0m xgblss_m \u001b[38;5;241m=\u001b[39m \u001b[38;5;28mself\u001b[39m\u001b[38;5;241m.\u001b[39mget_model(model_name)\n\u001b[1;32m    892\u001b[0m \u001b[38;5;28;01mmatch\u001b[39;00m uncertainty_type:\n\u001b[1;32m    893\u001b[0m     \u001b[38;5;28;01mcase\u001b[39;00m \u001b[38;5;124m'\u001b[39m\u001b[38;5;124mmodel\u001b[39m\u001b[38;5;124m'\u001b[39m:\n\u001b[0;32m--> 894\u001b[0m         model_uncertainty \u001b[38;5;241m=\u001b[39m \u001b[38;5;28;43mself\u001b[39;49m\u001b[38;5;241;43m.\u001b[39;49m\u001b[43mmodel_uncertainty\u001b[49m\u001b[43m(\u001b[49m\u001b[43m \u001b[49m\u001b[43mmodel\u001b[49m\u001b[43m \u001b[49m\u001b[38;5;241;43m=\u001b[39;49m\u001b[43m \u001b[49m\u001b[43mxgblss_m\u001b[49m\u001b[43m,\u001b[49m\n\u001b[1;32m    895\u001b[0m \u001b[43m                                                     \u001b[49m\u001b[43mdata\u001b[49m\u001b[43m \u001b[49m\u001b[38;5;241;43m=\u001b[39;49m\u001b[43m \u001b[49m\u001b[43mdmatrix\u001b[49m\u001b[43m,\u001b[49m\u001b[43m \u001b[49m\n\u001b[1;32m    896\u001b[0m \u001b[43m                                                     \u001b[49m\u001b[43mdist_name\u001b[49m\u001b[43m \u001b[49m\u001b[38;5;241;43m=\u001b[39;49m\u001b[43m \u001b[49m\u001b[38;5;28;43mself\u001b[39;49m\u001b[38;5;241;43m.\u001b[39;49m\u001b[43mtarget_variables\u001b[49m\u001b[43m[\u001b[49m\u001b[43mmodel_name\u001b[49m\u001b[43m]\u001b[49m\u001b[43m,\u001b[49m\n\u001b[1;32m    897\u001b[0m \u001b[43m                                                     \u001b[49m\u001b[43mbest_iter\u001b[49m\u001b[43m \u001b[49m\u001b[38;5;241;43m=\u001b[39;49m\u001b[43m \u001b[49m\u001b[43mxgblss_m\u001b[49m\u001b[38;5;241;43m.\u001b[39;49m\u001b[43mbooster\u001b[49m\u001b[38;5;241;43m.\u001b[39;49m\u001b[43mbest_iteration\u001b[49m\u001b[43m,\u001b[49m\u001b[43m \u001b[49m\n\u001b[1;32m    898\u001b[0m \u001b[43m                                                     \u001b[49m\u001b[43mM\u001b[49m\u001b[43m \u001b[49m\u001b[38;5;241;43m=\u001b[39;49m\u001b[43m \u001b[49m\u001b[43mM\u001b[49m\n\u001b[1;32m    899\u001b[0m \u001b[43m                                                     \u001b[49m\u001b[43m)\u001b[49m\n\u001b[1;32m    900\u001b[0m         \u001b[38;5;28;01mreturn\u001b[39;00m model_uncertainty\n\u001b[1;32m    901\u001b[0m \n\u001b[1;32m    902\u001b[0m     \u001b[38;5;28;01mcase\u001b[39;00m \u001b[38;5;124m'\u001b[39m\u001b[38;5;124mphotometric\u001b[39m\u001b[38;5;124m'\u001b[39m:\n\u001b[1;32m    903\u001b[0m         uncertainty_from_phot_err \u001b[38;5;241m=\u001b[39m \u001b[38;5;28mself\u001b[39m\u001b[38;5;241m.\u001b[39muncertainty_phot( model \u001b[38;5;241m=\u001b[39mxgblss_m,\n\u001b[1;32m    904\u001b[0m                                                             catalog \u001b[38;5;241m=\u001b[39m catalog,\n\u001b[1;32m    905\u001b[0m                                                             dist_name \u001b[38;5;241m=\u001b[39m \u001b[38;5;28mself\u001b[39m\u001b[38;5;241m.\u001b[39mtarget_variables[model_name],\n\u001b[1;32m    906\u001b[0m                                                             num_permutation \u001b[38;5;241m=\u001b[39m num_permutation,\n\u001b[1;32m    907\u001b[0m                                                             seed \u001b[38;5;241m=\u001b[39m seed\n\u001b[1;32m    908\u001b[0m                                                             )\n\u001b[1;32m    909\u001b[0m         \u001b[38;5;28;01mreturn\u001b[39;00m model_uncertainty\n\u001b[1;32m    910\u001b[0m \n\u001b[1;32m    911\u001b[0m     \u001b[38;5;28;01mcase\u001b[39;00m \u001b[38;5;124m'\u001b[39m\u001b[38;5;124mall\u001b[39m\u001b[38;5;124m'\u001b[39m:\n\u001b[1;32m    912\u001b[0m         model_uncertainty \u001b[38;5;241m=\u001b[39m \u001b[38;5;28mself\u001b[39m\u001b[38;5;241m.\u001b[39mmodel_uncertainty( model \u001b[38;5;241m=\u001b[39m xgblss_m,\n\u001b[1;32m    913\u001b[0m                                                      data \u001b[38;5;241m=\u001b[39m dmatrix, \n\u001b[1;32m    914\u001b[0m                                                      dist_name \u001b[38;5;241m=\u001b[39m \u001b[38;5;28mself\u001b[39m\u001b[38;5;241m.\u001b[39mtarget_variables[model_name],\n\u001b[1;32m    915\u001b[0m                                                      best_iter \u001b[38;5;241m=\u001b[39m xgblss_m\u001b[38;5;241m.\u001b[39mbooster\u001b[38;5;241m.\u001b[39mbest_iteration, \n\u001b[1;32m    916\u001b[0m                                                      M \u001b[38;5;241m=\u001b[39m M\n\u001b[1;32m    917\u001b[0m                                                      )\n\u001b[1;32m    918\u001b[0m \n\u001b[1;32m    919\u001b[0m         uncertainty_from_phot_err \u001b[38;5;241m=\u001b[39m \u001b[38;5;28mself\u001b[39m\u001b[38;5;241m.\u001b[39muncertainty_phot( model \u001b[38;5;241m=\u001b[39mxgblss_m,\n\u001b[1;32m    920\u001b[0m                                                             catalog \u001b[38;5;241m=\u001b[39m catalog,\n\u001b[1;32m    921\u001b[0m                                                             dist_name \u001b[38;5;241m=\u001b[39m \u001b[38;5;28mself\u001b[39m\u001b[38;5;241m.\u001b[39mtarget_variables[model_name],\n\u001b[1;32m    922\u001b[0m                                                             num_permutation \u001b[38;5;241m=\u001b[39m num_permutation,\n\u001b[1;32m    923\u001b[0m                                                             seed \u001b[38;5;241m=\u001b[39m seed\n\u001b[1;32m    924\u001b[0m                                                             )\n\u001b[1;32m    925\u001b[0m \n\u001b[1;32m    926\u001b[0m         \u001b[38;5;28;01mreturn\u001b[39;00m np\u001b[38;5;241m.\u001b[39marray( [np\u001b[38;5;241m.\u001b[39msqrt(model_uncertainty[i]\u001b[38;5;241m*\u001b[39m\u001b[38;5;241m*\u001b[39m\u001b[38;5;241m2\u001b[39m \u001b[38;5;241m+\u001b[39m uncertainty_from_phot_err[i]\u001b[38;5;241m*\u001b[39m\u001b[38;5;241m*\u001b[39m\u001b[38;5;241m2\u001b[39m) \u001b[38;5;28;01mfor\u001b[39;00m i \u001b[38;5;129;01min\u001b[39;00m \u001b[38;5;28mrange\u001b[39m( catalog\u001b[38;5;241m.\u001b[39mget_length() )] )\n\u001b[1;32m    928\u001b[0m \u001b[38;5;28;01mreturn\u001b[39;00m \u001b[38;5;28;01mNone\u001b[39;00m\n",
      "File \u001b[0;32m~/Documents/agnboost/agnboost/model.py:1019\u001b[0m, in \u001b[0;36mAGNBoost.model_uncertainty\u001b[0;34m(model, data, dist_name, best_iter, M, seed)\u001b[0m\n\u001b[1;32m   1014\u001b[0m     \u001b[38;5;28;01mfor\u001b[39;00m j \u001b[38;5;129;01min\u001b[39;00m \u001b[38;5;28mrange\u001b[39m(\u001b[38;5;28mlen\u001b[39m(iteration_grid)):\n\u001b[1;32m   1015\u001b[0m         \u001b[38;5;66;03m# Need to add 1 to iteration grid value because booster.preeict evaluates on [a, b)\u001b[39;00m\n\u001b[1;32m   1016\u001b[0m         pred_params \u001b[38;5;241m=\u001b[39m predict_dist_trunc(dist \u001b[38;5;241m=\u001b[39m model\u001b[38;5;241m.\u001b[39mdist, booster \u001b[38;5;241m=\u001b[39m model\u001b[38;5;241m.\u001b[39mbooster, start_values \u001b[38;5;241m=\u001b[39m model\u001b[38;5;241m.\u001b[39mstart_values, data \u001b[38;5;241m=\u001b[39m data\u001b[38;5;241m.\u001b[39mslice([i]), iteration_range \u001b[38;5;241m=\u001b[39m (\u001b[38;5;241m0\u001b[39m, \u001b[38;5;28mint\u001b[39m(iteration_grid[j]) \u001b[38;5;241m+\u001b[39m \u001b[38;5;241m1\u001b[39m) )\n\u001b[0;32m-> 1019\u001b[0m         pred_mus[i, j] \u001b[38;5;241m=\u001b[39m \u001b[43mpredict_mean\u001b[49m\u001b[43m(\u001b[49m\u001b[43m \u001b[49m\u001b[43mtrained_model\u001b[49m\u001b[43m \u001b[49m\u001b[38;5;241;43m=\u001b[39;49m\u001b[43m \u001b[49m\u001b[43mmodel\u001b[49m\u001b[43m,\u001b[49m\u001b[43m \u001b[49m\n\u001b[1;32m   1020\u001b[0m \u001b[43m                                    \u001b[49m\u001b[43mdist_name\u001b[49m\u001b[43m \u001b[49m\u001b[38;5;241;43m=\u001b[39;49m\u001b[43m \u001b[49m\u001b[43mdist_name\u001b[49m\u001b[43m,\u001b[49m\n\u001b[1;32m   1021\u001b[0m \u001b[43m                                    \u001b[49m\u001b[43mdata\u001b[49m\u001b[43m \u001b[49m\u001b[38;5;241;43m=\u001b[39;49m\u001b[43m \u001b[49m\u001b[43mdata\u001b[49m\u001b[38;5;241;43m.\u001b[39;49m\u001b[43mslice\u001b[49m\u001b[43m(\u001b[49m\u001b[43m[\u001b[49m\u001b[43mi\u001b[49m\u001b[43m]\u001b[49m\u001b[43m)\u001b[49m\u001b[43m,\u001b[49m\n\u001b[1;32m   1022\u001b[0m \u001b[43m                                    \u001b[49m\u001b[43mseed\u001b[49m\u001b[43m \u001b[49m\u001b[38;5;241;43m=\u001b[39;49m\u001b[43m \u001b[49m\u001b[43mseed\u001b[49m\n\u001b[1;32m   1023\u001b[0m \u001b[43m                                     \u001b[49m\u001b[43m)\u001b[49m\n\u001b[1;32m   1025\u001b[0m         pred_stds[i, j] \u001b[38;5;241m=\u001b[39m predict_std( trained_model \u001b[38;5;241m=\u001b[39m model, \n\u001b[1;32m   1026\u001b[0m                     dist_name \u001b[38;5;241m=\u001b[39m dist_name,\n\u001b[1;32m   1027\u001b[0m                     data \u001b[38;5;241m=\u001b[39m data\u001b[38;5;241m.\u001b[39mslice([i]),\n\u001b[1;32m   1028\u001b[0m                     seed \u001b[38;5;241m=\u001b[39m seed\n\u001b[1;32m   1029\u001b[0m                      )\n\u001b[1;32m   1031\u001b[0m epistemic_uncert \u001b[38;5;241m=\u001b[39m pred_mus\u001b[38;5;241m.\u001b[39mstd(axis \u001b[38;5;241m=\u001b[39m \u001b[38;5;241m1\u001b[39m)\n",
      "File \u001b[0;32m~/Documents/agnboost/agnboost/utils.py:219\u001b[0m, in \u001b[0;36mpredict_mean\u001b[0;34m(trained_model, dist_name, data, seed)\u001b[0m\n\u001b[1;32m    213\u001b[0m \u001b[38;5;28;01mdef\u001b[39;00m \u001b[38;5;21mpredict_mean\u001b[39m( trained_model: xgboostlss_model,\n\u001b[1;32m    214\u001b[0m                 dist_name : \u001b[38;5;28mstr\u001b[39m,\n\u001b[1;32m    215\u001b[0m                 data : DMatrix,\n\u001b[1;32m    216\u001b[0m                 seed : \u001b[38;5;28mint\u001b[39m \u001b[38;5;241m=\u001b[39m \u001b[38;5;241m123\u001b[39m\n\u001b[1;32m    217\u001b[0m                     ):\n\u001b[0;32m--> 219\u001b[0m     pred_params \u001b[38;5;241m=\u001b[39m \u001b[43mtrained_model\u001b[49m\u001b[38;5;241;43m.\u001b[39;49m\u001b[43mpredict\u001b[49m\u001b[43m(\u001b[49m\u001b[43mdata\u001b[49m\u001b[43m \u001b[49m\u001b[38;5;241;43m=\u001b[39;49m\u001b[43m \u001b[49m\u001b[43mdata\u001b[49m\u001b[43m,\u001b[49m\u001b[43m \u001b[49m\u001b[43mpred_type\u001b[49m\u001b[43m \u001b[49m\u001b[38;5;241;43m=\u001b[39;49m\u001b[43m \u001b[49m\u001b[38;5;124;43m\"\u001b[39;49m\u001b[38;5;124;43mparameters\u001b[39;49m\u001b[38;5;124;43m\"\u001b[39;49m\u001b[43m,\u001b[49m\u001b[43m \u001b[49m\u001b[43mseed\u001b[49m\u001b[43m \u001b[49m\u001b[38;5;241;43m=\u001b[39;49m\u001b[43m \u001b[49m\u001b[43mseed\u001b[49m\u001b[43m)\u001b[49m\n\u001b[1;32m    221\u001b[0m     \u001b[38;5;28;01mmatch\u001b[39;00m dist_name:\n\u001b[1;32m    222\u001b[0m         \u001b[38;5;28;01mcase\u001b[39;00m \u001b[38;5;124m\"\u001b[39m\u001b[38;5;124mZABeta\u001b[39m\u001b[38;5;124m\"\u001b[39m:\n\u001b[1;32m    223\u001b[0m             mu_array \u001b[38;5;241m=\u001b[39m predict_mean_fromparams_ZABeta( params \u001b[38;5;241m=\u001b[39m pred_params,  seed \u001b[38;5;241m=\u001b[39m seed)\n\u001b[1;32m    225\u001b[0m     \u001b[38;5;28;01mreturn\u001b[39;00m mu_array\n",
      "File \u001b[0;32m~/anaconda3/envs/python311_clone/lib/python3.11/site-packages/xgboostlss/model.py:499\u001b[0m, in \u001b[0;36mXGBoostLSS.predict\u001b[0;34m(self, data, pred_type, n_samples, quantiles, seed)\u001b[0m\n\u001b[1;32m    472\u001b[0m \u001b[38;5;250m\u001b[39m\u001b[38;5;124;03m\"\"\"\u001b[39;00m\n\u001b[1;32m    473\u001b[0m \u001b[38;5;124;03mFunction that predicts from the trained model.\u001b[39;00m\n\u001b[1;32m    474\u001b[0m \n\u001b[0;32m   (...)\u001b[0m\n\u001b[1;32m    495\u001b[0m \u001b[38;5;124;03m    Predictions.\u001b[39;00m\n\u001b[1;32m    496\u001b[0m \u001b[38;5;124;03m\"\"\"\u001b[39;00m\n\u001b[1;32m    498\u001b[0m \u001b[38;5;66;03m# Predict\u001b[39;00m\n\u001b[0;32m--> 499\u001b[0m predt_df \u001b[38;5;241m=\u001b[39m \u001b[38;5;28;43mself\u001b[39;49m\u001b[38;5;241;43m.\u001b[39;49m\u001b[43mdist\u001b[49m\u001b[38;5;241;43m.\u001b[39;49m\u001b[43mpredict_dist\u001b[49m\u001b[43m(\u001b[49m\u001b[43mbooster\u001b[49m\u001b[38;5;241;43m=\u001b[39;49m\u001b[38;5;28;43mself\u001b[39;49m\u001b[38;5;241;43m.\u001b[39;49m\u001b[43mbooster\u001b[49m\u001b[43m,\u001b[49m\n\u001b[1;32m    500\u001b[0m \u001b[43m                                  \u001b[49m\u001b[43mstart_values\u001b[49m\u001b[38;5;241;43m=\u001b[39;49m\u001b[38;5;28;43mself\u001b[39;49m\u001b[38;5;241;43m.\u001b[39;49m\u001b[43mstart_values\u001b[49m\u001b[43m,\u001b[49m\n\u001b[1;32m    501\u001b[0m \u001b[43m                                  \u001b[49m\u001b[43mdata\u001b[49m\u001b[38;5;241;43m=\u001b[39;49m\u001b[43mdata\u001b[49m\u001b[43m,\u001b[49m\n\u001b[1;32m    502\u001b[0m \u001b[43m                                  \u001b[49m\u001b[43mpred_type\u001b[49m\u001b[38;5;241;43m=\u001b[39;49m\u001b[43mpred_type\u001b[49m\u001b[43m,\u001b[49m\n\u001b[1;32m    503\u001b[0m \u001b[43m                                  \u001b[49m\u001b[43mn_samples\u001b[49m\u001b[38;5;241;43m=\u001b[39;49m\u001b[43mn_samples\u001b[49m\u001b[43m,\u001b[49m\n\u001b[1;32m    504\u001b[0m \u001b[43m                                  \u001b[49m\u001b[43mquantiles\u001b[49m\u001b[38;5;241;43m=\u001b[39;49m\u001b[43mquantiles\u001b[49m\u001b[43m,\u001b[49m\n\u001b[1;32m    505\u001b[0m \u001b[43m                                  \u001b[49m\u001b[43mseed\u001b[49m\u001b[38;5;241;43m=\u001b[39;49m\u001b[43mseed\u001b[49m\u001b[43m)\u001b[49m\n\u001b[1;32m    507\u001b[0m \u001b[38;5;28;01mreturn\u001b[39;00m predt_df\n",
      "File \u001b[0;32m~/anaconda3/envs/python311_clone/lib/python3.11/site-packages/xgboostlss/distributions/distribution_utils.py:468\u001b[0m, in \u001b[0;36mDistributionClass.predict_dist\u001b[0;34m(self, booster, start_values, data, pred_type, n_samples, quantiles, seed)\u001b[0m\n\u001b[1;32m    465\u001b[0m base_margin_test \u001b[38;5;241m=\u001b[39m (np\u001b[38;5;241m.\u001b[39mones(shape\u001b[38;5;241m=\u001b[39m(data\u001b[38;5;241m.\u001b[39mnum_row(), \u001b[38;5;241m1\u001b[39m))) \u001b[38;5;241m*\u001b[39m start_values\n\u001b[1;32m    466\u001b[0m data\u001b[38;5;241m.\u001b[39mset_base_margin(base_margin_test\u001b[38;5;241m.\u001b[39mflatten())\n\u001b[0;32m--> 468\u001b[0m predt \u001b[38;5;241m=\u001b[39m np\u001b[38;5;241m.\u001b[39marray(\u001b[43mbooster\u001b[49m\u001b[38;5;241;43m.\u001b[39;49m\u001b[43mpredict\u001b[49m\u001b[43m(\u001b[49m\u001b[43mdata\u001b[49m\u001b[43m,\u001b[49m\u001b[43m \u001b[49m\u001b[43moutput_margin\u001b[49m\u001b[38;5;241;43m=\u001b[39;49m\u001b[38;5;28;43;01mTrue\u001b[39;49;00m\u001b[43m)\u001b[49m)\u001b[38;5;241m.\u001b[39mreshape(\u001b[38;5;241m-\u001b[39m\u001b[38;5;241m1\u001b[39m, \u001b[38;5;28mself\u001b[39m\u001b[38;5;241m.\u001b[39mn_dist_param)\n\u001b[1;32m    469\u001b[0m predt \u001b[38;5;241m=\u001b[39m torch\u001b[38;5;241m.\u001b[39mtensor(predt, dtype\u001b[38;5;241m=\u001b[39mtorch\u001b[38;5;241m.\u001b[39mfloat32)\n\u001b[1;32m    471\u001b[0m \u001b[38;5;66;03m# Transform predicted parameters to response scale\u001b[39;00m\n",
      "File \u001b[0;32m~/anaconda3/envs/python311_clone/lib/python3.11/site-packages/xgboost/core.py:2298\u001b[0m, in \u001b[0;36mBooster.predict\u001b[0;34m(self, data, output_margin, pred_leaf, pred_contribs, approx_contribs, pred_interactions, validate_features, training, iteration_range, strict_shape)\u001b[0m\n\u001b[1;32m   2295\u001b[0m shape \u001b[38;5;241m=\u001b[39m ctypes\u001b[38;5;241m.\u001b[39mPOINTER(c_bst_ulong)()\n\u001b[1;32m   2296\u001b[0m dims \u001b[38;5;241m=\u001b[39m c_bst_ulong()\n\u001b[1;32m   2297\u001b[0m _check_call(\n\u001b[0;32m-> 2298\u001b[0m     \u001b[43m_LIB\u001b[49m\u001b[38;5;241;43m.\u001b[39;49m\u001b[43mXGBoosterPredictFromDMatrix\u001b[49m\u001b[43m(\u001b[49m\n\u001b[1;32m   2299\u001b[0m \u001b[43m        \u001b[49m\u001b[38;5;28;43mself\u001b[39;49m\u001b[38;5;241;43m.\u001b[39;49m\u001b[43mhandle\u001b[49m\u001b[43m,\u001b[49m\n\u001b[1;32m   2300\u001b[0m \u001b[43m        \u001b[49m\u001b[43mdata\u001b[49m\u001b[38;5;241;43m.\u001b[39;49m\u001b[43mhandle\u001b[49m\u001b[43m,\u001b[49m\n\u001b[1;32m   2301\u001b[0m \u001b[43m        \u001b[49m\u001b[43mfrom_pystr_to_cstr\u001b[49m\u001b[43m(\u001b[49m\u001b[43mjson\u001b[49m\u001b[38;5;241;43m.\u001b[39;49m\u001b[43mdumps\u001b[49m\u001b[43m(\u001b[49m\u001b[43margs\u001b[49m\u001b[43m)\u001b[49m\u001b[43m)\u001b[49m\u001b[43m,\u001b[49m\n\u001b[1;32m   2302\u001b[0m \u001b[43m        \u001b[49m\u001b[43mctypes\u001b[49m\u001b[38;5;241;43m.\u001b[39;49m\u001b[43mbyref\u001b[49m\u001b[43m(\u001b[49m\u001b[43mshape\u001b[49m\u001b[43m)\u001b[49m\u001b[43m,\u001b[49m\n\u001b[1;32m   2303\u001b[0m \u001b[43m        \u001b[49m\u001b[43mctypes\u001b[49m\u001b[38;5;241;43m.\u001b[39;49m\u001b[43mbyref\u001b[49m\u001b[43m(\u001b[49m\u001b[43mdims\u001b[49m\u001b[43m)\u001b[49m\u001b[43m,\u001b[49m\n\u001b[1;32m   2304\u001b[0m \u001b[43m        \u001b[49m\u001b[43mctypes\u001b[49m\u001b[38;5;241;43m.\u001b[39;49m\u001b[43mbyref\u001b[49m\u001b[43m(\u001b[49m\u001b[43mpreds\u001b[49m\u001b[43m)\u001b[49m\u001b[43m,\u001b[49m\n\u001b[1;32m   2305\u001b[0m \u001b[43m    \u001b[49m\u001b[43m)\u001b[49m\n\u001b[1;32m   2306\u001b[0m )\n\u001b[1;32m   2307\u001b[0m \u001b[38;5;28;01mreturn\u001b[39;00m _prediction_output(shape, dims, preds, \u001b[38;5;28;01mFalse\u001b[39;00m)\n",
      "\u001b[0;31mKeyboardInterrupt\u001b[0m: "
     ]
    }
   ],
   "source": [
    "model_uncertainty = agnboost.prediction_uncertainty( uncertainty_type = 'model', model_name = 'agn.fracAGN', catalog = mega_catalog)"
   ]
  },
  {
   "cell_type": "code",
   "execution_count": 29,
   "id": "026e3c65-228a-40ac-9c49-c6f718067ed1",
   "metadata": {},
   "outputs": [
    {
     "name": "stderr",
     "output_type": "stream",
     "text": [
      "2025-05-22 17:03:10,747 - AGNBoost.AGNBoost - WARNING - Catalog object passsed. Taking the features and labels of the None set stored in the passed Catalog.\n"
     ]
    },
    {
     "name": "stdout",
     "output_type": "stream",
     "text": [
      "[INFO] Processing uncertainty due to photometric uncertainty with 100 trials per source.\n"
     ]
    },
    {
     "name": "stderr",
     "output_type": "stream",
     "text": [
      "  1%|▍                                          | 7/698 [00:30<50:10,  4.36s/it]"
     ]
    },
    {
     "name": "stdout",
     "output_type": "stream",
     "text": [
      "[INFO] Negative monte carlo fluxes at index 6 in bands ['jwst.miri.F1000W'] with S/N ['1.59']. Monte carlo procedure was repeated until positive flux returned at each iteration.\n"
     ]
    },
    {
     "name": "stderr",
     "output_type": "stream",
     "text": [
      "  4%|█▊                                        | 30/698 [02:11<49:04,  4.41s/it]"
     ]
    },
    {
     "name": "stdout",
     "output_type": "stream",
     "text": [
      "[INFO] Negative monte carlo fluxes at index 29 in bands ['jwst.miri.F1000W'] with S/N ['1.60']. Monte carlo procedure was repeated until positive flux returned at each iteration.\n"
     ]
    },
    {
     "name": "stderr",
     "output_type": "stream",
     "text": [
      "  6%|██▋                                       | 45/698 [03:11<42:08,  3.87s/it]"
     ]
    },
    {
     "name": "stdout",
     "output_type": "stream",
     "text": [
      "[INFO] Negative monte carlo fluxes at index 44 in bands ['jwst.miri.F1000W'] with S/N ['3.36']. Monte carlo procedure was repeated until positive flux returned at each iteration.\n"
     ]
    },
    {
     "name": "stderr",
     "output_type": "stream",
     "text": [
      "  9%|███▊                                      | 64/698 [04:26<41:30,  3.93s/it]"
     ]
    },
    {
     "name": "stdout",
     "output_type": "stream",
     "text": [
      "[INFO] Negative monte carlo fluxes at index 63 in bands ['jwst.miri.F1000W'] with S/N ['2.24']. Monte carlo procedure was repeated until positive flux returned at each iteration.\n"
     ]
    },
    {
     "name": "stderr",
     "output_type": "stream",
     "text": [
      " 10%|████▍                                     | 73/698 [05:01<40:33,  3.89s/it]"
     ]
    },
    {
     "name": "stdout",
     "output_type": "stream",
     "text": [
      "[INFO] Negative monte carlo fluxes at index 72 in bands ['jwst.nircam.F115W'] with S/N ['2.18']. Monte carlo procedure was repeated until positive flux returned at each iteration.\n"
     ]
    },
    {
     "name": "stderr",
     "output_type": "stream",
     "text": [
      " 12%|█████                                     | 85/698 [05:48<39:50,  3.90s/it]"
     ]
    },
    {
     "name": "stdout",
     "output_type": "stream",
     "text": [
      "[INFO] Negative monte carlo fluxes at index 84 in bands ['jwst.miri.F1000W'] with S/N ['1.34']. Monte carlo procedure was repeated until positive flux returned at each iteration.\n"
     ]
    },
    {
     "name": "stderr",
     "output_type": "stream",
     "text": [
      " 26%|██████████▋                              | 182/698 [12:42<38:46,  4.51s/it]"
     ]
    },
    {
     "name": "stdout",
     "output_type": "stream",
     "text": [
      "[INFO] Negative monte carlo fluxes at index 181 in bands ['jwst.miri.F1000W'] with S/N ['1.70']. Monte carlo procedure was repeated until positive flux returned at each iteration.\n"
     ]
    },
    {
     "name": "stderr",
     "output_type": "stream",
     "text": [
      " 27%|██████████▉                              | 187/698 [13:03<35:28,  4.17s/it]"
     ]
    },
    {
     "name": "stdout",
     "output_type": "stream",
     "text": [
      "[INFO] Negative monte carlo fluxes at index 186 in bands ['jwst.nircam.F115W'] with S/N ['0.94']. Monte carlo procedure was repeated until positive flux returned at each iteration.\n"
     ]
    },
    {
     "name": "stderr",
     "output_type": "stream",
     "text": [
      " 30%|████████████                             | 206/698 [14:19<32:28,  3.96s/it]"
     ]
    },
    {
     "name": "stdout",
     "output_type": "stream",
     "text": [
      "[INFO] Negative monte carlo fluxes at index 205 in bands ['jwst.miri.F1000W'] with S/N ['1.68']. Monte carlo procedure was repeated until positive flux returned at each iteration.\n"
     ]
    },
    {
     "name": "stderr",
     "output_type": "stream",
     "text": [
      " 32%|█████████████                            | 222/698 [15:23<31:43,  4.00s/it]"
     ]
    },
    {
     "name": "stdout",
     "output_type": "stream",
     "text": [
      "[INFO] Negative monte carlo fluxes at index 221 in bands ['jwst.miri.F1000W'] with S/N ['1.38']. Monte carlo procedure was repeated until positive flux returned at each iteration.\n"
     ]
    },
    {
     "name": "stderr",
     "output_type": "stream",
     "text": [
      " 32%|█████████████                            | 223/698 [15:27<32:10,  4.06s/it]"
     ]
    },
    {
     "name": "stdout",
     "output_type": "stream",
     "text": [
      "[INFO] Negative monte carlo fluxes at index 222 in bands ['jwst.miri.F1000W'] with S/N ['1.56']. Monte carlo procedure was repeated until positive flux returned at each iteration.\n"
     ]
    },
    {
     "name": "stderr",
     "output_type": "stream",
     "text": [
      " 33%|█████████████▍                           | 229/698 [15:52<33:10,  4.24s/it]"
     ]
    },
    {
     "name": "stdout",
     "output_type": "stream",
     "text": [
      "[INFO] Negative monte carlo fluxes at index 228 in bands ['jwst.miri.F1000W'] with S/N ['0.42']. Monte carlo procedure was repeated until positive flux returned at each iteration.\n"
     ]
    },
    {
     "name": "stderr",
     "output_type": "stream",
     "text": [
      " 33%|█████████████▌                           | 230/698 [15:56<33:23,  4.28s/it]"
     ]
    },
    {
     "name": "stdout",
     "output_type": "stream",
     "text": [
      "[INFO] Negative monte carlo fluxes at index 229 in bands ['jwst.miri.F1000W'] with S/N ['1.97']. Monte carlo procedure was repeated until positive flux returned at each iteration.\n"
     ]
    },
    {
     "name": "stderr",
     "output_type": "stream",
     "text": [
      " 34%|██████████████                           | 239/698 [16:35<32:06,  4.20s/it]"
     ]
    },
    {
     "name": "stdout",
     "output_type": "stream",
     "text": [
      "[INFO] Negative monte carlo fluxes at index 238 in bands ['jwst.miri.F1000W'] with S/N ['2.15']. Monte carlo procedure was repeated until positive flux returned at each iteration.\n"
     ]
    },
    {
     "name": "stderr",
     "output_type": "stream",
     "text": [
      " 34%|██████████████                           | 240/698 [16:40<32:35,  4.27s/it]"
     ]
    },
    {
     "name": "stdout",
     "output_type": "stream",
     "text": [
      "[INFO] Negative monte carlo fluxes at index 239 in bands ['jwst.nircam.F115W'] with S/N ['1.21']. Monte carlo procedure was repeated until positive flux returned at each iteration.\n"
     ]
    },
    {
     "name": "stderr",
     "output_type": "stream",
     "text": [
      " 35%|██████████████▏                          | 242/698 [16:48<32:18,  4.25s/it]"
     ]
    },
    {
     "name": "stdout",
     "output_type": "stream",
     "text": [
      "[INFO] Negative monte carlo fluxes at index 241 in bands ['jwst.miri.F1000W'] with S/N ['1.67']. Monte carlo procedure was repeated until positive flux returned at each iteration.\n"
     ]
    },
    {
     "name": "stderr",
     "output_type": "stream",
     "text": [
      " 37%|██████████████▉                          | 255/698 [17:48<33:02,  4.48s/it]"
     ]
    },
    {
     "name": "stdout",
     "output_type": "stream",
     "text": [
      "[INFO] Negative monte carlo fluxes at index 254 in bands ['jwst.miri.F1000W'] with S/N ['1.58']. Monte carlo procedure was repeated until positive flux returned at each iteration.\n"
     ]
    },
    {
     "name": "stderr",
     "output_type": "stream",
     "text": [
      " 39%|████████████████                         | 274/698 [19:13<28:36,  4.05s/it]"
     ]
    },
    {
     "name": "stdout",
     "output_type": "stream",
     "text": [
      "[INFO] Negative monte carlo fluxes at index 273 in bands ['jwst.miri.F1000W'] with S/N ['1.70']. Monte carlo procedure was repeated until positive flux returned at each iteration.\n"
     ]
    },
    {
     "name": "stderr",
     "output_type": "stream",
     "text": [
      " 42%|█████████████████                        | 290/698 [20:17<26:33,  3.91s/it]"
     ]
    },
    {
     "name": "stdout",
     "output_type": "stream",
     "text": [
      "[INFO] Negative monte carlo fluxes at index 289 in bands ['jwst.miri.F1000W'] with S/N ['2.55']. Monte carlo procedure was repeated until positive flux returned at each iteration.\n"
     ]
    },
    {
     "name": "stderr",
     "output_type": "stream",
     "text": [
      " 42%|█████████████████▏                       | 292/698 [20:24<26:19,  3.89s/it]"
     ]
    },
    {
     "name": "stdout",
     "output_type": "stream",
     "text": [
      "[INFO] Negative monte carlo fluxes at index 291 in bands ['jwst.miri.F1000W'] with S/N ['0.34']. Monte carlo procedure was repeated until positive flux returned at each iteration.\n"
     ]
    },
    {
     "name": "stderr",
     "output_type": "stream",
     "text": [
      " 43%|█████████████████▌                       | 298/698 [20:48<25:48,  3.87s/it]"
     ]
    },
    {
     "name": "stdout",
     "output_type": "stream",
     "text": [
      "[INFO] Negative monte carlo fluxes at index 297 in bands ['jwst.miri.F1000W'] with S/N ['2.07']. Monte carlo procedure was repeated until positive flux returned at each iteration.\n"
     ]
    },
    {
     "name": "stderr",
     "output_type": "stream",
     "text": [
      " 45%|██████████████████▌                      | 315/698 [21:55<26:48,  4.20s/it]"
     ]
    },
    {
     "name": "stdout",
     "output_type": "stream",
     "text": [
      "[INFO] Negative monte carlo fluxes at index 314 in bands ['jwst.miri.F1000W'] with S/N ['1.22']. Monte carlo procedure was repeated until positive flux returned at each iteration.\n"
     ]
    },
    {
     "name": "stderr",
     "output_type": "stream",
     "text": [
      " 47%|███████████████████▍                     | 330/698 [23:02<26:58,  4.40s/it]"
     ]
    },
    {
     "name": "stdout",
     "output_type": "stream",
     "text": [
      "[INFO] Negative monte carlo fluxes at index 329 in bands ['jwst.miri.F1000W'] with S/N ['2.93']. Monte carlo procedure was repeated until positive flux returned at each iteration.\n"
     ]
    },
    {
     "name": "stderr",
     "output_type": "stream",
     "text": [
      " 49%|███████████████████▉                     | 340/698 [23:46<26:19,  4.41s/it]"
     ]
    },
    {
     "name": "stdout",
     "output_type": "stream",
     "text": [
      "[INFO] Negative monte carlo fluxes at index 339 in bands ['jwst.miri.F1000W'] with S/N ['2.69']. Monte carlo procedure was repeated until positive flux returned at each iteration.\n"
     ]
    },
    {
     "name": "stderr",
     "output_type": "stream",
     "text": [
      " 53%|█████████████████████▌                   | 368/698 [25:47<23:27,  4.27s/it]"
     ]
    },
    {
     "name": "stdout",
     "output_type": "stream",
     "text": [
      "[INFO] Negative monte carlo fluxes at index 367 in bands ['jwst.miri.F1500W'] with S/N ['3.32']. Monte carlo procedure was repeated until positive flux returned at each iteration.\n"
     ]
    },
    {
     "name": "stderr",
     "output_type": "stream",
     "text": [
      " 55%|██████████████████████▌                  | 385/698 [27:00<22:42,  4.35s/it]"
     ]
    },
    {
     "name": "stdout",
     "output_type": "stream",
     "text": [
      "[INFO] Negative monte carlo fluxes at index 384 in bands ['jwst.miri.F1000W'] with S/N ['2.31']. Monte carlo procedure was repeated until positive flux returned at each iteration.\n"
     ]
    },
    {
     "name": "stderr",
     "output_type": "stream",
     "text": [
      " 56%|███████████████████████▏                 | 394/698 [27:46<25:23,  5.01s/it]"
     ]
    },
    {
     "name": "stdout",
     "output_type": "stream",
     "text": [
      "[INFO] Negative monte carlo fluxes at index 393 in bands ['jwst.miri.F2100W'] with S/N ['3.25']. Monte carlo procedure was repeated until positive flux returned at each iteration.\n"
     ]
    },
    {
     "name": "stderr",
     "output_type": "stream",
     "text": [
      " 57%|███████████████████████▎                 | 397/698 [28:00<24:01,  4.79s/it]"
     ]
    },
    {
     "name": "stdout",
     "output_type": "stream",
     "text": [
      "[INFO] Negative monte carlo fluxes at index 396 in bands ['jwst.miri.F1000W'] with S/N ['2.11']. Monte carlo procedure was repeated until positive flux returned at each iteration.\n"
     ]
    },
    {
     "name": "stderr",
     "output_type": "stream",
     "text": [
      " 58%|███████████████████████▋                 | 404/698 [28:33<22:57,  4.69s/it]"
     ]
    },
    {
     "name": "stdout",
     "output_type": "stream",
     "text": [
      "[INFO] Negative monte carlo fluxes at index 403 in bands ['jwst.miri.F1000W'] with S/N ['1.09']. Monte carlo procedure was repeated until positive flux returned at each iteration.\n"
     ]
    },
    {
     "name": "stderr",
     "output_type": "stream",
     "text": [
      " 58%|███████████████████████▊                 | 406/698 [28:42<23:08,  4.76s/it]"
     ]
    },
    {
     "name": "stdout",
     "output_type": "stream",
     "text": [
      "[INFO] Negative monte carlo fluxes at index 405 in bands ['jwst.miri.F1000W'] with S/N ['1.42']. Monte carlo procedure was repeated until positive flux returned at each iteration.\n"
     ]
    },
    {
     "name": "stderr",
     "output_type": "stream",
     "text": [
      " 58%|███████████████████████▉                 | 407/698 [28:47<22:50,  4.71s/it]"
     ]
    },
    {
     "name": "stdout",
     "output_type": "stream",
     "text": [
      "[INFO] Negative monte carlo fluxes at index 406 in bands ['jwst.miri.F1000W'] with S/N ['1.40']. Monte carlo procedure was repeated until positive flux returned at each iteration.\n"
     ]
    },
    {
     "name": "stderr",
     "output_type": "stream",
     "text": [
      " 59%|████████████████████████                 | 409/698 [28:56<22:22,  4.64s/it]"
     ]
    },
    {
     "name": "stdout",
     "output_type": "stream",
     "text": [
      "[INFO] Negative monte carlo fluxes at index 408 in bands ['jwst.miri.F1000W'] with S/N ['2.72']. Monte carlo procedure was repeated until positive flux returned at each iteration.\n"
     ]
    },
    {
     "name": "stderr",
     "output_type": "stream",
     "text": [
      " 59%|████████████████████████▎                | 414/698 [29:21<22:51,  4.83s/it]"
     ]
    },
    {
     "name": "stdout",
     "output_type": "stream",
     "text": [
      "[INFO] Negative monte carlo fluxes at index 413 in bands ['jwst.miri.F1000W'] with S/N ['1.09']. Monte carlo procedure was repeated until positive flux returned at each iteration.\n"
     ]
    },
    {
     "name": "stderr",
     "output_type": "stream",
     "text": [
      " 59%|████████████████████████▍                | 415/698 [29:25<22:32,  4.78s/it]"
     ]
    },
    {
     "name": "stdout",
     "output_type": "stream",
     "text": [
      "[INFO] Negative monte carlo fluxes at index 414 in bands ['jwst.miri.F1000W'] with S/N ['1.04']. Monte carlo procedure was repeated until positive flux returned at each iteration.\n"
     ]
    },
    {
     "name": "stderr",
     "output_type": "stream",
     "text": [
      " 60%|████████████████████████▍                | 416/698 [29:30<22:14,  4.73s/it]"
     ]
    },
    {
     "name": "stdout",
     "output_type": "stream",
     "text": [
      "[INFO] Negative monte carlo fluxes at index 415 in bands ['jwst.nircam.F150W'] with S/N ['1.95']. Monte carlo procedure was repeated until positive flux returned at each iteration.\n"
     ]
    },
    {
     "name": "stderr",
     "output_type": "stream",
     "text": [
      " 62%|█████████████████████████▌               | 436/698 [31:00<19:08,  4.38s/it]"
     ]
    },
    {
     "name": "stdout",
     "output_type": "stream",
     "text": [
      "[INFO] Negative monte carlo fluxes at index 435 in bands ['jwst.miri.F1000W'] with S/N ['0.58']. Monte carlo procedure was repeated until positive flux returned at each iteration.\n"
     ]
    },
    {
     "name": "stderr",
     "output_type": "stream",
     "text": [
      " 63%|█████████████████████████▉               | 441/698 [31:24<20:38,  4.82s/it]"
     ]
    },
    {
     "name": "stdout",
     "output_type": "stream",
     "text": [
      "[INFO] Negative monte carlo fluxes at index 440 in bands ['jwst.miri.F1000W'] with S/N ['2.07']. Monte carlo procedure was repeated until positive flux returned at each iteration.\n"
     ]
    },
    {
     "name": "stderr",
     "output_type": "stream",
     "text": [
      " 66%|███████████████████████████▎             | 464/698 [33:06<17:17,  4.43s/it]"
     ]
    },
    {
     "name": "stdout",
     "output_type": "stream",
     "text": [
      "[INFO] Negative monte carlo fluxes at index 463 in bands ['jwst.miri.F1000W'] with S/N ['0.21']. Monte carlo procedure was repeated until positive flux returned at each iteration.\n"
     ]
    },
    {
     "name": "stderr",
     "output_type": "stream",
     "text": [
      " 67%|███████████████████████████▎             | 465/698 [33:10<17:21,  4.47s/it]"
     ]
    },
    {
     "name": "stdout",
     "output_type": "stream",
     "text": [
      "[INFO] Negative monte carlo fluxes at index 464 in bands ['jwst.miri.F2100W'] with S/N ['3.06']. Monte carlo procedure was repeated until positive flux returned at each iteration.\n"
     ]
    },
    {
     "name": "stderr",
     "output_type": "stream",
     "text": [
      " 69%|████████████████████████████▎            | 481/698 [34:26<16:26,  4.55s/it]"
     ]
    },
    {
     "name": "stdout",
     "output_type": "stream",
     "text": [
      "[INFO] Negative monte carlo fluxes at index 480 in bands ['jwst.miri.F1000W'] with S/N ['1.67']. Monte carlo procedure was repeated until positive flux returned at each iteration.\n"
     ]
    },
    {
     "name": "stderr",
     "output_type": "stream",
     "text": [
      " 71%|████████████████████████████▉            | 493/698 [35:19<15:00,  4.39s/it]"
     ]
    },
    {
     "name": "stdout",
     "output_type": "stream",
     "text": [
      "[INFO] Negative monte carlo fluxes at index 492 in bands ['jwst.nircam.F115W', 'jwst.nircam.F150W', 'jwst.nircam.F200W', 'jwst.nircam.F277W', 'jwst.nircam.F356W', 'jwst.nircam.F410M', 'jwst.nircam.F444W'] with S/N ['0.04', '0.06', '0.11', '0.07', '0.02', '0.02', '0.45']. Monte carlo procedure was repeated until positive flux returned at each iteration.\n"
     ]
    },
    {
     "name": "stderr",
     "output_type": "stream",
     "text": [
      " 73%|██████████████████████████████▏          | 513/698 [36:42<12:21,  4.01s/it]"
     ]
    },
    {
     "name": "stdout",
     "output_type": "stream",
     "text": [
      "[INFO] Negative monte carlo fluxes at index 512 in bands ['jwst.miri.F1000W'] with S/N ['2.21']. Monte carlo procedure was repeated until positive flux returned at each iteration.\n"
     ]
    },
    {
     "name": "stderr",
     "output_type": "stream",
     "text": [
      " 76%|███████████████████████████████          | 529/698 [37:49<12:02,  4.27s/it]"
     ]
    },
    {
     "name": "stdout",
     "output_type": "stream",
     "text": [
      "[INFO] Negative monte carlo fluxes at index 528 in bands ['jwst.miri.F1000W'] with S/N ['0.69']. Monte carlo procedure was repeated until positive flux returned at each iteration.\n"
     ]
    },
    {
     "name": "stderr",
     "output_type": "stream",
     "text": [
      " 77%|███████████████████████████████▋         | 540/698 [38:44<14:11,  5.39s/it]"
     ]
    },
    {
     "name": "stdout",
     "output_type": "stream",
     "text": [
      "[INFO] Negative monte carlo fluxes at index 539 in bands ['jwst.miri.F1000W'] with S/N ['1.25']. Monte carlo procedure was repeated until positive flux returned at each iteration.\n"
     ]
    },
    {
     "name": "stderr",
     "output_type": "stream",
     "text": [
      " 81%|█████████████████████████████████        | 562/698 [40:47<12:15,  5.41s/it]"
     ]
    },
    {
     "name": "stdout",
     "output_type": "stream",
     "text": [
      "[INFO] Negative monte carlo fluxes at index 561 in bands ['jwst.miri.F1500W'] with S/N ['3.33']. Monte carlo procedure was repeated until positive flux returned at each iteration.\n"
     ]
    },
    {
     "name": "stderr",
     "output_type": "stream",
     "text": [
      " 85%|██████████████████████████████████▉      | 595/698 [43:36<08:10,  4.77s/it]"
     ]
    },
    {
     "name": "stdout",
     "output_type": "stream",
     "text": [
      "[INFO] Negative monte carlo fluxes at index 594 in bands ['jwst.miri.F1000W'] with S/N ['0.97']. Monte carlo procedure was repeated until positive flux returned at each iteration.\n"
     ]
    },
    {
     "name": "stderr",
     "output_type": "stream",
     "text": [
      " 89%|████████████████████████████████████▍    | 620/698 [45:57<07:45,  5.97s/it]"
     ]
    },
    {
     "name": "stdout",
     "output_type": "stream",
     "text": [
      "[INFO] Negative monte carlo fluxes at index 619 in bands ['jwst.miri.F2100W'] with S/N ['3.03']. Monte carlo procedure was repeated until positive flux returned at each iteration.\n"
     ]
    },
    {
     "name": "stderr",
     "output_type": "stream",
     "text": [
      " 92%|█████████████████████████████████████▋   | 641/698 [47:33<03:48,  4.01s/it]"
     ]
    },
    {
     "name": "stdout",
     "output_type": "stream",
     "text": [
      "[INFO] Negative monte carlo fluxes at index 640 in bands ['jwst.miri.F1000W'] with S/N ['2.29']. Monte carlo procedure was repeated until positive flux returned at each iteration.\n"
     ]
    },
    {
     "name": "stderr",
     "output_type": "stream",
     "text": [
      " 92%|█████████████████████████████████████▋   | 642/698 [47:37<03:42,  3.98s/it]"
     ]
    },
    {
     "name": "stdout",
     "output_type": "stream",
     "text": [
      "[INFO] Negative monte carlo fluxes at index 641 in bands ['jwst.miri.F1000W'] with S/N ['1.98']. Monte carlo procedure was repeated until positive flux returned at each iteration.\n"
     ]
    },
    {
     "name": "stderr",
     "output_type": "stream",
     "text": [
      " 95%|███████████████████████████████████████  | 665/698 [49:08<02:11,  3.98s/it]"
     ]
    },
    {
     "name": "stdout",
     "output_type": "stream",
     "text": [
      "[INFO] Negative monte carlo fluxes at index 664 in bands ['jwst.miri.F1000W'] with S/N ['3.22']. Monte carlo procedure was repeated until positive flux returned at each iteration.\n"
     ]
    },
    {
     "name": "stderr",
     "output_type": "stream",
     "text": [
      " 97%|███████████████████████████████████████▋ | 676/698 [49:52<01:27,  3.98s/it]"
     ]
    },
    {
     "name": "stdout",
     "output_type": "stream",
     "text": [
      "[INFO] Negative monte carlo fluxes at index 675 in bands ['jwst.miri.F1000W'] with S/N ['1.70']. Monte carlo procedure was repeated until positive flux returned at each iteration.\n"
     ]
    },
    {
     "name": "stderr",
     "output_type": "stream",
     "text": [
      " 97%|███████████████████████████████████████▊ | 677/698 [49:56<01:23,  3.97s/it]"
     ]
    },
    {
     "name": "stdout",
     "output_type": "stream",
     "text": [
      "[INFO] Negative monte carlo fluxes at index 676 in bands ['jwst.miri.F1000W'] with S/N ['0.52']. Monte carlo procedure was repeated until positive flux returned at each iteration.\n"
     ]
    },
    {
     "name": "stderr",
     "output_type": "stream",
     "text": [
      " 99%|████████████████████████████████████████▍| 689/698 [50:43<00:36,  4.00s/it]"
     ]
    },
    {
     "name": "stdout",
     "output_type": "stream",
     "text": [
      "[INFO] Negative monte carlo fluxes at index 688 in bands ['jwst.miri.F1000W'] with S/N ['2.12']. Monte carlo procedure was repeated until positive flux returned at each iteration.\n"
     ]
    },
    {
     "name": "stderr",
     "output_type": "stream",
     "text": [
      "100%|█████████████████████████████████████████| 698/698 [51:20<00:00,  4.41s/it]\n"
     ]
    },
    {
     "ename": "UnboundLocalError",
     "evalue": "cannot access local variable 'model_uncertainty' where it is not associated with a value",
     "output_type": "error",
     "traceback": [
      "\u001b[0;31m---------------------------------------------------------------------------\u001b[0m",
      "\u001b[0;31mUnboundLocalError\u001b[0m                         Traceback (most recent call last)",
      "Cell \u001b[0;32mIn[29], line 1\u001b[0m\n\u001b[0;32m----> 1\u001b[0m model_uncertainty \u001b[38;5;241m=\u001b[39m \u001b[43magnboost\u001b[49m\u001b[38;5;241;43m.\u001b[39;49m\u001b[43mprediction_uncertainty\u001b[49m\u001b[43m(\u001b[49m\u001b[43m \u001b[49m\u001b[43muncertainty_type\u001b[49m\u001b[43m \u001b[49m\u001b[38;5;241;43m=\u001b[39;49m\u001b[43m \u001b[49m\u001b[38;5;124;43m'\u001b[39;49m\u001b[38;5;124;43mphotometric\u001b[39;49m\u001b[38;5;124;43m'\u001b[39;49m\u001b[43m,\u001b[49m\u001b[43m \u001b[49m\u001b[43mmodel_name\u001b[49m\u001b[43m \u001b[49m\u001b[38;5;241;43m=\u001b[39;49m\u001b[43m \u001b[49m\u001b[38;5;124;43m'\u001b[39;49m\u001b[38;5;124;43magn.fracAGN\u001b[39;49m\u001b[38;5;124;43m'\u001b[39;49m\u001b[43m,\u001b[49m\u001b[43m \u001b[49m\u001b[43mcatalog\u001b[49m\u001b[43m \u001b[49m\u001b[38;5;241;43m=\u001b[39;49m\u001b[43m \u001b[49m\u001b[43mmega_catalog\u001b[49m\u001b[43m)\u001b[49m\n",
      "File \u001b[0;32m~/Documents/agnboost/agnboost/model.py:909\u001b[0m, in \u001b[0;36mAGNBoost.prediction_uncertainty\u001b[0;34m(self, uncertainty_type, catalog, model_name, split_use, seed, M, num_permutation)\u001b[0m\n\u001b[1;32m    889\u001b[0m \u001b[38;5;66;03m# Load the saved model + validate the features\u001b[39;00m\n\u001b[1;32m    890\u001b[0m xgblss_m \u001b[38;5;241m=\u001b[39m \u001b[38;5;28mself\u001b[39m\u001b[38;5;241m.\u001b[39mget_model(model_name)\n\u001b[1;32m    892\u001b[0m \u001b[38;5;28;01mmatch\u001b[39;00m uncertainty_type:\n\u001b[1;32m    893\u001b[0m     \u001b[38;5;28;01mcase\u001b[39;00m \u001b[38;5;124m'\u001b[39m\u001b[38;5;124mmodel\u001b[39m\u001b[38;5;124m'\u001b[39m:\n\u001b[1;32m    894\u001b[0m         model_uncertainty \u001b[38;5;241m=\u001b[39m \u001b[38;5;28mself\u001b[39m\u001b[38;5;241m.\u001b[39mmodel_uncertainty( model \u001b[38;5;241m=\u001b[39m xgblss_m,\n\u001b[1;32m    895\u001b[0m                                                      data \u001b[38;5;241m=\u001b[39m dmatrix, \n\u001b[1;32m    896\u001b[0m                                                      dist_name \u001b[38;5;241m=\u001b[39m \u001b[38;5;28mself\u001b[39m\u001b[38;5;241m.\u001b[39mtarget_variables[model_name],\n\u001b[1;32m    897\u001b[0m                                                      best_iter \u001b[38;5;241m=\u001b[39m xgblss_m\u001b[38;5;241m.\u001b[39mbooster\u001b[38;5;241m.\u001b[39mbest_iteration, \n\u001b[1;32m    898\u001b[0m                                                      M \u001b[38;5;241m=\u001b[39m M\n\u001b[1;32m    899\u001b[0m                                                      )\n\u001b[1;32m    900\u001b[0m         \u001b[38;5;28;01mreturn\u001b[39;00m model_uncertainty\n\u001b[1;32m    901\u001b[0m \n\u001b[1;32m    902\u001b[0m     \u001b[38;5;28;01mcase\u001b[39;00m \u001b[38;5;124m'\u001b[39m\u001b[38;5;124mphotometric\u001b[39m\u001b[38;5;124m'\u001b[39m:\n\u001b[1;32m    903\u001b[0m         uncertainty_from_phot_err \u001b[38;5;241m=\u001b[39m \u001b[38;5;28mself\u001b[39m\u001b[38;5;241m.\u001b[39muncertainty_phot( model \u001b[38;5;241m=\u001b[39mxgblss_m,\n\u001b[1;32m    904\u001b[0m                                                             catalog \u001b[38;5;241m=\u001b[39m catalog,\n\u001b[1;32m    905\u001b[0m                                                             dist_name \u001b[38;5;241m=\u001b[39m \u001b[38;5;28mself\u001b[39m\u001b[38;5;241m.\u001b[39mtarget_variables[model_name],\n\u001b[1;32m    906\u001b[0m                                                             num_permutation \u001b[38;5;241m=\u001b[39m num_permutation,\n\u001b[1;32m    907\u001b[0m                                                             seed \u001b[38;5;241m=\u001b[39m seed\n\u001b[1;32m    908\u001b[0m                                                             )\n\u001b[0;32m--> 909\u001b[0m         \u001b[38;5;28;01mreturn\u001b[39;00m \u001b[43mmodel_uncertainty\u001b[49m\n\u001b[1;32m    910\u001b[0m \n\u001b[1;32m    911\u001b[0m     \u001b[38;5;28;01mcase\u001b[39;00m \u001b[38;5;124m'\u001b[39m\u001b[38;5;124mall\u001b[39m\u001b[38;5;124m'\u001b[39m:\n\u001b[1;32m    912\u001b[0m         model_uncertainty \u001b[38;5;241m=\u001b[39m \u001b[38;5;28mself\u001b[39m\u001b[38;5;241m.\u001b[39mmodel_uncertainty( model \u001b[38;5;241m=\u001b[39m xgblss_m,\n\u001b[1;32m    913\u001b[0m                                                      data \u001b[38;5;241m=\u001b[39m dmatrix, \n\u001b[1;32m    914\u001b[0m                                                      dist_name \u001b[38;5;241m=\u001b[39m \u001b[38;5;28mself\u001b[39m\u001b[38;5;241m.\u001b[39mtarget_variables[model_name],\n\u001b[1;32m    915\u001b[0m                                                      best_iter \u001b[38;5;241m=\u001b[39m xgblss_m\u001b[38;5;241m.\u001b[39mbooster\u001b[38;5;241m.\u001b[39mbest_iteration, \n\u001b[1;32m    916\u001b[0m                                                      M \u001b[38;5;241m=\u001b[39m M\n\u001b[1;32m    917\u001b[0m                                                      )\n\u001b[1;32m    918\u001b[0m \n\u001b[1;32m    919\u001b[0m         uncertainty_from_phot_err \u001b[38;5;241m=\u001b[39m \u001b[38;5;28mself\u001b[39m\u001b[38;5;241m.\u001b[39muncertainty_phot( model \u001b[38;5;241m=\u001b[39mxgblss_m,\n\u001b[1;32m    920\u001b[0m                                                             catalog \u001b[38;5;241m=\u001b[39m catalog,\n\u001b[1;32m    921\u001b[0m                                                             dist_name \u001b[38;5;241m=\u001b[39m \u001b[38;5;28mself\u001b[39m\u001b[38;5;241m.\u001b[39mtarget_variables[model_name],\n\u001b[1;32m    922\u001b[0m                                                             num_permutation \u001b[38;5;241m=\u001b[39m num_permutation,\n\u001b[1;32m    923\u001b[0m                                                             seed \u001b[38;5;241m=\u001b[39m seed\n\u001b[1;32m    924\u001b[0m                                                             )\n\u001b[1;32m    925\u001b[0m \n\u001b[1;32m    926\u001b[0m         \u001b[38;5;28;01mreturn\u001b[39;00m np\u001b[38;5;241m.\u001b[39marray( [np\u001b[38;5;241m.\u001b[39msqrt(model_uncertainty[i]\u001b[38;5;241m*\u001b[39m\u001b[38;5;241m*\u001b[39m\u001b[38;5;241m2\u001b[39m \u001b[38;5;241m+\u001b[39m uncertainty_from_phot_err[i]\u001b[38;5;241m*\u001b[39m\u001b[38;5;241m*\u001b[39m\u001b[38;5;241m2\u001b[39m) \u001b[38;5;28;01mfor\u001b[39;00m i \u001b[38;5;129;01min\u001b[39;00m \u001b[38;5;28mrange\u001b[39m( catalog\u001b[38;5;241m.\u001b[39mget_length() )] )\n\u001b[1;32m    928\u001b[0m \u001b[38;5;28;01mreturn\u001b[39;00m \u001b[38;5;28;01mNone\u001b[39;00m\n",
      "\u001b[0;31mUnboundLocalError\u001b[0m: cannot access local variable 'model_uncertainty' where it is not associated with a value"
     ]
    }
   ],
   "source": [
    "model_uncertainty = agnboost.prediction_uncertainty( uncertainty_type = 'photometric', model_name = 'agn.fracAGN', catalog = mega_catalog)"
   ]
  },
  {
   "cell_type": "code",
   "execution_count": 45,
   "id": "0919d130-ecfe-439b-af49-3b198e8accc0",
   "metadata": {},
   "outputs": [
    {
     "data": {
      "text/plain": [
       "['jwst.nircam.F115W',\n",
       " 'jwst.nircam.F150W',\n",
       " 'jwst.nircam.F200W',\n",
       " 'jwst.nircam.F277W',\n",
       " 'jwst.nircam.F356W',\n",
       " 'jwst.nircam.F410M',\n",
       " 'jwst.nircam.F444W',\n",
       " 'jwst.miri.F770W',\n",
       " 'jwst.miri.F1000W',\n",
       " 'jwst.miri.F1500W',\n",
       " 'jwst.miri.F2100W']"
      ]
     },
     "execution_count": 45,
     "metadata": {},
     "output_type": "execute_result"
    }
   ],
   "source": [
    "catalog.get_valid_bands_list()"
   ]
  },
  {
   "cell_type": "code",
   "execution_count": 44,
   "id": "3efbbbbd-d3f1-43f2-90ba-d12bdb04f8b2",
   "metadata": {},
   "outputs": [
    {
     "data": {
      "text/plain": [
       "(10000, 26)"
      ]
     },
     "execution_count": 44,
     "metadata": {},
     "output_type": "execute_result"
    }
   ],
   "source": [
    "catalog.data.shape"
   ]
  },
  {
   "cell_type": "code",
   "execution_count": null,
   "id": "8079f220-9138-4d79-b14e-1f60b13ddaf6",
   "metadata": {},
   "outputs": [],
   "source": []
  }
 ],
 "metadata": {
  "kernelspec": {
   "display_name": "Python 3 (ipykernel)",
   "language": "python",
   "name": "python3"
  },
  "language_info": {
   "codemirror_mode": {
    "name": "ipython",
    "version": 3
   },
   "file_extension": ".py",
   "mimetype": "text/x-python",
   "name": "python",
   "nbconvert_exporter": "python",
   "pygments_lexer": "ipython3",
   "version": "3.11.4"
  }
 },
 "nbformat": 4,
 "nbformat_minor": 5
}
