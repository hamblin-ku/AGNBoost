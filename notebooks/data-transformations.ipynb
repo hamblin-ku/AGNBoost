{
 "cells": [
  {
   "cell_type": "markdown",
   "id": "e2999ab5-bd67-47f8-82b4-35c666250f7c",
   "metadata": {},
   "source": [
    "# Data transformations\n",
    "\n",
    "This notebook demonstrates how to customize AGNBoost to your data needs through:\n",
    "\n",
    "1. Custom feature creation. \n",
    "2. Applying transformations to your target variables.\n",
    "\n",
    "Let's start by importing the necessary libraries and loading our data."
   ]
  },
  {
   "cell_type": "code",
   "execution_count": 1,
   "id": "a5fe803d-ab16-4129-8063-1c82e7269e05",
   "metadata": {},
   "outputs": [],
   "source": [
    "%load_ext autoreload\n",
    "%autoreload 2"
   ]
  },
  {
   "cell_type": "code",
   "execution_count": 5,
   "id": "c1d413c9-7c2f-4e9c-9058-82f7c0cccb25",
   "metadata": {},
   "outputs": [
    {
     "name": "stdout",
     "output_type": "stream",
     "text": [
      "AGNBoost Basic Usage Tutorial\n",
      "========================================\n"
     ]
    }
   ],
   "source": [
    "# Set agnboost folder as root\n",
    "import os\n",
    "os.chdir(os.path.expanduser(\"/home/kurt/Documents/agnboost/\"))\n",
    "\n",
    "# Import necessary libraries\n",
    "import numpy as np\n",
    "import pandas as pd\n",
    "from agnboost import dataset, model\n",
    "#from sklearn.metrics import mean_squared_error\n",
    "\n",
    "# Set random seed for reproducibility\n",
    "np.random.seed(123)\n",
    "\n",
    "print(\"AGNBoost Basic Usage Tutorial\")\n",
    "print(\"=\" * 40)"
   ]
  },
  {
   "cell_type": "markdown",
   "id": "679d6ef8-add9-4e8f-a6fa-b18ac0cfa276",
   "metadata": {},
   "source": [
    "## Loading the Data\n",
    "\n",
    "We'll use the Catalog class to load our astronomical dataset. The `models-block-0.fits` file contains photometric measurements and AGN fraction labels for our analysis."
   ]
  },
  {
   "cell_type": "code",
   "execution_count": 6,
   "id": "8b79da87-789e-4088-a35f-927491cfead8",
   "metadata": {},
   "outputs": [
    {
     "name": "stdout",
     "output_type": "stream",
     "text": [
      "Current working directory: /home/kurt/Documents/agnboost\n",
      "Looking for bands file at: /home/kurt/Documents/agnboost/allowed_bands.json\n",
      "[INFO] Loaded bands file metadata: This file contains the allowed photometric bands for JWST\n",
      "[INFO] Loaded 11 allowed bands from agnboost/allowed_bands.json\n",
      "[INFO] Attempting to load file with delimiter: ','\n",
      "[INFO] Successfully loaded data with 1000 rows.\n",
      "[INFO] Found 11 valid band columns:\n",
      "[INFO]   - jwst.nircam.F115W (F115W): 1.154 μm\n",
      "[INFO]   - jwst.nircam.F150W (F150W): 1.501 μm\n",
      "[INFO]   - jwst.nircam.F200W (F200W): 1.988 μm\n",
      "[INFO]   - jwst.nircam.F277W (F277W): 2.776 μm\n",
      "[INFO]   - jwst.nircam.F356W (F356W): 3.565 μm\n",
      "[INFO]   - jwst.nircam.F410M (F410M): 4.083 μm\n",
      "[INFO]   - jwst.nircam.F444W (F444W): 4.402 μm\n",
      "[INFO]   - jwst.miri.F770W (F770W): 7.7 μm\n",
      "[INFO]   - jwst.miri.F1000W (F1000W): 10.0 μm\n",
      "[INFO]   - jwst.miri.F1500W (F1500W): 15.0 μm\n",
      "[INFO]   - jwst.miri.F2100W (F2100W): 21.0 μm\n"
     ]
    }
   ],
   "source": [
    "# Load the astronomical data using the Catalog class\n",
    "catalog = dataset.Catalog(path=\"data/cigale_mock_small.csv\",summarize = False)\n"
   ]
  },
  {
   "cell_type": "markdown",
   "id": "3144d913-ebd2-4987-be00-b319aecef60b",
   "metadata": {},
   "source": [
    "There are no-nan rows to remove since the CIGALE mock data we loaded has none, but your real data might."
   ]
  },
  {
   "cell_type": "markdown",
   "id": "ff7a9c97-2b1c-484d-a820-40292f3f0701",
   "metadata": {},
   "source": [
    "## Creating Features\n",
    "\n",
    "AGNBoost automatically engineers features from photometric data, including colors and transformations. Let's create the feature dataframe that will be used for modeling.\n",
    "\n",
    "By default, AGNBoost will create a features consisting of the photometric bands + derived colors + the squares of those derived colors"
   ]
  },
  {
   "cell_type": "code",
   "execution_count": 14,
   "id": "26883190-dbcb-4f68-9359-c2db0a59b3ab",
   "metadata": {},
   "outputs": [
    {
     "name": "stdout",
     "output_type": "stream",
     "text": [
      "[INFO] Created feature dataframe with 121 columns and 1000 rows.\n",
      "Feature engineering complete:\n",
      "  Feature dataframe shape: (1000, 121)\n"
     ]
    }
   ],
   "source": [
    "# Create features for modeling\n",
    "catalog.create_feature_dataframe()\n",
    "\n",
    "# Get information about created features\n",
    "features = catalog.get_features()\n",
    "print(f\"Feature engineering complete:\")\n",
    "print(f\"  Feature dataframe shape: {features.shape}\")\n"
   ]
  },
  {
   "cell_type": "code",
   "execution_count": 15,
   "id": "80c6f56c-8dec-4d66-aefe-223f857a53cd",
   "metadata": {},
   "outputs": [
    {
     "name": "stdout",
     "output_type": "stream",
     "text": [
      "     jwst.nircam.F115W  jwst.nircam.F150W  jwst.nircam.F200W  \\\n",
      "0            -5.023679          -4.481445          -3.904872   \n",
      "1            -1.894243          -1.105450          -0.396389   \n",
      "2            -0.487316          -0.497980          -0.479759   \n",
      "3            -5.079519          -4.496838          -4.066625   \n",
      "4            -3.625131          -3.502294          -3.353756   \n",
      "..                 ...                ...                ...   \n",
      "995          -1.286971          -1.147989          -0.972435   \n",
      "996          -1.428387          -1.285736          -1.110556   \n",
      "997          -2.655916          -2.286756          -1.873670   \n",
      "998          -3.640091          -3.444642          -3.111316   \n",
      "999          -0.081750           0.434442           0.832730   \n",
      "\n",
      "     jwst.nircam.F277W  jwst.nircam.F356W  jwst.nircam.F410M  \\\n",
      "0            -3.300921          -2.936896          -2.782763   \n",
      "1             0.157887           0.425068           0.523924   \n",
      "2            -0.601100          -0.690472          -0.736801   \n",
      "3            -3.731772          -3.551521          -3.457974   \n",
      "4            -3.231128          -3.198715          -3.252496   \n",
      "..                 ...                ...                ...   \n",
      "995          -0.940300          -0.572513          -0.458601   \n",
      "996          -1.127532          -0.695250          -0.877404   \n",
      "997          -1.445305          -1.246723          -1.171347   \n",
      "998          -2.709937          -2.529594          -2.432267   \n",
      "999           1.103731           1.246519           1.278097   \n",
      "\n",
      "     jwst.nircam.F444W  jwst.miri.F770W  jwst.miri.F1000W  jwst.miri.F1500W  \\\n",
      "0            -2.704795        -2.426510         -2.410663         -2.083535   \n",
      "1             0.562345         0.668717          0.570515          0.712003   \n",
      "2            -0.728747        -0.873296         -0.745437         -0.709590   \n",
      "3            -3.424121        -3.223377         -3.252811         -3.052458   \n",
      "4            -3.240038        -3.091754         -2.511556         -2.181637   \n",
      "..                 ...              ...               ...               ...   \n",
      "995          -0.616807         0.107259          0.425429          0.447311   \n",
      "996          -0.889050         0.162048          0.336331          0.454939   \n",
      "997          -1.135927        -1.039046         -0.970273         -0.836184   \n",
      "998          -2.356290        -2.112265         -2.202945         -1.683382   \n",
      "999           1.299065         1.527200          1.440988          1.651107   \n",
      "\n",
      "     ...  F356W/F277W^2  F356W/F200W^2  F356W/F150W^2  F356W/F115W^2  \\\n",
      "0    ...       0.132514       0.936978       2.385631       4.354661   \n",
      "1    ...       0.071386       0.674792       2.342487       5.379207   \n",
      "2    ...       0.007987       0.044400       0.037053       0.041273   \n",
      "3    ...       0.032491       0.265333       0.893625       2.334779   \n",
      "4    ...       0.001051       0.024038       0.092161       0.181831   \n",
      "..   ...            ...            ...            ...            ...   \n",
      "995  ...       0.135268       0.159938       0.331173       0.510451   \n",
      "996  ...       0.186867       0.172480       0.348674       0.537490   \n",
      "997  ...       0.039435       0.393063       1.081669       1.985823   \n",
      "998  ...       0.032524       0.338400       0.837314       1.233204   \n",
      "999  ...       0.020388       0.171221       0.659469       1.764298   \n",
      "\n",
      "     F277W/F200W^2  F277W/F150W^2  F277W/F115W^2  F200W/F150W^2  \\\n",
      "0         0.364758       1.393638       2.967896       0.332436   \n",
      "1         0.307222       1.596022       4.211241       0.502768   \n",
      "2         0.014724       0.010634       0.012947       0.000332   \n",
      "3         0.112126       0.585326       1.816422       0.185083   \n",
      "4         0.015038       0.073531       0.155238       0.022064   \n",
      "..             ...            ...            ...            ...   \n",
      "995       0.001033       0.043135       0.120181       0.030819   \n",
      "996       0.000288       0.025029       0.090514       0.030688   \n",
      "997       0.183497       0.708040       1.465578       0.170640   \n",
      "998       0.161105       0.539791       0.865185       0.111107   \n",
      "999       0.073441       0.447948       1.405365       0.158634   \n",
      "\n",
      "     F200W/F115W^2  F150W/F115W^2  \n",
      "0         1.251728       0.294017  \n",
      "1         2.243569       0.622195  \n",
      "2         0.000057       0.000114  \n",
      "3         1.025954       0.339517  \n",
      "4         0.073644       0.015089  \n",
      "..             ...            ...  \n",
      "995       0.098933       0.019316  \n",
      "996       0.101016       0.020349  \n",
      "997       0.611908       0.136279  \n",
      "998       0.279603       0.038200  \n",
      "999       0.836274       0.266454  \n",
      "\n",
      "[1000 rows x 121 columns]\n"
     ]
    }
   ],
   "source": [
    "print(features)"
   ]
  },
  {
   "cell_type": "code",
   "execution_count": 13,
   "id": "cb3f2a12-66b1-4772-8dad-feedce0369f3",
   "metadata": {},
   "outputs": [
    {
     "name": "stdout",
     "output_type": "stream",
     "text": [
      "[INFO] Applied custom feature function <lambda>: added 11 features.\n",
      "[INFO] Applied custom feature function <lambda>: added 11 features.\n",
      "[INFO] Created feature dataframe with 22 columns and 1000 rows.\n",
      "Feature engineering complete:\n",
      "  Feature dataframe shape: (1000, 22)\n"
     ]
    }
   ],
   "source": [
    "funcs = [ (lambda x: np.log10(x), 'phots'),\n",
    "           \n",
    "            ('colors', 'all')\n",
    "          (lambda x: x**2, 'colors'),\n",
    "        ]\n",
    "\n",
    "\n",
    "# add function to manually set the feature dataframe for more complex feature engineering\n",
    "# You could for exmaple create default feature Dataframe. Load it, take only the columns you want, and save taht back to the self.features_df\n",
    "#  \n",
    "            \n",
    "# jusat need a saved variable to track whether a custom feature dataframe has been saved. (for photometric error propagation)\n",
    "#   this will disable the buolt-in photometric uncertaitny propagation, users will have to do it thyemselves\n",
    "}\n",
    "\n",
    "# Create features for modeling\n",
    "catalog.create_feature_dataframe( feature_funcs = funcs)\n",
    "\n",
    "# Get information about created features\n",
    "features = catalog.get_features()\n",
    "print(f\"Feature engineering complete:\")\n",
    "print(f\"  Feature dataframe shape: {features.shape}\")\n"
   ]
  },
  {
   "cell_type": "markdown",
   "id": "f11e154d-69d0-49b1-b74c-aa61c0d8483e",
   "metadata": {},
   "source": [
    "## Loading the Pre-trained Model\n",
    "\n",
    "AGNBoost comes with pre-trained models for common astronomical tasks. We'll load the model specifically trained for AGN fraction estimation (`agn.fracAGN`).\n",
    "\n",
    "The `load_models()` method automatically:\n",
    "- Checks for compatible pre-trained models\n",
    "- Validates feature compatibility between the model and our data\n",
    "- Loads model metadata including training parameters and performance metrics"
   ]
  },
  {
   "cell_type": "code",
   "execution_count": 42,
   "id": "590e76a3-04d6-4c4f-81ec-6ef6d0058bfa",
   "metadata": {},
   "outputs": [
    {
     "name": "stderr",
     "output_type": "stream",
     "text": [
      "2025-05-31 15:21:39,911 - AGNBoost.AGNBoost - WARNING - No file_name passed. Using the most recently modified one instead: 2025_05_22-PM06_59_58_agn.fracAGN_model.pkl.gz.\n"
     ]
    },
    {
     "name": "stdout",
     "output_type": "stream",
     "text": [
      "✅ Pre-trained model loaded successfully!\n",
      "\n",
      "Model information:\n",
      "  Best validation score: -649218.125000\n",
      "  Number of features: 121\n"
     ]
    }
   ],
   "source": [
    "# Initialize an AGNBoost model. The target variable is the name of the target variable column, and its value in the passed dictionary is the distribution used to model it.\n",
    "agnboost_m = model.AGNBoost( feature_names = catalog.get_feature_names(),\n",
    "                          target_variables = {'agn.fracAGN' : 'ZABeta'},\n",
    "                         )\n",
    "\n",
    "# Load pre-trained models. We will not pass a filename to load, and will simply the the most recent fracAGN model.\n",
    "agnboost_m.load_model(model_name = 'fracAGN', overwrite = True)\n",
    "\n",
    "if agnboost_m.models['agn.fracAGN'] is not None:\n",
    "    print(\"✅ Pre-trained model loaded successfully!\")\n",
    "    \n",
    "    # Display model information\n",
    "    model_info = agnboost_m.model_info.get('agn.fracAGN', {})\n",
    "    if model_info:\n",
    "        print(\"\\nModel information:\")\n",
    "        if 'training_timestamp' in model_info:\n",
    "            print(f\"  Trained: {model_info['training_timestamp']}\")\n",
    "        if 'best_score' in model_info:\n",
    "            print(f\"  Best validation score: {model_info['best_score']:.6f}\")\n",
    "        if 'features' in model_info:\n",
    "            print(f\"  Number of features: {len(model_info['features'])}\")\n",
    "else:\n",
    "    print(\"❌ No pre-trained models found!\")\n",
    "    print(\"You may need to train a new model or check the models directory.\")"
   ]
  },
  {
   "cell_type": "markdown",
   "id": "1a7c0da7-4e33-48a5-9a61-0d2272bf0649",
   "metadata": {},
   "source": [
    "## Making Predictions\n",
    "\n",
    "Now we'll use our loaded model to predict AGN fractions for the test set. AGNBoost seamlessly handles the conversion of our catalog data into the format required by the underlying XGBoost model.\n",
    "\n",
    "The prediction process uses the engineered features (colors, log magnitudes, etc.) that were automatically created from our photometric band data."
   ]
  },
  {
   "cell_type": "code",
   "execution_count": 43,
   "id": "ce129cb0-80a7-4a26-b45c-357feb219538",
   "metadata": {},
   "outputs": [
    {
     "name": "stderr",
     "output_type": "stream",
     "text": [
      "2025-05-31 15:21:49,999 - AGNBoost.AGNBoost - WARNING - Catalog object passsed. Taking the features and labels of the test set stored in the passed Catalog.\n",
      "2025-05-31 15:21:49,999 - AGNBoost.Catalog - WARNING - Data has not been split. Running split_data with default parameters.\n"
     ]
    },
    {
     "name": "stdout",
     "output_type": "stream",
     "text": [
      "  Mean: 0.509088\n",
      "  Std: 0.318490\n",
      "  Min: 0.000142\n",
      "  Max: 0.989471\n"
     ]
    }
   ],
   "source": [
    "# Make predictions on the test set\n",
    "#agnboost_m.models['agn.fracAGN'].booster.set_param( {'device': 'cpu'})\n",
    "preds = agnboost_m.predict( data = catalog, split_use = 'test', model_name = 'agn.fracAGN')\n",
    "\n",
    "print(f\"  Mean: {np.mean(preds):.6f}\")\n",
    "print(f\"  Std: {np.std(preds):.6f}\")\n",
    "print(f\"  Min: {np.min(preds):.6f}\")\n",
    "print(f\"  Max: {np.max(preds):.6f}\")\n"
   ]
  },
  {
   "cell_type": "markdown",
   "id": "2a532c6a-744f-490a-9989-3379efcebd96",
   "metadata": {},
   "source": [
    "## Quantifying Prediction Uncertainty\n",
    "\n",
    "One of AGNBoost's key advantages is its ability to provide robust uncertainty estimates through XGBoostLSS distributional modeling. Rather than just point estimates, we get full uncertainty quantification for each prediction.\n",
    "\n",
    "The `prediction_uncertainty()` method returns uncertainty estimates that account for both model uncertainty and the inherent variability in the data. This is crucial for astronomical applications where understanding prediction confidence is essential for scientific interpretation.\n",
    "\n",
    "Since the loaded data is a CIGALE mock catalog with no photometric uncertainty, we will only estimate the model (aleatoric + epistemic) uncertainty for each source."
   ]
  },
  {
   "cell_type": "code",
   "execution_count": null,
   "id": "6e06ebd1-294a-4f96-854f-c37c98649a25",
   "metadata": {},
   "outputs": [
    {
     "name": "stderr",
     "output_type": "stream",
     "text": [
      "2025-05-31 15:25:50,654 - AGNBoost.AGNBoost - WARNING - Catalog object passsed. Taking the features and labels of the None set stored in the passed Catalog.\n",
      "Processing truncated model uncertainty:  36%|▎| 362/1000 [02:56<05:26,  1.95it/s"
     ]
    }
   ],
   "source": [
    "model_uncertainty = agnboost_m.prediction_uncertainty( uncertainty_type = 'model', model_name = 'agn.fracAGN', catalog = catalog)\n",
    "\n",
    "print(f\"✅ Uncertainty estimates generated\")\n",
    "print(f\"Uncertainty statistics:\")\n",
    "print(f\"  Mean uncertainty: {np.mean(model_uncertainty):.6f}\")\n",
    "print(f\"  Std uncertainty: {np.std(model_uncertainty):.6f}\")\n",
    "print(f\"  Min uncertainty: {np.min(model_uncertainty):.6f}\")\n",
    "print(f\"  Max uncertainty: {np.max(model_uncertainty):.6f}\")"
   ]
  },
  {
   "cell_type": "code",
   "execution_count": null,
   "id": "4b52cc31-203d-44c1-9c40-825f62ccb80a",
   "metadata": {},
   "outputs": [],
   "source": []
  }
 ],
 "metadata": {
  "kernelspec": {
   "display_name": "Python 3 (ipykernel)",
   "language": "python",
   "name": "python3"
  },
  "language_info": {
   "codemirror_mode": {
    "name": "ipython",
    "version": 3
   },
   "file_extension": ".py",
   "mimetype": "text/x-python",
   "name": "python",
   "nbconvert_exporter": "python",
   "pygments_lexer": "ipython3",
   "version": "3.11.4"
  }
 },
 "nbformat": 4,
 "nbformat_minor": 5
}
